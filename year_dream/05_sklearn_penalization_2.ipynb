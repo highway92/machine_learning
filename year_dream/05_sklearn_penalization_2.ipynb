{
  "cells": [
    {
      "cell_type": "markdown",
      "metadata": {
        "id": "view-in-github",
        "colab_type": "text"
      },
      "source": [
        "<a href=\"https://colab.research.google.com/github/highway92/machine_learning/blob/main/year_dream/05_sklearn_penalization_2.ipynb\" target=\"_parent\"><img src=\"https://colab.research.google.com/assets/colab-badge.svg\" alt=\"Open In Colab\"/></a>"
      ]
    },
    {
      "cell_type": "markdown",
      "metadata": {
        "id": "Yxig2hbA5xg-"
      },
      "source": [
        "In this notebook we will explore the three methods and compare their results with a multiple linear regression model applied to Boston Housing dataset. The target variable is price and the features are 10 polynomial features of LSTAT: % lower status of the population. LSTAT2=  LSTAT2 , LSTAT3=  LSTAT3 , and etc."
      ]
    },
    {
      "cell_type": "code",
      "execution_count": 1,
      "metadata": {
        "colab": {
          "base_uri": "https://localhost:8080/"
        },
        "id": "tOdm_akq5xhE",
        "outputId": "90c275b8-c5ec-4164-f723-a35d73df0888"
      },
      "outputs": [
        {
          "output_type": "stream",
          "name": "stderr",
          "text": [
            "/usr/local/lib/python3.7/dist-packages/statsmodels/tools/_testing.py:19: FutureWarning: pandas.util.testing is deprecated. Use the functions in the public API at pandas.testing instead.\n",
            "  import pandas.util.testing as tm\n"
          ]
        }
      ],
      "source": [
        "import numpy as np\n",
        "import pandas as pd\n",
        "import matplotlib.pyplot as plt\n",
        "import seaborn as sns\n",
        "from sklearn.linear_model import LinearRegression\n",
        "import statsmodels.api as sm\n",
        "sns.set()  #if you want to use seaborn themes with matplotlib functions\n",
        "import warnings\n",
        "warnings.filterwarnings('ignore')"
      ]
    },
    {
      "cell_type": "code",
      "execution_count": 2,
      "metadata": {
        "id": "D4jFbRW95xhG"
      },
      "outputs": [],
      "source": [
        "rand_state= 1000"
      ]
    },
    {
      "cell_type": "code",
      "execution_count": 3,
      "metadata": {
        "id": "BTKZhj4k5xhH"
      },
      "outputs": [],
      "source": [
        "df = pd.read_csv(\"./Regularization_Boston.csv\")"
      ]
    },
    {
      "cell_type": "code",
      "execution_count": 4,
      "metadata": {
        "colab": {
          "base_uri": "https://localhost:8080/",
          "height": 270
        },
        "id": "8vdMiDaR5xhI",
        "outputId": "8be5cfd8-3dbb-4460-9433-a9a1bf27cea3"
      },
      "outputs": [
        {
          "output_type": "execute_result",
          "data": {
            "text/html": [
              "\n",
              "  <div id=\"df-47f2f4ca-5035-4038-b582-8d71bc6e2806\">\n",
              "    <div class=\"colab-df-container\">\n",
              "      <div>\n",
              "<style scoped>\n",
              "    .dataframe tbody tr th:only-of-type {\n",
              "        vertical-align: middle;\n",
              "    }\n",
              "\n",
              "    .dataframe tbody tr th {\n",
              "        vertical-align: top;\n",
              "    }\n",
              "\n",
              "    .dataframe thead th {\n",
              "        text-align: right;\n",
              "    }\n",
              "</style>\n",
              "<table border=\"1\" class=\"dataframe\">\n",
              "  <thead>\n",
              "    <tr style=\"text-align: right;\">\n",
              "      <th></th>\n",
              "      <th>price</th>\n",
              "      <th>LSTAT</th>\n",
              "      <th>LSTAT2</th>\n",
              "      <th>LSTAT3</th>\n",
              "      <th>LSTAT4</th>\n",
              "      <th>LSTAT5</th>\n",
              "      <th>LSTAT6</th>\n",
              "      <th>LSTAT7</th>\n",
              "      <th>LSTAT8</th>\n",
              "      <th>LSTAT9</th>\n",
              "      <th>LSTAT10</th>\n",
              "    </tr>\n",
              "  </thead>\n",
              "  <tbody>\n",
              "    <tr>\n",
              "      <th>0</th>\n",
              "      <td>24.0</td>\n",
              "      <td>4.98</td>\n",
              "      <td>24.8004</td>\n",
              "      <td>123.505992</td>\n",
              "      <td>615.059840</td>\n",
              "      <td>3062.998004</td>\n",
              "      <td>15253.730060</td>\n",
              "      <td>7.596358e+04</td>\n",
              "      <td>3.782986e+05</td>\n",
              "      <td>1.883927e+06</td>\n",
              "      <td>9.381957e+06</td>\n",
              "    </tr>\n",
              "    <tr>\n",
              "      <th>1</th>\n",
              "      <td>21.6</td>\n",
              "      <td>9.14</td>\n",
              "      <td>83.5396</td>\n",
              "      <td>763.551944</td>\n",
              "      <td>6978.864768</td>\n",
              "      <td>63786.823980</td>\n",
              "      <td>583011.571200</td>\n",
              "      <td>5.328726e+06</td>\n",
              "      <td>4.870455e+07</td>\n",
              "      <td>4.451596e+08</td>\n",
              "      <td>4.068759e+09</td>\n",
              "    </tr>\n",
              "    <tr>\n",
              "      <th>2</th>\n",
              "      <td>34.7</td>\n",
              "      <td>4.03</td>\n",
              "      <td>16.2409</td>\n",
              "      <td>65.450827</td>\n",
              "      <td>263.766833</td>\n",
              "      <td>1062.980336</td>\n",
              "      <td>4283.810755</td>\n",
              "      <td>1.726376e+04</td>\n",
              "      <td>6.957294e+04</td>\n",
              "      <td>2.803790e+05</td>\n",
              "      <td>1.129927e+06</td>\n",
              "    </tr>\n",
              "    <tr>\n",
              "      <th>3</th>\n",
              "      <td>33.4</td>\n",
              "      <td>2.94</td>\n",
              "      <td>8.6436</td>\n",
              "      <td>25.412184</td>\n",
              "      <td>74.711821</td>\n",
              "      <td>219.652754</td>\n",
              "      <td>645.779096</td>\n",
              "      <td>1.898591e+03</td>\n",
              "      <td>5.581856e+03</td>\n",
              "      <td>1.641066e+04</td>\n",
              "      <td>4.824733e+04</td>\n",
              "    </tr>\n",
              "    <tr>\n",
              "      <th>4</th>\n",
              "      <td>36.2</td>\n",
              "      <td>5.33</td>\n",
              "      <td>28.4089</td>\n",
              "      <td>151.419437</td>\n",
              "      <td>807.065599</td>\n",
              "      <td>4301.659644</td>\n",
              "      <td>22927.845900</td>\n",
              "      <td>1.222054e+05</td>\n",
              "      <td>6.513549e+05</td>\n",
              "      <td>3.471722e+06</td>\n",
              "      <td>1.850428e+07</td>\n",
              "    </tr>\n",
              "  </tbody>\n",
              "</table>\n",
              "</div>\n",
              "      <button class=\"colab-df-convert\" onclick=\"convertToInteractive('df-47f2f4ca-5035-4038-b582-8d71bc6e2806')\"\n",
              "              title=\"Convert this dataframe to an interactive table.\"\n",
              "              style=\"display:none;\">\n",
              "        \n",
              "  <svg xmlns=\"http://www.w3.org/2000/svg\" height=\"24px\"viewBox=\"0 0 24 24\"\n",
              "       width=\"24px\">\n",
              "    <path d=\"M0 0h24v24H0V0z\" fill=\"none\"/>\n",
              "    <path d=\"M18.56 5.44l.94 2.06.94-2.06 2.06-.94-2.06-.94-.94-2.06-.94 2.06-2.06.94zm-11 1L8.5 8.5l.94-2.06 2.06-.94-2.06-.94L8.5 2.5l-.94 2.06-2.06.94zm10 10l.94 2.06.94-2.06 2.06-.94-2.06-.94-.94-2.06-.94 2.06-2.06.94z\"/><path d=\"M17.41 7.96l-1.37-1.37c-.4-.4-.92-.59-1.43-.59-.52 0-1.04.2-1.43.59L10.3 9.45l-7.72 7.72c-.78.78-.78 2.05 0 2.83L4 21.41c.39.39.9.59 1.41.59.51 0 1.02-.2 1.41-.59l7.78-7.78 2.81-2.81c.8-.78.8-2.07 0-2.86zM5.41 20L4 18.59l7.72-7.72 1.47 1.35L5.41 20z\"/>\n",
              "  </svg>\n",
              "      </button>\n",
              "      \n",
              "  <style>\n",
              "    .colab-df-container {\n",
              "      display:flex;\n",
              "      flex-wrap:wrap;\n",
              "      gap: 12px;\n",
              "    }\n",
              "\n",
              "    .colab-df-convert {\n",
              "      background-color: #E8F0FE;\n",
              "      border: none;\n",
              "      border-radius: 50%;\n",
              "      cursor: pointer;\n",
              "      display: none;\n",
              "      fill: #1967D2;\n",
              "      height: 32px;\n",
              "      padding: 0 0 0 0;\n",
              "      width: 32px;\n",
              "    }\n",
              "\n",
              "    .colab-df-convert:hover {\n",
              "      background-color: #E2EBFA;\n",
              "      box-shadow: 0px 1px 2px rgba(60, 64, 67, 0.3), 0px 1px 3px 1px rgba(60, 64, 67, 0.15);\n",
              "      fill: #174EA6;\n",
              "    }\n",
              "\n",
              "    [theme=dark] .colab-df-convert {\n",
              "      background-color: #3B4455;\n",
              "      fill: #D2E3FC;\n",
              "    }\n",
              "\n",
              "    [theme=dark] .colab-df-convert:hover {\n",
              "      background-color: #434B5C;\n",
              "      box-shadow: 0px 1px 3px 1px rgba(0, 0, 0, 0.15);\n",
              "      filter: drop-shadow(0px 1px 2px rgba(0, 0, 0, 0.3));\n",
              "      fill: #FFFFFF;\n",
              "    }\n",
              "  </style>\n",
              "\n",
              "      <script>\n",
              "        const buttonEl =\n",
              "          document.querySelector('#df-47f2f4ca-5035-4038-b582-8d71bc6e2806 button.colab-df-convert');\n",
              "        buttonEl.style.display =\n",
              "          google.colab.kernel.accessAllowed ? 'block' : 'none';\n",
              "\n",
              "        async function convertToInteractive(key) {\n",
              "          const element = document.querySelector('#df-47f2f4ca-5035-4038-b582-8d71bc6e2806');\n",
              "          const dataTable =\n",
              "            await google.colab.kernel.invokeFunction('convertToInteractive',\n",
              "                                                     [key], {});\n",
              "          if (!dataTable) return;\n",
              "\n",
              "          const docLinkHtml = 'Like what you see? Visit the ' +\n",
              "            '<a target=\"_blank\" href=https://colab.research.google.com/notebooks/data_table.ipynb>data table notebook</a>'\n",
              "            + ' to learn more about interactive tables.';\n",
              "          element.innerHTML = '';\n",
              "          dataTable['output_type'] = 'display_data';\n",
              "          await google.colab.output.renderOutput(dataTable, element);\n",
              "          const docLink = document.createElement('div');\n",
              "          docLink.innerHTML = docLinkHtml;\n",
              "          element.appendChild(docLink);\n",
              "        }\n",
              "      </script>\n",
              "    </div>\n",
              "  </div>\n",
              "  "
            ],
            "text/plain": [
              "   price  LSTAT   LSTAT2  ...        LSTAT8        LSTAT9       LSTAT10\n",
              "0   24.0   4.98  24.8004  ...  3.782986e+05  1.883927e+06  9.381957e+06\n",
              "1   21.6   9.14  83.5396  ...  4.870455e+07  4.451596e+08  4.068759e+09\n",
              "2   34.7   4.03  16.2409  ...  6.957294e+04  2.803790e+05  1.129927e+06\n",
              "3   33.4   2.94   8.6436  ...  5.581856e+03  1.641066e+04  4.824733e+04\n",
              "4   36.2   5.33  28.4089  ...  6.513549e+05  3.471722e+06  1.850428e+07\n",
              "\n",
              "[5 rows x 11 columns]"
            ]
          },
          "metadata": {},
          "execution_count": 4
        }
      ],
      "source": [
        "df.head()"
      ]
    },
    {
      "cell_type": "code",
      "execution_count": 5,
      "metadata": {
        "colab": {
          "base_uri": "https://localhost:8080/",
          "height": 285
        },
        "id": "zT7wwpBv5xhK",
        "outputId": "8948cde4-32b3-4150-8399-aeaf662cc88c"
      },
      "outputs": [
        {
          "output_type": "display_data",
          "data": {
            "image/png": "[encoded data removed]",
            "text/plain": [
              "<Figure size 432x288 with 1 Axes>"
            ]
          },
          "metadata": {
            "needs_background": "light"
          }
        }
      ],
      "source": [
        "sns.scatterplot(x='LSTAT', y='price', data=df)\n",
        "plt.show()"
      ]
    },
    {
      "cell_type": "markdown",
      "metadata": {
        "id": "3EJ6ScBm5xhK"
      },
      "source": [
        "# 과제: 04_sklearn_penalization_1.ipynb의 과정을 위 데이터셋에 적용해 보는 것입니다!"
      ]
    },
    {
      "cell_type": "markdown",
      "metadata": {
        "id": "-AUDiReH5xhL"
      },
      "source": [
        "# Q1. normalize the features!"
      ]
    },
    {
      "cell_type": "code",
      "execution_count": 6,
      "metadata": {
        "id": "QxXvSY6f5xhN"
      },
      "outputs": [],
      "source": [
        "from sklearn.preprocessing import StandardScaler"
      ]
    },
    {
      "cell_type": "code",
      "execution_count": 7,
      "metadata": {
        "id": "wArfXdtQ5xhO"
      },
      "outputs": [],
      "source": [
        "# Your code\n",
        "scaler = StandardScaler()\n",
        "df_sc = scaler.fit_transform(df)\n"
      ]
    },
    {
      "cell_type": "code",
      "execution_count": 8,
      "metadata": {
        "colab": {
          "base_uri": "https://localhost:8080/",
          "height": 364
        },
        "id": "qYxuBoAx5xhP",
        "outputId": "0902b0d1-f512-4d1a-9285-42a9a3e9633f"
      },
      "outputs": [
        {
          "output_type": "execute_result",
          "data": {
            "text/html": [
              "\n",
              "  <div id=\"df-35780ffb-b6f6-4cc0-bb6b-147e7ec2ba15\">\n",
              "    <div class=\"colab-df-container\">\n",
              "      <div>\n",
              "<style scoped>\n",
              "    .dataframe tbody tr th:only-of-type {\n",
              "        vertical-align: middle;\n",
              "    }\n",
              "\n",
              "    .dataframe tbody tr th {\n",
              "        vertical-align: top;\n",
              "    }\n",
              "\n",
              "    .dataframe thead th {\n",
              "        text-align: right;\n",
              "    }\n",
              "</style>\n",
              "<table border=\"1\" class=\"dataframe\">\n",
              "  <thead>\n",
              "    <tr style=\"text-align: right;\">\n",
              "      <th></th>\n",
              "      <th>price</th>\n",
              "      <th>LSTAT</th>\n",
              "      <th>LSTAT2</th>\n",
              "      <th>LSTAT3</th>\n",
              "      <th>LSTAT4</th>\n",
              "      <th>LSTAT5</th>\n",
              "      <th>LSTAT6</th>\n",
              "      <th>LSTAT7</th>\n",
              "      <th>LSTAT8</th>\n",
              "      <th>LSTAT9</th>\n",
              "      <th>LSTAT10</th>\n",
              "    </tr>\n",
              "  </thead>\n",
              "  <tbody>\n",
              "    <tr>\n",
              "      <th>count</th>\n",
              "      <td>506.000000</td>\n",
              "      <td>506.000000</td>\n",
              "      <td>506.000000</td>\n",
              "      <td>506.000000</td>\n",
              "      <td>5.060000e+02</td>\n",
              "      <td>5.060000e+02</td>\n",
              "      <td>5.060000e+02</td>\n",
              "      <td>5.060000e+02</td>\n",
              "      <td>5.060000e+02</td>\n",
              "      <td>5.060000e+02</td>\n",
              "      <td>5.060000e+02</td>\n",
              "    </tr>\n",
              "    <tr>\n",
              "      <th>mean</th>\n",
              "      <td>22.532806</td>\n",
              "      <td>12.653063</td>\n",
              "      <td>210.993989</td>\n",
              "      <td>4285.788793</td>\n",
              "      <td>1.001336e+05</td>\n",
              "      <td>2.587609e+06</td>\n",
              "      <td>7.198029e+07</td>\n",
              "      <td>2.114923e+09</td>\n",
              "      <td>6.477077e+10</td>\n",
              "      <td>2.048399e+12</td>\n",
              "      <td>6.645292e+13</td>\n",
              "    </tr>\n",
              "    <tr>\n",
              "      <th>std</th>\n",
              "      <td>9.197104</td>\n",
              "      <td>7.141062</td>\n",
              "      <td>236.061920</td>\n",
              "      <td>7329.288372</td>\n",
              "      <td>2.342059e+05</td>\n",
              "      <td>7.737927e+06</td>\n",
              "      <td>2.628503e+08</td>\n",
              "      <td>9.126326e+09</td>\n",
              "      <td>3.223061e+11</td>\n",
              "      <td>1.153345e+13</td>\n",
              "      <td>4.169512e+14</td>\n",
              "    </tr>\n",
              "    <tr>\n",
              "      <th>min</th>\n",
              "      <td>5.000000</td>\n",
              "      <td>1.730000</td>\n",
              "      <td>2.992900</td>\n",
              "      <td>5.177717</td>\n",
              "      <td>8.957450e+00</td>\n",
              "      <td>1.549639e+01</td>\n",
              "      <td>2.680875e+01</td>\n",
              "      <td>4.637914e+01</td>\n",
              "      <td>8.023592e+01</td>\n",
              "      <td>1.388081e+02</td>\n",
              "      <td>2.401381e+02</td>\n",
              "    </tr>\n",
              "    <tr>\n",
              "      <th>25%</th>\n",
              "      <td>17.025000</td>\n",
              "      <td>6.950000</td>\n",
              "      <td>48.303700</td>\n",
              "      <td>335.727443</td>\n",
              "      <td>2.333481e+03</td>\n",
              "      <td>1.621932e+04</td>\n",
              "      <td>1.127384e+05</td>\n",
              "      <td>7.836504e+05</td>\n",
              "      <td>5.447333e+06</td>\n",
              "      <td>3.786664e+07</td>\n",
              "      <td>2.632333e+08</td>\n",
              "    </tr>\n",
              "    <tr>\n",
              "      <th>50%</th>\n",
              "      <td>21.200000</td>\n",
              "      <td>11.360000</td>\n",
              "      <td>129.050000</td>\n",
              "      <td>1466.017088</td>\n",
              "      <td>1.665411e+04</td>\n",
              "      <td>1.891930e+05</td>\n",
              "      <td>2.149266e+06</td>\n",
              "      <td>2.441612e+07</td>\n",
              "      <td>2.773731e+08</td>\n",
              "      <td>3.151037e+09</td>\n",
              "      <td>3.579677e+10</td>\n",
              "    </tr>\n",
              "    <tr>\n",
              "      <th>75%</th>\n",
              "      <td>25.000000</td>\n",
              "      <td>16.955000</td>\n",
              "      <td>287.472100</td>\n",
              "      <td>4874.091998</td>\n",
              "      <td>8.264029e+04</td>\n",
              "      <td>1.401168e+06</td>\n",
              "      <td>2.375683e+07</td>\n",
              "      <td>4.027977e+08</td>\n",
              "      <td>6.829447e+09</td>\n",
              "      <td>1.157935e+11</td>\n",
              "      <td>1.963285e+12</td>\n",
              "    </tr>\n",
              "    <tr>\n",
              "      <th>max</th>\n",
              "      <td>50.000000</td>\n",
              "      <td>37.970000</td>\n",
              "      <td>1441.720900</td>\n",
              "      <td>54742.142570</td>\n",
              "      <td>2.078559e+06</td>\n",
              "      <td>7.892289e+07</td>\n",
              "      <td>2.996702e+09</td>\n",
              "      <td>1.137850e+11</td>\n",
              "      <td>4.320410e+12</td>\n",
              "      <td>1.640460e+14</td>\n",
              "      <td>6.228820e+15</td>\n",
              "    </tr>\n",
              "  </tbody>\n",
              "</table>\n",
              "</div>\n",
              "      <button class=\"colab-df-convert\" onclick=\"convertToInteractive('df-35780ffb-b6f6-4cc0-bb6b-147e7ec2ba15')\"\n",
              "              title=\"Convert this dataframe to an interactive table.\"\n",
              "              style=\"display:none;\">\n",
              "        \n",
              "  <svg xmlns=\"http://www.w3.org/2000/svg\" height=\"24px\"viewBox=\"0 0 24 24\"\n",
              "       width=\"24px\">\n",
              "    <path d=\"M0 0h24v24H0V0z\" fill=\"none\"/>\n",
              "    <path d=\"M18.56 5.44l.94 2.06.94-2.06 2.06-.94-2.06-.94-.94-2.06-.94 2.06-2.06.94zm-11 1L8.5 8.5l.94-2.06 2.06-.94-2.06-.94L8.5 2.5l-.94 2.06-2.06.94zm10 10l.94 2.06.94-2.06 2.06-.94-2.06-.94-.94-2.06-.94 2.06-2.06.94z\"/><path d=\"M17.41 7.96l-1.37-1.37c-.4-.4-.92-.59-1.43-.59-.52 0-1.04.2-1.43.59L10.3 9.45l-7.72 7.72c-.78.78-.78 2.05 0 2.83L4 21.41c.39.39.9.59 1.41.59.51 0 1.02-.2 1.41-.59l7.78-7.78 2.81-2.81c.8-.78.8-2.07 0-2.86zM5.41 20L4 18.59l7.72-7.72 1.47 1.35L5.41 20z\"/>\n",
              "  </svg>\n",
              "      </button>\n",
              "      \n",
              "  <style>\n",
              "    .colab-df-container {\n",
              "      display:flex;\n",
              "      flex-wrap:wrap;\n",
              "      gap: 12px;\n",
              "    }\n",
              "\n",
              "    .colab-df-convert {\n",
              "      background-color: #E8F0FE;\n",
              "      border: none;\n",
              "      border-radius: 50%;\n",
              "      cursor: pointer;\n",
              "      display: none;\n",
              "      fill: #1967D2;\n",
              "      height: 32px;\n",
              "      padding: 0 0 0 0;\n",
              "      width: 32px;\n",
              "    }\n",
              "\n",
              "    .colab-df-convert:hover {\n",
              "      background-color: #E2EBFA;\n",
              "      box-shadow: 0px 1px 2px rgba(60, 64, 67, 0.3), 0px 1px 3px 1px rgba(60, 64, 67, 0.15);\n",
              "      fill: #174EA6;\n",
              "    }\n",
              "\n",
              "    [theme=dark] .colab-df-convert {\n",
              "      background-color: #3B4455;\n",
              "      fill: #D2E3FC;\n",
              "    }\n",
              "\n",
              "    [theme=dark] .colab-df-convert:hover {\n",
              "      background-color: #434B5C;\n",
              "      box-shadow: 0px 1px 3px 1px rgba(0, 0, 0, 0.15);\n",
              "      filter: drop-shadow(0px 1px 2px rgba(0, 0, 0, 0.3));\n",
              "      fill: #FFFFFF;\n",
              "    }\n",
              "  </style>\n",
              "\n",
              "      <script>\n",
              "        const buttonEl =\n",
              "          document.querySelector('#df-35780ffb-b6f6-4cc0-bb6b-147e7ec2ba15 button.colab-df-convert');\n",
              "        buttonEl.style.display =\n",
              "          google.colab.kernel.accessAllowed ? 'block' : 'none';\n",
              "\n",
              "        async function convertToInteractive(key) {\n",
              "          const element = document.querySelector('#df-35780ffb-b6f6-4cc0-bb6b-147e7ec2ba15');\n",
              "          const dataTable =\n",
              "            await google.colab.kernel.invokeFunction('convertToInteractive',\n",
              "                                                     [key], {});\n",
              "          if (!dataTable) return;\n",
              "\n",
              "          const docLinkHtml = 'Like what you see? Visit the ' +\n",
              "            '<a target=\"_blank\" href=https://colab.research.google.com/notebooks/data_table.ipynb>data table notebook</a>'\n",
              "            + ' to learn more about interactive tables.';\n",
              "          element.innerHTML = '';\n",
              "          dataTable['output_type'] = 'display_data';\n",
              "          await google.colab.output.renderOutput(dataTable, element);\n",
              "          const docLink = document.createElement('div');\n",
              "          docLink.innerHTML = docLinkHtml;\n",
              "          element.appendChild(docLink);\n",
              "        }\n",
              "      </script>\n",
              "    </div>\n",
              "  </div>\n",
              "  "
            ],
            "text/plain": [
              "            price       LSTAT  ...        LSTAT9       LSTAT10\n",
              "count  506.000000  506.000000  ...  5.060000e+02  5.060000e+02\n",
              "mean    22.532806   12.653063  ...  2.048399e+12  6.645292e+13\n",
              "std      9.197104    7.141062  ...  1.153345e+13  4.169512e+14\n",
              "min      5.000000    1.730000  ...  1.388081e+02  2.401381e+02\n",
              "25%     17.025000    6.950000  ...  3.786664e+07  2.632333e+08\n",
              "50%     21.200000   11.360000  ...  3.151037e+09  3.579677e+10\n",
              "75%     25.000000   16.955000  ...  1.157935e+11  1.963285e+12\n",
              "max     50.000000   37.970000  ...  1.640460e+14  6.228820e+15\n",
              "\n",
              "[8 rows x 11 columns]"
            ]
          },
          "metadata": {},
          "execution_count": 8
        }
      ],
      "source": [
        "df.describe()"
      ]
    },
    {
      "cell_type": "code",
      "source": [
        "df_sc = pd.DataFrame(df_sc, columns = df.columns)\n",
        "df_sc.head()"
      ],
      "metadata": {
        "colab": {
          "base_uri": "https://localhost:8080/",
          "height": 270
        },
        "id": "JCPWUKbf-jmh",
        "outputId": "a54c68f0-c5f7-4ed7-c273-943471df1957"
      },
      "execution_count": 9,
      "outputs": [
        {
          "output_type": "execute_result",
          "data": {
            "text/html": [
              "\n",
              "  <div id=\"df-ac2ac38d-b9fd-4dae-8755-aecb6b8edefe\">\n",
              "    <div class=\"colab-df-container\">\n",
              "      <div>\n",
              "<style scoped>\n",
              "    .dataframe tbody tr th:only-of-type {\n",
              "        vertical-align: middle;\n",
              "    }\n",
              "\n",
              "    .dataframe tbody tr th {\n",
              "        vertical-align: top;\n",
              "    }\n",
              "\n",
              "    .dataframe thead th {\n",
              "        text-align: right;\n",
              "    }\n",
              "</style>\n",
              "<table border=\"1\" class=\"dataframe\">\n",
              "  <thead>\n",
              "    <tr style=\"text-align: right;\">\n",
              "      <th></th>\n",
              "      <th>price</th>\n",
              "      <th>LSTAT</th>\n",
              "      <th>LSTAT2</th>\n",
              "      <th>LSTAT3</th>\n",
              "      <th>LSTAT4</th>\n",
              "      <th>LSTAT5</th>\n",
              "      <th>LSTAT6</th>\n",
              "      <th>LSTAT7</th>\n",
              "      <th>LSTAT8</th>\n",
              "      <th>LSTAT9</th>\n",
              "      <th>LSTAT10</th>\n",
              "    </tr>\n",
              "  </thead>\n",
              "  <tbody>\n",
              "    <tr>\n",
              "      <th>0</th>\n",
              "      <td>0.159686</td>\n",
              "      <td>-1.075562</td>\n",
              "      <td>-0.789529</td>\n",
              "      <td>-0.568459</td>\n",
              "      <td>-0.425339</td>\n",
              "      <td>-0.334341</td>\n",
              "      <td>-0.274058</td>\n",
              "      <td>-0.231960</td>\n",
              "      <td>-0.201158</td>\n",
              "      <td>-0.177781</td>\n",
              "      <td>-0.159536</td>\n",
              "    </tr>\n",
              "    <tr>\n",
              "      <th>1</th>\n",
              "      <td>-0.101524</td>\n",
              "      <td>-0.492439</td>\n",
              "      <td>-0.540454</td>\n",
              "      <td>-0.481046</td>\n",
              "      <td>-0.398141</td>\n",
              "      <td>-0.326485</td>\n",
              "      <td>-0.271896</td>\n",
              "      <td>-0.231384</td>\n",
              "      <td>-0.201008</td>\n",
              "      <td>-0.177742</td>\n",
              "      <td>-0.159526</td>\n",
              "    </tr>\n",
              "    <tr>\n",
              "      <th>2</th>\n",
              "      <td>1.324247</td>\n",
              "      <td>-1.208727</td>\n",
              "      <td>-0.825825</td>\n",
              "      <td>-0.576388</td>\n",
              "      <td>-0.426841</td>\n",
              "      <td>-0.334599</td>\n",
              "      <td>-0.274100</td>\n",
              "      <td>-0.231966</td>\n",
              "      <td>-0.201159</td>\n",
              "      <td>-0.177781</td>\n",
              "      <td>-0.159536</td>\n",
              "    </tr>\n",
              "    <tr>\n",
              "      <th>3</th>\n",
              "      <td>1.182758</td>\n",
              "      <td>-1.361517</td>\n",
              "      <td>-0.858040</td>\n",
              "      <td>-0.581856</td>\n",
              "      <td>-0.427649</td>\n",
              "      <td>-0.334708</td>\n",
              "      <td>-0.274114</td>\n",
              "      <td>-0.231968</td>\n",
              "      <td>-0.201159</td>\n",
              "      <td>-0.177781</td>\n",
              "      <td>-0.159536</td>\n",
              "    </tr>\n",
              "    <tr>\n",
              "      <th>4</th>\n",
              "      <td>1.487503</td>\n",
              "      <td>-1.026501</td>\n",
              "      <td>-0.774228</td>\n",
              "      <td>-0.564647</td>\n",
              "      <td>-0.424519</td>\n",
              "      <td>-0.334180</td>\n",
              "      <td>-0.274029</td>\n",
              "      <td>-0.231955</td>\n",
              "      <td>-0.201157</td>\n",
              "      <td>-0.177781</td>\n",
              "      <td>-0.159536</td>\n",
              "    </tr>\n",
              "  </tbody>\n",
              "</table>\n",
              "</div>\n",
              "      <button class=\"colab-df-convert\" onclick=\"convertToInteractive('df-ac2ac38d-b9fd-4dae-8755-aecb6b8edefe')\"\n",
              "              title=\"Convert this dataframe to an interactive table.\"\n",
              "              style=\"display:none;\">\n",
              "        \n",
              "  <svg xmlns=\"http://www.w3.org/2000/svg\" height=\"24px\"viewBox=\"0 0 24 24\"\n",
              "       width=\"24px\">\n",
              "    <path d=\"M0 0h24v24H0V0z\" fill=\"none\"/>\n",
              "    <path d=\"M18.56 5.44l.94 2.06.94-2.06 2.06-.94-2.06-.94-.94-2.06-.94 2.06-2.06.94zm-11 1L8.5 8.5l.94-2.06 2.06-.94-2.06-.94L8.5 2.5l-.94 2.06-2.06.94zm10 10l.94 2.06.94-2.06 2.06-.94-2.06-.94-.94-2.06-.94 2.06-2.06.94z\"/><path d=\"M17.41 7.96l-1.37-1.37c-.4-.4-.92-.59-1.43-.59-.52 0-1.04.2-1.43.59L10.3 9.45l-7.72 7.72c-.78.78-.78 2.05 0 2.83L4 21.41c.39.39.9.59 1.41.59.51 0 1.02-.2 1.41-.59l7.78-7.78 2.81-2.81c.8-.78.8-2.07 0-2.86zM5.41 20L4 18.59l7.72-7.72 1.47 1.35L5.41 20z\"/>\n",
              "  </svg>\n",
              "      </button>\n",
              "      \n",
              "  <style>\n",
              "    .colab-df-container {\n",
              "      display:flex;\n",
              "      flex-wrap:wrap;\n",
              "      gap: 12px;\n",
              "    }\n",
              "\n",
              "    .colab-df-convert {\n",
              "      background-color: #E8F0FE;\n",
              "      border: none;\n",
              "      border-radius: 50%;\n",
              "      cursor: pointer;\n",
              "      display: none;\n",
              "      fill: #1967D2;\n",
              "      height: 32px;\n",
              "      padding: 0 0 0 0;\n",
              "      width: 32px;\n",
              "    }\n",
              "\n",
              "    .colab-df-convert:hover {\n",
              "      background-color: #E2EBFA;\n",
              "      box-shadow: 0px 1px 2px rgba(60, 64, 67, 0.3), 0px 1px 3px 1px rgba(60, 64, 67, 0.15);\n",
              "      fill: #174EA6;\n",
              "    }\n",
              "\n",
              "    [theme=dark] .colab-df-convert {\n",
              "      background-color: #3B4455;\n",
              "      fill: #D2E3FC;\n",
              "    }\n",
              "\n",
              "    [theme=dark] .colab-df-convert:hover {\n",
              "      background-color: #434B5C;\n",
              "      box-shadow: 0px 1px 3px 1px rgba(0, 0, 0, 0.15);\n",
              "      filter: drop-shadow(0px 1px 2px rgba(0, 0, 0, 0.3));\n",
              "      fill: #FFFFFF;\n",
              "    }\n",
              "  </style>\n",
              "\n",
              "      <script>\n",
              "        const buttonEl =\n",
              "          document.querySelector('#df-ac2ac38d-b9fd-4dae-8755-aecb6b8edefe button.colab-df-convert');\n",
              "        buttonEl.style.display =\n",
              "          google.colab.kernel.accessAllowed ? 'block' : 'none';\n",
              "\n",
              "        async function convertToInteractive(key) {\n",
              "          const element = document.querySelector('#df-ac2ac38d-b9fd-4dae-8755-aecb6b8edefe');\n",
              "          const dataTable =\n",
              "            await google.colab.kernel.invokeFunction('convertToInteractive',\n",
              "                                                     [key], {});\n",
              "          if (!dataTable) return;\n",
              "\n",
              "          const docLinkHtml = 'Like what you see? Visit the ' +\n",
              "            '<a target=\"_blank\" href=https://colab.research.google.com/notebooks/data_table.ipynb>data table notebook</a>'\n",
              "            + ' to learn more about interactive tables.';\n",
              "          element.innerHTML = '';\n",
              "          dataTable['output_type'] = 'display_data';\n",
              "          await google.colab.output.renderOutput(dataTable, element);\n",
              "          const docLink = document.createElement('div');\n",
              "          docLink.innerHTML = docLinkHtml;\n",
              "          element.appendChild(docLink);\n",
              "        }\n",
              "      </script>\n",
              "    </div>\n",
              "  </div>\n",
              "  "
            ],
            "text/plain": [
              "      price     LSTAT    LSTAT2  ...    LSTAT8    LSTAT9   LSTAT10\n",
              "0  0.159686 -1.075562 -0.789529  ... -0.201158 -0.177781 -0.159536\n",
              "1 -0.101524 -0.492439 -0.540454  ... -0.201008 -0.177742 -0.159526\n",
              "2  1.324247 -1.208727 -0.825825  ... -0.201159 -0.177781 -0.159536\n",
              "3  1.182758 -1.361517 -0.858040  ... -0.201159 -0.177781 -0.159536\n",
              "4  1.487503 -1.026501 -0.774228  ... -0.201157 -0.177781 -0.159536\n",
              "\n",
              "[5 rows x 11 columns]"
            ]
          },
          "metadata": {},
          "execution_count": 9
        }
      ]
    },
    {
      "cell_type": "markdown",
      "metadata": {
        "id": "XaCB3MGf5xhP"
      },
      "source": [
        "# Q2. Splitting the data (train / test)\n",
        "test_size=0.2, random_state=rand_state"
      ]
    },
    {
      "cell_type": "code",
      "execution_count": 10,
      "metadata": {
        "id": "TTbJ_kcK5xhP"
      },
      "outputs": [],
      "source": [
        "from sklearn.model_selection import train_test_split\n",
        "y = df_sc['price']\n",
        "X = df_sc.drop('price', axis=1)\n",
        "X_train,X_test,y_train,y_test = train_test_split(X, y, test_size = 0.2, random_state = rand_state)"
      ]
    },
    {
      "cell_type": "markdown",
      "metadata": {
        "id": "Vo7iRBH05xhQ"
      },
      "source": [
        "# Q3. Training the models"
      ]
    },
    {
      "cell_type": "code",
      "source": [
        "y_train.head()"
      ],
      "metadata": {
        "colab": {
          "base_uri": "https://localhost:8080/"
        },
        "id": "fMNOGacLFE80",
        "outputId": "85cfecf1-517b-489b-ac52-62271a3457a3"
      },
      "execution_count": 14,
      "outputs": [
        {
          "output_type": "execute_result",
          "data": {
            "text/plain": [
              "300    0.246756\n",
              "32    -1.015759\n",
              "181    1.487503\n",
              "272    0.203221\n",
              "477   -1.146364\n",
              "Name: price, dtype: float64"
            ]
          },
          "metadata": {},
          "execution_count": 14
        }
      ]
    },
    {
      "cell_type": "markdown",
      "metadata": {
        "id": "WoUm0Gd95xhR"
      },
      "source": [
        "1. Linear regression (model_linear)\n",
        "2. Ridge regression (model_ridge)\n",
        "3. Lasso regression (model_lasso)\n",
        "4. Elastic Net regression (model_net)"
      ]
    },
    {
      "cell_type": "code",
      "execution_count": 15,
      "metadata": {
        "id": "tETaqImI5xhR"
      },
      "outputs": [],
      "source": [
        "from sklearn.linear_model import LinearRegression, Ridge,RidgeCV, Lasso, LassoCV, ElasticNet, ElasticNetCV"
      ]
    },
    {
      "cell_type": "code",
      "execution_count": 16,
      "metadata": {
        "id": "5Gh9AQ7T5xhR"
      },
      "outputs": [],
      "source": [
        "# starting with default parameters:\n",
        "model_linear = LinearRegression()\n",
        "model_ridge = Ridge()\n",
        "model_lasso = Lasso()\n",
        "model_net = ElasticNet()"
      ]
    },
    {
      "cell_type": "code",
      "execution_count": 17,
      "metadata": {
        "id": "VMCgwyJn5xhS"
      },
      "outputs": [],
      "source": [
        "y_hat_linear = model_linear.fit(X_train,y_train).predict(X_test)\n",
        "y_hat_ridge = model_ridge.fit(X_train,y_train).predict(X_test)\n",
        "y_hat_lasso = model_lasso.fit(X_train,y_train).predict(X_test)\n",
        "y_hat_net = model_net.fit(X_train,y_train).predict(X_test)"
      ]
    },
    {
      "cell_type": "markdown",
      "metadata": {
        "id": "WF8tEE255xhS"
      },
      "source": [
        "# Q4. Performance in the test set for 4 models."
      ]
    },
    {
      "cell_type": "code",
      "execution_count": 18,
      "metadata": {
        "colab": {
          "base_uri": "https://localhost:8080/",
          "height": 206
        },
        "id": "YDmtgnLC5xhT",
        "outputId": "5fd6a927-4c6c-43fc-a41e-2fe27c5c4a45"
      },
      "outputs": [
        {
          "output_type": "execute_result",
          "data": {
            "text/html": [
              "\n",
              "  <div id=\"df-e3d90c44-a1e0-430d-89de-36a2f2692e7b\">\n",
              "    <div class=\"colab-df-container\">\n",
              "      <div>\n",
              "<style scoped>\n",
              "    .dataframe tbody tr th:only-of-type {\n",
              "        vertical-align: middle;\n",
              "    }\n",
              "\n",
              "    .dataframe tbody tr th {\n",
              "        vertical-align: top;\n",
              "    }\n",
              "\n",
              "    .dataframe thead th {\n",
              "        text-align: right;\n",
              "    }\n",
              "</style>\n",
              "<table border=\"1\" class=\"dataframe\">\n",
              "  <thead>\n",
              "    <tr style=\"text-align: right;\">\n",
              "      <th></th>\n",
              "      <th>y_test</th>\n",
              "      <th>y_hat_linear</th>\n",
              "      <th>y_hat_ridge</th>\n",
              "      <th>y_hat_lasso</th>\n",
              "      <th>y_hat_net</th>\n",
              "    </tr>\n",
              "  </thead>\n",
              "  <tbody>\n",
              "    <tr>\n",
              "      <th>483</th>\n",
              "      <td>-0.079757</td>\n",
              "      <td>-0.019459</td>\n",
              "      <td>0.029108</td>\n",
              "      <td>0.009199</td>\n",
              "      <td>0.059533</td>\n",
              "    </tr>\n",
              "    <tr>\n",
              "      <th>426</th>\n",
              "      <td>-1.342272</td>\n",
              "      <td>-0.480570</td>\n",
              "      <td>-0.589703</td>\n",
              "      <td>0.009199</td>\n",
              "      <td>-0.054729</td>\n",
              "    </tr>\n",
              "    <tr>\n",
              "      <th>22</th>\n",
              "      <td>-0.798084</td>\n",
              "      <td>-0.736176</td>\n",
              "      <td>-0.786380</td>\n",
              "      <td>0.009199</td>\n",
              "      <td>-0.120425</td>\n",
              "    </tr>\n",
              "    <tr>\n",
              "      <th>268</th>\n",
              "      <td>2.282016</td>\n",
              "      <td>2.053967</td>\n",
              "      <td>1.495823</td>\n",
              "      <td>0.009199</td>\n",
              "      <td>0.216942</td>\n",
              "    </tr>\n",
              "    <tr>\n",
              "      <th>371</th>\n",
              "      <td>2.989460</td>\n",
              "      <td>0.041490</td>\n",
              "      <td>0.171371</td>\n",
              "      <td>0.009199</td>\n",
              "      <td>0.078830</td>\n",
              "    </tr>\n",
              "  </tbody>\n",
              "</table>\n",
              "</div>\n",
              "      <button class=\"colab-df-convert\" onclick=\"convertToInteractive('df-e3d90c44-a1e0-430d-89de-36a2f2692e7b')\"\n",
              "              title=\"Convert this dataframe to an interactive table.\"\n",
              "              style=\"display:none;\">\n",
              "        \n",
              "  <svg xmlns=\"http://www.w3.org/2000/svg\" height=\"24px\"viewBox=\"0 0 24 24\"\n",
              "       width=\"24px\">\n",
              "    <path d=\"M0 0h24v24H0V0z\" fill=\"none\"/>\n",
              "    <path d=\"M18.56 5.44l.94 2.06.94-2.06 2.06-.94-2.06-.94-.94-2.06-.94 2.06-2.06.94zm-11 1L8.5 8.5l.94-2.06 2.06-.94-2.06-.94L8.5 2.5l-.94 2.06-2.06.94zm10 10l.94 2.06.94-2.06 2.06-.94-2.06-.94-.94-2.06-.94 2.06-2.06.94z\"/><path d=\"M17.41 7.96l-1.37-1.37c-.4-.4-.92-.59-1.43-.59-.52 0-1.04.2-1.43.59L10.3 9.45l-7.72 7.72c-.78.78-.78 2.05 0 2.83L4 21.41c.39.39.9.59 1.41.59.51 0 1.02-.2 1.41-.59l7.78-7.78 2.81-2.81c.8-.78.8-2.07 0-2.86zM5.41 20L4 18.59l7.72-7.72 1.47 1.35L5.41 20z\"/>\n",
              "  </svg>\n",
              "      </button>\n",
              "      \n",
              "  <style>\n",
              "    .colab-df-container {\n",
              "      display:flex;\n",
              "      flex-wrap:wrap;\n",
              "      gap: 12px;\n",
              "    }\n",
              "\n",
              "    .colab-df-convert {\n",
              "      background-color: #E8F0FE;\n",
              "      border: none;\n",
              "      border-radius: 50%;\n",
              "      cursor: pointer;\n",
              "      display: none;\n",
              "      fill: #1967D2;\n",
              "      height: 32px;\n",
              "      padding: 0 0 0 0;\n",
              "      width: 32px;\n",
              "    }\n",
              "\n",
              "    .colab-df-convert:hover {\n",
              "      background-color: #E2EBFA;\n",
              "      box-shadow: 0px 1px 2px rgba(60, 64, 67, 0.3), 0px 1px 3px 1px rgba(60, 64, 67, 0.15);\n",
              "      fill: #174EA6;\n",
              "    }\n",
              "\n",
              "    [theme=dark] .colab-df-convert {\n",
              "      background-color: #3B4455;\n",
              "      fill: #D2E3FC;\n",
              "    }\n",
              "\n",
              "    [theme=dark] .colab-df-convert:hover {\n",
              "      background-color: #434B5C;\n",
              "      box-shadow: 0px 1px 3px 1px rgba(0, 0, 0, 0.15);\n",
              "      filter: drop-shadow(0px 1px 2px rgba(0, 0, 0, 0.3));\n",
              "      fill: #FFFFFF;\n",
              "    }\n",
              "  </style>\n",
              "\n",
              "      <script>\n",
              "        const buttonEl =\n",
              "          document.querySelector('#df-e3d90c44-a1e0-430d-89de-36a2f2692e7b button.colab-df-convert');\n",
              "        buttonEl.style.display =\n",
              "          google.colab.kernel.accessAllowed ? 'block' : 'none';\n",
              "\n",
              "        async function convertToInteractive(key) {\n",
              "          const element = document.querySelector('#df-e3d90c44-a1e0-430d-89de-36a2f2692e7b');\n",
              "          const dataTable =\n",
              "            await google.colab.kernel.invokeFunction('convertToInteractive',\n",
              "                                                     [key], {});\n",
              "          if (!dataTable) return;\n",
              "\n",
              "          const docLinkHtml = 'Like what you see? Visit the ' +\n",
              "            '<a target=\"_blank\" href=https://colab.research.google.com/notebooks/data_table.ipynb>data table notebook</a>'\n",
              "            + ' to learn more about interactive tables.';\n",
              "          element.innerHTML = '';\n",
              "          dataTable['output_type'] = 'display_data';\n",
              "          await google.colab.output.renderOutput(dataTable, element);\n",
              "          const docLink = document.createElement('div');\n",
              "          docLink.innerHTML = docLinkHtml;\n",
              "          element.appendChild(docLink);\n",
              "        }\n",
              "      </script>\n",
              "    </div>\n",
              "  </div>\n",
              "  "
            ],
            "text/plain": [
              "       y_test  y_hat_linear  y_hat_ridge  y_hat_lasso  y_hat_net\n",
              "483 -0.079757     -0.019459     0.029108     0.009199   0.059533\n",
              "426 -1.342272     -0.480570    -0.589703     0.009199  -0.054729\n",
              "22  -0.798084     -0.736176    -0.786380     0.009199  -0.120425\n",
              "268  2.282016      2.053967     1.495823     0.009199   0.216942\n",
              "371  2.989460      0.041490     0.171371     0.009199   0.078830"
            ]
          },
          "metadata": {},
          "execution_count": 18
        }
      ],
      "source": [
        "df_predictions = pd.DataFrame({'y_test' :  y_test,\n",
        "                               'y_hat_linear' :  y_hat_linear,\n",
        "                               'y_hat_ridge' : y_hat_ridge,\n",
        "                               'y_hat_lasso' : y_hat_lasso,\n",
        "                               'y_hat_net' : y_hat_net})\n",
        "\n",
        "df_predictions.head()"
      ]
    },
    {
      "cell_type": "code",
      "source": [
        ""
      ],
      "metadata": {
        "id": "ZC_18cqZEcGd"
      },
      "execution_count": null,
      "outputs": []
    },
    {
      "cell_type": "markdown",
      "metadata": {
        "id": "I7w_fVgr5xhT"
      },
      "source": [
        "# Q5. Plotting the regression coefficients vs alphas:"
      ]
    },
    {
      "cell_type": "markdown",
      "metadata": {
        "id": "VFac4Ebb5xhU"
      },
      "source": [
        "## 1) Ridge"
      ]
    },
    {
      "cell_type": "code",
      "execution_count": 21,
      "metadata": {
        "colab": {
          "base_uri": "https://localhost:8080/"
        },
        "id": "H227f0FR5xhU",
        "outputId": "810cfb33-c3e2-4d80-d448-c0a281d29108"
      },
      "outputs": [
        {
          "output_type": "execute_result",
          "data": {
            "text/plain": [
              "(100, 10)"
            ]
          },
          "metadata": {},
          "execution_count": 21
        }
      ],
      "source": [
        "alpha_ridge = 10 ** np.linspace(-2,4,100)\n",
        "ridge = Ridge()\n",
        "coefs_ridge = []\n",
        "\n",
        "for i in alpha_ridge:\n",
        "  ridge.set_params(alpha = i)\n",
        "  ridge.fit(X_train, y_train)\n",
        "  coefs_ridge.append(ridge.coef_)\n",
        "\n",
        "np.shape(coefs_ridge)"
      ]
    },
    {
      "cell_type": "code",
      "source": [
        "plt.figure(figsize = (12,10))\n",
        "ax = plt.gca()\n",
        "ax.plot(alpha_ridge, coefs_ridge)\n",
        "ax.set_xscale('log')\n",
        "plt.axis('tight')\n",
        "plt.xlabel('alpha')\n",
        "plt.ylabel('weights : scaled coefficients')\n",
        "plt.title('Ridge regression coefficients VS alpha')\n",
        "plt.legend(df.drop('price', axis = 1, inplace=False).columns)\n",
        "\n",
        "plt.show()"
      ],
      "metadata": {
        "colab": {
          "base_uri": "https://localhost:8080/",
          "height": 609
        },
        "id": "uZFT5XgDCMzo",
        "outputId": "636a06ba-75cc-4575-d84a-b620a8321069"
      },
      "execution_count": 22,
      "outputs": [
        {
          "output_type": "display_data",
          "data": {
            "image/png": "[encoded data removed]",
            "text/plain": [
              "<Figure size 864x720 with 1 Axes>"
            ]
          },
          "metadata": {
            "needs_background": "light"
          }
        }
      ]
    },
    {
      "cell_type": "markdown",
      "metadata": {
        "id": "9jqG0XC25xhV"
      },
      "source": [
        "## 2) Lasso"
      ]
    },
    {
      "cell_type": "code",
      "execution_count": 23,
      "metadata": {
        "colab": {
          "base_uri": "https://localhost:8080/"
        },
        "id": "GSfhjYiK5xhV",
        "outputId": "49c973c2-7774-4425-8aad-ffaa4a7ed329"
      },
      "outputs": [
        {
          "output_type": "execute_result",
          "data": {
            "text/plain": [
              "(100, 10)"
            ]
          },
          "metadata": {},
          "execution_count": 23
        }
      ],
      "source": [
        "alpha_lasso = 10 ** np.linspace(-3,1,100)\n",
        "lasso = Lasso()\n",
        "\n",
        "coefs_lasso = []\n",
        "\n",
        "for i in alpha_lasso:\n",
        "  lasso.set_params(alpha = i)\n",
        "  lasso.fit(X_train, y_train)\n",
        "  coefs_lasso.append(lasso.coef_)\n",
        "\n",
        "np.shape(coefs_lasso)"
      ]
    },
    {
      "cell_type": "code",
      "source": [
        "plt.figure(figsize=(12,10))\n",
        "ax = plt.gca()\n",
        "ax.plot(alpha_lasso, coefs_lasso)\n",
        "ax.set_xscale('log')\n",
        "plt.axis('tight')\n",
        "plt.xlabel('alpha')\n",
        "plt.ylabel('weights: scaled coefficients')\n",
        "plt.title('Lasso regression coefficients Vs. alpha')\n",
        "plt.legend(df.drop('price',axis=1, inplace=False).columns)\n",
        "\n",
        "plt.show()"
      ],
      "metadata": {
        "colab": {
          "base_uri": "https://localhost:8080/",
          "height": 609
        },
        "id": "QAR50nBWGHWo",
        "outputId": "3c228d80-778c-4bc8-a0f2-1166f1451ba7"
      },
      "execution_count": 25,
      "outputs": [
        {
          "output_type": "display_data",
          "data": {
            "image/png": "[encoded data removed]",
            "text/plain": [
              "<Figure size 864x720 with 1 Axes>"
            ]
          },
          "metadata": {
            "needs_background": "light"
          }
        }
      ]
    },
    {
      "cell_type": "markdown",
      "metadata": {
        "id": "AF7BD0-P5xhV"
      },
      "source": [
        "## 3) ElasticNet"
      ]
    },
    {
      "cell_type": "code",
      "execution_count": 28,
      "metadata": {
        "colab": {
          "base_uri": "https://localhost:8080/"
        },
        "id": "XbqCCzRY5xhW",
        "outputId": "90c1dc82-b271-4ab7-fec7-71d23288ef70"
      },
      "outputs": [
        {
          "output_type": "execute_result",
          "data": {
            "text/plain": [
              "(100, 10)"
            ]
          },
          "metadata": {},
          "execution_count": 28
        }
      ],
      "source": [
        "alpha_net = 10 ** np.linspace(-3,2,100)\n",
        "net = ElasticNet()\n",
        "\n",
        "coefs_net = []\n",
        "\n",
        "for i in alpha_net:\n",
        "  net.set_params(alpha = i)\n",
        "  net.fit(X_train, y_train)\n",
        "  coefs_net.append(net.coef_)\n",
        "\n",
        "np.shape(coefs_net)"
      ]
    },
    {
      "cell_type": "code",
      "source": [
        "plt.figure(figsize=(12,10))\n",
        "ax = plt.gca()\n",
        "ax.plot(alpha_net, coefs_net)\n",
        "ax.set_xscale('log')\n",
        "plt.axis('tight')\n",
        "plt.xlabel('alpha')\n",
        "plt.ylabel('weights: scaled coefficients')\n",
        "plt.title('Elastic Net regression coefficients Vs. alpha')\n",
        "plt.legend(df.drop('price',axis=1, inplace=False).columns)\n",
        "\n",
        "plt.show()"
      ],
      "metadata": {
        "colab": {
          "base_uri": "https://localhost:8080/",
          "height": 609
        },
        "id": "9H-Ys35yGaI3",
        "outputId": "28a11bd6-0c04-4ba3-d71b-64f58c0d0192"
      },
      "execution_count": 29,
      "outputs": [
        {
          "output_type": "display_data",
          "data": {
            "image/png": "[encoded data removed]",
            "text/plain": [
              "<Figure size 864x720 with 1 Axes>"
            ]
          },
          "metadata": {
            "needs_background": "light"
          }
        }
      ]
    },
    {
      "cell_type": "markdown",
      "metadata": {
        "id": "jVwv4dCU5xhW"
      },
      "source": [
        "# Q6. Cross Validation"
      ]
    },
    {
      "cell_type": "markdown",
      "metadata": {
        "id": "YZafC0NM5xhW"
      },
      "source": [
        "## 1) Ridge"
      ]
    },
    {
      "cell_type": "code",
      "execution_count": 32,
      "metadata": {
        "colab": {
          "base_uri": "https://localhost:8080/"
        },
        "id": "rR3ZyKYO5xhX",
        "outputId": "4d02239a-da91-4cca-be99-049283c82329"
      },
      "outputs": [
        {
          "output_type": "execute_result",
          "data": {
            "text/plain": [
              "0.1"
            ]
          },
          "metadata": {},
          "execution_count": 32
        }
      ],
      "source": [
        "ridgecv = RidgeCV()\n",
        "ridgecv.fit(X_train, y_train)\n",
        "ridgecv.alpha_\n"
      ]
    },
    {
      "cell_type": "markdown",
      "metadata": {
        "id": "AVFOY-cp5xhX"
      },
      "source": [
        "## 2) Lasso"
      ]
    },
    {
      "cell_type": "code",
      "execution_count": 33,
      "metadata": {
        "colab": {
          "base_uri": "https://localhost:8080/"
        },
        "id": "IQVDs_Ad5xhX",
        "outputId": "14a8ea6f-55bb-433e-ae0a-569ddc43026f"
      },
      "outputs": [
        {
          "output_type": "execute_result",
          "data": {
            "text/plain": [
              "0.0007404280761639708"
            ]
          },
          "metadata": {},
          "execution_count": 33
        }
      ],
      "source": [
        "lassocv = LassoCV()\n",
        "lassocv.fit(X_train, y_train)\n",
        "lassocv.alpha_"
      ]
    },
    {
      "cell_type": "markdown",
      "metadata": {
        "id": "ZvRCl-715xhX"
      },
      "source": [
        "## 3) ElasticNet"
      ]
    },
    {
      "cell_type": "code",
      "execution_count": 34,
      "metadata": {
        "colab": {
          "base_uri": "https://localhost:8080/"
        },
        "id": "4Xjv7CH-5xhX",
        "outputId": "6c952816-6af3-42f4-c710-a4beee99a498"
      },
      "outputs": [
        {
          "output_type": "execute_result",
          "data": {
            "text/plain": [
              "0.0014808561523279417"
            ]
          },
          "metadata": {},
          "execution_count": 34
        }
      ],
      "source": [
        "elasticnetcv = ElasticNetCV()\n",
        "elasticnetcv.fit(X_train, y_train)\n",
        "elasticnetcv.alpha_"
      ]
    },
    {
      "cell_type": "markdown",
      "metadata": {
        "id": "o2sEG9Ei5xhX"
      },
      "source": [
        "# Done!"
      ]
    }
  ],
  "metadata": {
    "kernelspec": {
      "display_name": "Python 3",
      "language": "python",
      "name": "python3"
    },
    "language_info": {
      "codemirror_mode": {
        "name": "ipython",
        "version": 3
      },
      "file_extension": ".py",
      "mimetype": "text/x-python",
      "name": "python",
      "nbconvert_exporter": "python",
      "pygments_lexer": "ipython3",
      "version": "3.7.6"
    },
    "colab": {
      "name": "05_sklearn_penalization_2.ipynb",
      "provenance": [],
      "include_colab_link": true
    }
  },
  "nbformat": 4,
  "nbformat_minor": 0
}