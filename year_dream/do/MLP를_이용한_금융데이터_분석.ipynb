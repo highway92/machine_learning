{
  "nbformat": 4,
  "nbformat_minor": 0,
  "metadata": {
    "colab": {
      "name": "MLP를 이용한 금융데이터 분석.ipynb",
      "provenance": [],
      "collapsed_sections": [],
      "authorship_tag": "ABX9TyNFIf4E7JEDNQfeDL+Mhnay",
      "include_colab_link": true
    },
    "kernelspec": {
      "name": "python3",
      "display_name": "Python 3"
    },
    "language_info": {
      "name": "python"
    },
    "accelerator": "GPU"
  },
  "cells": [
    {
      "cell_type": "markdown",
      "metadata": {
        "id": "view-in-github",
        "colab_type": "text"
      },
      "source": [
        "<a href=\"https://colab.research.google.com/github/highway92/machine_learning/blob/main/year_dream/do/MLP%EB%A5%BC_%EC%9D%B4%EC%9A%A9%ED%95%9C_%EA%B8%88%EC%9C%B5%EB%8D%B0%EC%9D%B4%ED%84%B0_%EB%B6%84%EC%84%9D.ipynb\" target=\"_parent\"><img src=\"https://colab.research.google.com/assets/colab-badge.svg\" alt=\"Open In Colab\"/></a>"
      ]
    },
    {
      "cell_type": "code",
      "execution_count": 1,
      "metadata": {
        "id": "5FlsaYJxBp5K"
      },
      "outputs": [],
      "source": [
        "import pandas as pd\n",
        "import numpy as np\n",
        "\n",
        "import seaborn as sns\n",
        "import matplotlib\n",
        "import matplotlib.pyplot as plt\n",
        "%matplotlib inline\n",
        "from sklearn.model_selection import train_test_split\n",
        "from sklearn.metrics import accuracy_score, precision_score, recall_score, f1_score, roc_auc_score, roc_curve, auc, confusion_matrix\n",
        "\n",
        "\n",
        "import warnings\n",
        "warnings.filterwarnings('ignore')"
      ]
    },
    {
      "cell_type": "code",
      "source": [
        "from sklearn.preprocessing import MinMaxScaler\n",
        "from sklearn.feature_selection import VarianceThreshold\n",
        "import torch\n",
        "from torch import nn, optim\n",
        "\n",
        "from torch.utils.data import DataLoader, Dataset\n",
        "\n",
        "import torch.nn.functional as F"
      ],
      "metadata": {
        "id": "CM-aJ44cGVMC"
      },
      "execution_count": 2,
      "outputs": []
    },
    {
      "cell_type": "markdown",
      "source": [
        "# 1. 데이터 로드 및 전처리\n",
        "- feature selection\n",
        "- MinMax Scaler"
      ],
      "metadata": {
        "id": "xOuDGKxDSZTB"
      }
    },
    {
      "cell_type": "code",
      "source": [
        "train_df = pd.read_csv('./train.csv')\n",
        "test_df = pd.read_csv('./test.csv')\n",
        "submission = pd.read_csv('./sample_submission.csv')"
      ],
      "metadata": {
        "id": "D-qVu9RoQVCo"
      },
      "execution_count": 3,
      "outputs": []
    },
    {
      "cell_type": "code",
      "source": [
        "X = train_df.iloc[:, :-1]\n",
        "y = train_df.iloc[:, -1]\n"
      ],
      "metadata": {
        "id": "HehHcwFiQjaU"
      },
      "execution_count": 4,
      "outputs": []
    },
    {
      "cell_type": "code",
      "source": [
        "sel = VarianceThreshold(threshold=0.01)\n",
        "X = sel.fit_transform(X)\n",
        "\n",
        "\n",
        "X_train, X_valid, y_train, y_valid = train_test_split(X, y, test_size = 0.2)\n",
        "print('training set length :', len(X_train))\n",
        "print('validation set length :', len(X_valid))"
      ],
      "metadata": {
        "colab": {
          "base_uri": "https://localhost:8080/"
        },
        "id": "EeIbYavMQwA1",
        "outputId": "4775ebe9-c536-4c3a-d7bd-cabf0fc6ed81"
      },
      "execution_count": 5,
      "outputs": [
        {
          "output_type": "stream",
          "name": "stdout",
          "text": [
            "training set length : 80000\n",
            "validation set length : 20000\n"
          ]
        }
      ]
    },
    {
      "cell_type": "code",
      "source": [
        "scaler = MinMaxScaler()\n",
        "\n",
        "X_train = scaler.fit_transform(X_train)\n",
        "X_valid = scaler.fit_transform(X_valid)"
      ],
      "metadata": {
        "id": "5wEiLMIcShik"
      },
      "execution_count": 6,
      "outputs": []
    },
    {
      "cell_type": "code",
      "source": [
        ""
      ],
      "metadata": {
        "id": "WkCjAqrrsfHQ"
      },
      "execution_count": 6,
      "outputs": []
    },
    {
      "cell_type": "markdown",
      "source": [
        "# 2. MLP 구현 with pytorch"
      ],
      "metadata": {
        "id": "N5lpq6DSStyu"
      }
    },
    {
      "cell_type": "code",
      "source": [
        "class TensorData(Dataset):\n",
        "  def __init__(self, x_data, y_data):\n",
        "    self.x_data = torch.FloatTensor(x_data)\n",
        "    self.y_data = torch.LongTensor(y_data.to_numpy())\n",
        "    self.len = self.y_data.shape[0]\n",
        "\n",
        "  def __getitem__(self, index):\n",
        "    return self.x_data[index], self.y_data[index]\n",
        "\n",
        "  def __len__(self):\n",
        "    return self.len"
      ],
      "metadata": {
        "id": "bMC5esdaS7pE"
      },
      "execution_count": 7,
      "outputs": []
    },
    {
      "cell_type": "code",
      "source": [
        "trainsets = TensorData(X_train, y_train)\n",
        "trainloader = torch.utils.data.DataLoader(trainsets, batch_size = 32, shuffle = True)\n",
        "\n",
        "testsets = TensorData(X_valid, y_valid)\n",
        "testloader = torch.utils.data.DataLoader(testsets, batch_size = 32, shuffle = False)"
      ],
      "metadata": {
        "id": "MLLq1UL6TaYD"
      },
      "execution_count": 8,
      "outputs": []
    },
    {
      "cell_type": "code",
      "source": [
        "class MLP(nn.Module):\n",
        "  def __init__(self):\n",
        "    super().__init__()\n",
        "    self.dropout = nn.Dropout(p=0.2)\n",
        "    self.linear1 = nn.Linear(63, 126)\n",
        "    self.linear2 = nn.Linear(126, 48)\n",
        "    self.linear3 = nn.Linear(48, 24)\n",
        "    self.linear4 = nn.Linear(24, 2)\n",
        "    self.sigmoid = nn.Sigmoid()\n",
        "\n",
        "  def forward(self, x):\n",
        "    mlp1 = F.relu(self.linear1(x))\n",
        "    # print(mlp1.shape)\n",
        "    mlp1 = self.dropout(mlp1)\n",
        "    mlp2 = F.relu(self.linear2(mlp1))\n",
        "    mlp2 = self.dropout(mlp2)\n",
        "    mlp3 = F.relu(self.linear3(mlp2))\n",
        "    mlp3 = self.dropout(mlp3)\n",
        "    # print(mlp3.shape)\n",
        "    mlp4 = F.relu(self.linear4(mlp3))\n",
        "    # print(mlp4.shape)\n",
        "    output = self.sigmoid(mlp4)\n",
        "    return output\n"
      ],
      "metadata": {
        "id": "PUXOQfmGU027"
      },
      "execution_count": 9,
      "outputs": []
    },
    {
      "cell_type": "code",
      "source": [
        "# model = MLP()\n",
        "# input = torch.Tensor(1, 63)\n",
        "\n",
        "# ot = model(input)\n",
        "# print(ot)"
      ],
      "metadata": {
        "id": "PJD9MDr6mJsk"
      },
      "execution_count": 10,
      "outputs": []
    },
    {
      "cell_type": "code",
      "source": [
        "# model = nn.Sequential(\n",
        "#     nn.Linear(63, 126),\n",
        "#     nn.ReLU(),\n",
        "#     nn.Dropout(0.2),\n",
        "#     nn.Linear(126, 48),\n",
        "#     nn.ReLU(),\n",
        "#     nn.Dropout(0.2),\n",
        "#     nn.Linear(48, 24),\n",
        "#     nn.ReLU(),\n",
        "#     nn.Dropout(0.2),\n",
        "#     nn.Linear(24, 2),\n",
        "#     nn.Sigmoid()\n",
        "# )"
      ],
      "metadata": {
        "id": "bEfDY91kfSSt"
      },
      "execution_count": 11,
      "outputs": []
    },
    {
      "cell_type": "code",
      "source": [
        "# X_trrain_tensor = torch.tensor(X_train, dtype = torch.float32)\n",
        "# y_train_tensor = torch.tensor(y_train, dtype = torch.int64)"
      ],
      "metadata": {
        "id": "aKt4jB6sftMX"
      },
      "execution_count": 12,
      "outputs": []
    },
    {
      "cell_type": "code",
      "source": [
        "EPOCHS = 200\n",
        "DEVICE = torch.device('cuda') if torch.cuda.is_available() else torch.device('cpu')\n",
        "\n",
        "model = MLP().to(DEVICE)\n",
        "\n",
        "criterion = nn.CrossEntropyLoss() \n",
        "optimizer = optim.Adam(model.parameters(), lr=0.001)"
      ],
      "metadata": {
        "id": "pf3wfIudf-by"
      },
      "execution_count": 13,
      "outputs": []
    },
    {
      "cell_type": "code",
      "source": [
        "loss_list = []\n",
        "acc_list = []\n",
        "for epoch in range(EPOCHS):\n",
        "    for i, (X_batch, y_batch) in enumerate(trainloader):\n",
        "        #Forward \n",
        "        X_batch = X_batch.to(DEVICE)\n",
        "        y_batch = y_batch.to(DEVICE)\n",
        "        y_output = model(X_batch)\n",
        "\n",
        "        loss = criterion(y_output, y_batch) \n",
        "\n",
        "        #Backward\n",
        "        optimizer.zero_grad()\n",
        "        loss.backward()\n",
        "        optimizer.step()\n",
        "        \n",
        "        #misc (acc 계산, etc) \n",
        "        y_pred = torch.max(y_output, 1)[1]\n",
        "        acc = accuracy_score(y_pred.data.cpu(), y_batch.data.cpu())\n",
        "        loss_list.append(loss.item())\n",
        "        acc_list.append(acc)\n",
        "\n",
        "    if (epoch+1) % 10 == 0:\n",
        "        print('Epoch [{}/{}] Step [{}/{}] Loss: [{:.4f}] Train ACC [{:.2f}%]'.format(epoch+1, EPOCHS, \\\n",
        "                                                                                   i+1, len(trainloader), loss.item(), acc*100))"
      ],
      "metadata": {
        "id": "mp5bDNThgI-z",
        "colab": {
          "base_uri": "https://localhost:8080/"
        },
        "outputId": "b7b7bde0-14fe-43e2-a6d4-0114498cfa78"
      },
      "execution_count": 14,
      "outputs": [
        {
          "output_type": "stream",
          "name": "stdout",
          "text": [
            "Epoch [10/200] Step [2500/2500] Loss: [0.6541] Train ACC [62.50%]\n",
            "Epoch [20/200] Step [2500/2500] Loss: [0.6948] Train ACC [50.00%]\n",
            "Epoch [30/200] Step [2500/2500] Loss: [0.6079] Train ACC [75.00%]\n",
            "Epoch [40/200] Step [2500/2500] Loss: [0.5967] Train ACC [75.00%]\n",
            "Epoch [50/200] Step [2500/2500] Loss: [0.6079] Train ACC [68.75%]\n",
            "Epoch [60/200] Step [2500/2500] Loss: [0.5455] Train ACC [84.38%]\n",
            "Epoch [70/200] Step [2500/2500] Loss: [0.6092] Train ACC [75.00%]\n",
            "Epoch [80/200] Step [2500/2500] Loss: [0.5882] Train ACC [78.12%]\n",
            "Epoch [90/200] Step [2500/2500] Loss: [0.5827] Train ACC [75.00%]\n",
            "Epoch [100/200] Step [2500/2500] Loss: [0.5935] Train ACC [78.12%]\n",
            "Epoch [110/200] Step [2500/2500] Loss: [0.5773] Train ACC [81.25%]\n",
            "Epoch [120/200] Step [2500/2500] Loss: [0.6354] Train ACC [68.75%]\n",
            "Epoch [130/200] Step [2500/2500] Loss: [0.5649] Train ACC [84.38%]\n",
            "Epoch [140/200] Step [2500/2500] Loss: [0.5362] Train ACC [87.50%]\n",
            "Epoch [150/200] Step [2500/2500] Loss: [0.5124] Train ACC [90.62%]\n",
            "Epoch [160/200] Step [2500/2500] Loss: [0.6243] Train ACC [68.75%]\n",
            "Epoch [170/200] Step [2500/2500] Loss: [0.6383] Train ACC [68.75%]\n",
            "Epoch [180/200] Step [2500/2500] Loss: [0.6589] Train ACC [62.50%]\n",
            "Epoch [190/200] Step [2500/2500] Loss: [0.5969] Train ACC [75.00%]\n",
            "Epoch [200/200] Step [2500/2500] Loss: [0.6134] Train ACC [71.88%]\n"
          ]
        }
      ]
    },
    {
      "cell_type": "code",
      "source": [
        "test_y_pred = []\n",
        "test_acc_list = []\n",
        "with torch.no_grad():\n",
        "\n",
        "    for X_batch, y_batch in testloader:    \n",
        "        #Forward\n",
        "        X_batch = X_batch.to(DEVICE)\n",
        "        y_batch = y_batch.to(DEVICE)\n",
        "        y_output = model(X_batch)\n",
        "        \n",
        "        #misc (acc 계산, etc) \n",
        "        y_pred = torch.max(y_output, 1)[1]\n",
        "        test_y_pred.extend(y_pred.data.cpu()) ##\n",
        "        \n",
        "        acc = accuracy_score(y_pred.data.cpu(), y_batch.data.cpu())\n",
        "        test_acc_list.append(acc)\n",
        "    test_acc = np.mean(test_acc_list)\n",
        "print('Test ACC: [{:.2f}%]'.format(test_acc*100))"
      ],
      "metadata": {
        "colab": {
          "base_uri": "https://localhost:8080/"
        },
        "id": "FZSdxu_eOP0L",
        "outputId": "d05ecb6c-b682-4045-dc87-18344f3c0bff"
      },
      "execution_count": 34,
      "outputs": [
        {
          "output_type": "stream",
          "name": "stdout",
          "text": [
            "Test ACC: [72.42%]\n"
          ]
        }
      ]
    },
    {
      "cell_type": "code",
      "source": [
        "from sklearn.metrics import f1_score\n",
        "print(f1_score(list(y_valid),test_y_pred, average='macro'))"
      ],
      "metadata": {
        "colab": {
          "base_uri": "https://localhost:8080/"
        },
        "id": "tGwU2onwtBsj",
        "outputId": "a9b099fd-c1ce-4b88-d3a0-4569b64e2059"
      },
      "execution_count": 39,
      "outputs": [
        {
          "output_type": "stream",
          "name": "stdout",
          "text": [
            "0.6259546514091968\n"
          ]
        }
      ]
    },
    {
      "cell_type": "code",
      "source": [
        "print(len(list(y_valid)))"
      ],
      "metadata": {
        "colab": {
          "base_uri": "https://localhost:8080/"
        },
        "id": "Qy_GJD6-3Aln",
        "outputId": "292a7a3f-04cf-498e-f4e4-2b7853a06f53"
      },
      "execution_count": 26,
      "outputs": [
        {
          "output_type": "stream",
          "name": "stdout",
          "text": [
            "20000\n"
          ]
        }
      ]
    },
    {
      "cell_type": "code",
      "source": [
        "len(test_y_pred)"
      ],
      "metadata": {
        "colab": {
          "base_uri": "https://localhost:8080/"
        },
        "id": "UkmFIAn73Cm-",
        "outputId": "a44ca3a1-5e6c-4ea5-dea7-31b92c0933fa"
      },
      "execution_count": 23,
      "outputs": [
        {
          "output_type": "execute_result",
          "data": {
            "text/plain": [
              "20000"
            ]
          },
          "metadata": {},
          "execution_count": 23
        }
      ]
    },
    {
      "cell_type": "code",
      "source": [
        "list(y_valid)[:3]"
      ],
      "metadata": {
        "colab": {
          "base_uri": "https://localhost:8080/"
        },
        "id": "wK3mT9sB3Gm9",
        "outputId": "bf918620-07fb-4048-f513-466ad139fcd7"
      },
      "execution_count": 28,
      "outputs": [
        {
          "output_type": "execute_result",
          "data": {
            "text/plain": [
              "[1, 0, 1]"
            ]
          },
          "metadata": {},
          "execution_count": 28
        }
      ]
    },
    {
      "cell_type": "code",
      "source": [
        ""
      ],
      "metadata": {
        "id": "UOORwFhh3wDS"
      },
      "execution_count": null,
      "outputs": []
    }
  ]
}