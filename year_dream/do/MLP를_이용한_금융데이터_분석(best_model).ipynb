{
  "nbformat": 4,
  "nbformat_minor": 0,
  "metadata": {
    "colab": {
      "name": "MLP를 이용한 금융데이터 분석(best_model).ipynb",
      "provenance": [],
      "collapsed_sections": [],
      "authorship_tag": "ABX9TyMWGvpsEqpF76QFjlI6bggM",
      "include_colab_link": true
    },
    "kernelspec": {
      "name": "python3",
      "display_name": "Python 3"
    },
    "language_info": {
      "name": "python"
    },
    "accelerator": "GPU"
  },
  "cells": [
    {
      "cell_type": "markdown",
      "metadata": {
        "id": "view-in-github",
        "colab_type": "text"
      },
      "source": [
        "<a href=\"https://colab.research.google.com/github/highway92/machine_learning/blob/main/year_dream/do/MLP%EB%A5%BC_%EC%9D%B4%EC%9A%A9%ED%95%9C_%EA%B8%88%EC%9C%B5%EB%8D%B0%EC%9D%B4%ED%84%B0_%EB%B6%84%EC%84%9D(best_model).ipynb\" target=\"_parent\"><img src=\"https://colab.research.google.com/assets/colab-badge.svg\" alt=\"Open In Colab\"/></a>"
      ]
    },
    {
      "cell_type": "code",
      "execution_count": 1,
      "metadata": {
        "id": "5FlsaYJxBp5K"
      },
      "outputs": [],
      "source": [
        "import pandas as pd\n",
        "import numpy as np\n",
        "\n",
        "import seaborn as sns\n",
        "import matplotlib\n",
        "import matplotlib.pyplot as plt\n",
        "%matplotlib inline\n",
        "from sklearn.model_selection import train_test_split\n",
        "from sklearn.metrics import accuracy_score, precision_score, recall_score, f1_score, roc_auc_score, roc_curve, auc, confusion_matrix\n",
        "\n",
        "\n",
        "import warnings\n",
        "warnings.filterwarnings('ignore')"
      ]
    },
    {
      "cell_type": "code",
      "source": [
        "from sklearn.preprocessing import MinMaxScaler\n",
        "from sklearn.feature_selection import VarianceThreshold\n",
        "import torch\n",
        "from torch import nn, optim\n",
        "\n",
        "from torch.utils.data import DataLoader, Dataset\n",
        "\n",
        "import torch.nn.functional as F"
      ],
      "metadata": {
        "id": "CM-aJ44cGVMC"
      },
      "execution_count": 2,
      "outputs": []
    },
    {
      "cell_type": "markdown",
      "source": [
        "# 1. 데이터 로드 및 전처리\n",
        "- feature selection\n",
        "- MinMax Scaler"
      ],
      "metadata": {
        "id": "xOuDGKxDSZTB"
      }
    },
    {
      "cell_type": "code",
      "source": [
        "train_df = pd.read_csv('./train.csv')\n",
        "test_df = pd.read_csv('./test.csv')\n",
        "submission = pd.read_csv('./sample_submission.csv')"
      ],
      "metadata": {
        "id": "D-qVu9RoQVCo"
      },
      "execution_count": 3,
      "outputs": []
    },
    {
      "cell_type": "code",
      "source": [
        "X = train_df.iloc[:, :-1]\n",
        "y = train_df.iloc[:, -1]\n"
      ],
      "metadata": {
        "id": "HehHcwFiQjaU"
      },
      "execution_count": 4,
      "outputs": []
    },
    {
      "cell_type": "code",
      "source": [
        "sel = VarianceThreshold(threshold=0.01)\n",
        "X = sel.fit_transform(X)\n",
        "\n",
        "\n",
        "X_train, X_valid, y_train, y_valid = train_test_split(X, y, test_size = 0.2)\n",
        "print('training set length :', len(X_train))\n",
        "print('validation set length :', len(X_valid))"
      ],
      "metadata": {
        "colab": {
          "base_uri": "https://localhost:8080/"
        },
        "id": "EeIbYavMQwA1",
        "outputId": "2e3c5122-c23d-4f29-c04b-019d0af0b032"
      },
      "execution_count": 5,
      "outputs": [
        {
          "output_type": "stream",
          "name": "stdout",
          "text": [
            "training set length : 80000\n",
            "validation set length : 20000\n"
          ]
        }
      ]
    },
    {
      "cell_type": "code",
      "source": [
        "scaler = MinMaxScaler()\n",
        "\n",
        "X_train = scaler.fit_transform(X_train)\n",
        "X_valid = scaler.fit_transform(X_valid)"
      ],
      "metadata": {
        "id": "5wEiLMIcShik"
      },
      "execution_count": 6,
      "outputs": []
    },
    {
      "cell_type": "code",
      "source": [
        "X_test = test_df.iloc[:, :-1]\n",
        "y_test = test_df.iloc[:, -1]\n",
        "X_test = sel.fit_transform(X_test)\n",
        "X_test = scaler.fit_transform(X_test)"
      ],
      "metadata": {
        "id": "WkCjAqrrsfHQ"
      },
      "execution_count": 10,
      "outputs": []
    },
    {
      "cell_type": "code",
      "source": [
        "submission.head()"
      ],
      "metadata": {
        "colab": {
          "base_uri": "https://localhost:8080/",
          "height": 206
        },
        "id": "djy2e1a9423l",
        "outputId": "5b7d631d-f8e7-4593-ff47-a868943d520b"
      },
      "execution_count": 33,
      "outputs": [
        {
          "output_type": "execute_result",
          "data": {
            "text/html": [
              "\n",
              "  <div id=\"df-2f9036ba-8438-476f-aabb-ade87595ea9c\">\n",
              "    <div class=\"colab-df-container\">\n",
              "      <div>\n",
              "<style scoped>\n",
              "    .dataframe tbody tr th:only-of-type {\n",
              "        vertical-align: middle;\n",
              "    }\n",
              "\n",
              "    .dataframe tbody tr th {\n",
              "        vertical-align: top;\n",
              "    }\n",
              "\n",
              "    .dataframe thead th {\n",
              "        text-align: right;\n",
              "    }\n",
              "</style>\n",
              "<table border=\"1\" class=\"dataframe\">\n",
              "  <thead>\n",
              "    <tr style=\"text-align: right;\">\n",
              "      <th></th>\n",
              "      <th>ID</th>\n",
              "      <th>answer</th>\n",
              "    </tr>\n",
              "  </thead>\n",
              "  <tbody>\n",
              "    <tr>\n",
              "      <th>0</th>\n",
              "      <td>0</td>\n",
              "      <td>0</td>\n",
              "    </tr>\n",
              "    <tr>\n",
              "      <th>1</th>\n",
              "      <td>1</td>\n",
              "      <td>0</td>\n",
              "    </tr>\n",
              "    <tr>\n",
              "      <th>2</th>\n",
              "      <td>2</td>\n",
              "      <td>0</td>\n",
              "    </tr>\n",
              "    <tr>\n",
              "      <th>3</th>\n",
              "      <td>3</td>\n",
              "      <td>0</td>\n",
              "    </tr>\n",
              "    <tr>\n",
              "      <th>4</th>\n",
              "      <td>4</td>\n",
              "      <td>0</td>\n",
              "    </tr>\n",
              "  </tbody>\n",
              "</table>\n",
              "</div>\n",
              "      <button class=\"colab-df-convert\" onclick=\"convertToInteractive('df-2f9036ba-8438-476f-aabb-ade87595ea9c')\"\n",
              "              title=\"Convert this dataframe to an interactive table.\"\n",
              "              style=\"display:none;\">\n",
              "        \n",
              "  <svg xmlns=\"http://www.w3.org/2000/svg\" height=\"24px\"viewBox=\"0 0 24 24\"\n",
              "       width=\"24px\">\n",
              "    <path d=\"M0 0h24v24H0V0z\" fill=\"none\"/>\n",
              "    <path d=\"M18.56 5.44l.94 2.06.94-2.06 2.06-.94-2.06-.94-.94-2.06-.94 2.06-2.06.94zm-11 1L8.5 8.5l.94-2.06 2.06-.94-2.06-.94L8.5 2.5l-.94 2.06-2.06.94zm10 10l.94 2.06.94-2.06 2.06-.94-2.06-.94-.94-2.06-.94 2.06-2.06.94z\"/><path d=\"M17.41 7.96l-1.37-1.37c-.4-.4-.92-.59-1.43-.59-.52 0-1.04.2-1.43.59L10.3 9.45l-7.72 7.72c-.78.78-.78 2.05 0 2.83L4 21.41c.39.39.9.59 1.41.59.51 0 1.02-.2 1.41-.59l7.78-7.78 2.81-2.81c.8-.78.8-2.07 0-2.86zM5.41 20L4 18.59l7.72-7.72 1.47 1.35L5.41 20z\"/>\n",
              "  </svg>\n",
              "      </button>\n",
              "      \n",
              "  <style>\n",
              "    .colab-df-container {\n",
              "      display:flex;\n",
              "      flex-wrap:wrap;\n",
              "      gap: 12px;\n",
              "    }\n",
              "\n",
              "    .colab-df-convert {\n",
              "      background-color: #E8F0FE;\n",
              "      border: none;\n",
              "      border-radius: 50%;\n",
              "      cursor: pointer;\n",
              "      display: none;\n",
              "      fill: #1967D2;\n",
              "      height: 32px;\n",
              "      padding: 0 0 0 0;\n",
              "      width: 32px;\n",
              "    }\n",
              "\n",
              "    .colab-df-convert:hover {\n",
              "      background-color: #E2EBFA;\n",
              "      box-shadow: 0px 1px 2px rgba(60, 64, 67, 0.3), 0px 1px 3px 1px rgba(60, 64, 67, 0.15);\n",
              "      fill: #174EA6;\n",
              "    }\n",
              "\n",
              "    [theme=dark] .colab-df-convert {\n",
              "      background-color: #3B4455;\n",
              "      fill: #D2E3FC;\n",
              "    }\n",
              "\n",
              "    [theme=dark] .colab-df-convert:hover {\n",
              "      background-color: #434B5C;\n",
              "      box-shadow: 0px 1px 3px 1px rgba(0, 0, 0, 0.15);\n",
              "      filter: drop-shadow(0px 1px 2px rgba(0, 0, 0, 0.3));\n",
              "      fill: #FFFFFF;\n",
              "    }\n",
              "  </style>\n",
              "\n",
              "      <script>\n",
              "        const buttonEl =\n",
              "          document.querySelector('#df-2f9036ba-8438-476f-aabb-ade87595ea9c button.colab-df-convert');\n",
              "        buttonEl.style.display =\n",
              "          google.colab.kernel.accessAllowed ? 'block' : 'none';\n",
              "\n",
              "        async function convertToInteractive(key) {\n",
              "          const element = document.querySelector('#df-2f9036ba-8438-476f-aabb-ade87595ea9c');\n",
              "          const dataTable =\n",
              "            await google.colab.kernel.invokeFunction('convertToInteractive',\n",
              "                                                     [key], {});\n",
              "          if (!dataTable) return;\n",
              "\n",
              "          const docLinkHtml = 'Like what you see? Visit the ' +\n",
              "            '<a target=\"_blank\" href=https://colab.research.google.com/notebooks/data_table.ipynb>data table notebook</a>'\n",
              "            + ' to learn more about interactive tables.';\n",
              "          element.innerHTML = '';\n",
              "          dataTable['output_type'] = 'display_data';\n",
              "          await google.colab.output.renderOutput(dataTable, element);\n",
              "          const docLink = document.createElement('div');\n",
              "          docLink.innerHTML = docLinkHtml;\n",
              "          element.appendChild(docLink);\n",
              "        }\n",
              "      </script>\n",
              "    </div>\n",
              "  </div>\n",
              "  "
            ],
            "text/plain": [
              "   ID  answer\n",
              "0   0       0\n",
              "1   1       0\n",
              "2   2       0\n",
              "3   3       0\n",
              "4   4       0"
            ]
          },
          "metadata": {},
          "execution_count": 33
        }
      ]
    },
    {
      "cell_type": "markdown",
      "source": [
        "# 2. MLP 구현 with pytorch"
      ],
      "metadata": {
        "id": "N5lpq6DSStyu"
      }
    },
    {
      "cell_type": "code",
      "source": [
        "class TensorData(Dataset):\n",
        "  def __init__(self, x_data, y_data):\n",
        "    self.x_data = torch.FloatTensor(x_data)\n",
        "    self.y_data = torch.LongTensor(y_data.to_numpy())\n",
        "    self.len = self.y_data.shape[0]\n",
        "\n",
        "  def __getitem__(self, index):\n",
        "    return self.x_data[index], self.y_data[index]\n",
        "\n",
        "  def __len__(self):\n",
        "    return self.len"
      ],
      "metadata": {
        "id": "bMC5esdaS7pE"
      },
      "execution_count": 11,
      "outputs": []
    },
    {
      "cell_type": "code",
      "source": [
        "trainsets = TensorData(X_train, y_train)\n",
        "trainloader = torch.utils.data.DataLoader(trainsets, batch_size = 32, shuffle = True)\n",
        "\n",
        "testsets = TensorData(X_valid, y_valid)\n",
        "testloader = torch.utils.data.DataLoader(testsets, batch_size = 32, shuffle = False)\n",
        "\n",
        "f1sets = TensorData(X_test, y_test)\n",
        "f1loader = torch.utils.data.DataLoader(f1sets, batch_size = 32, shuffle = False)\n"
      ],
      "metadata": {
        "id": "MLLq1UL6TaYD"
      },
      "execution_count": 12,
      "outputs": []
    },
    {
      "cell_type": "code",
      "source": [
        "class MLP(nn.Module):\n",
        "  def __init__(self):\n",
        "    super().__init__()\n",
        "    self.dropout = nn.Dropout(p=0.2)\n",
        "    self.linear1 = nn.Linear(63, 126)\n",
        "    self.linear2 = nn.Linear(126, 48)\n",
        "    self.linear3 = nn.Linear(48, 24)\n",
        "    self.linear4 = nn.Linear(24, 2)\n",
        "    self.sigmoid = nn.Sigmoid()\n",
        "\n",
        "  def forward(self, x):\n",
        "    mlp1 = F.relu(self.linear1(x))\n",
        "    # print(mlp1.shape)\n",
        "    mlp1 = self.dropout(mlp1)\n",
        "    mlp2 = F.relu(self.linear2(mlp1))\n",
        "    mlp2 = self.dropout(mlp2)\n",
        "    mlp3 = F.relu(self.linear3(mlp2))\n",
        "    mlp3 = self.dropout(mlp3)\n",
        "    # print(mlp3.shape)\n",
        "    mlp4 = F.relu(self.linear4(mlp3))\n",
        "    # print(mlp4.shape)\n",
        "    output = self.sigmoid(mlp4)\n",
        "    return output\n"
      ],
      "metadata": {
        "id": "PUXOQfmGU027"
      },
      "execution_count": 13,
      "outputs": []
    },
    {
      "cell_type": "code",
      "source": [
        "# model = MLP()\n",
        "# input = torch.Tensor(1, 63)\n",
        "\n",
        "# ot = model(input)\n",
        "# print(ot)"
      ],
      "metadata": {
        "id": "PJD9MDr6mJsk"
      },
      "execution_count": 14,
      "outputs": []
    },
    {
      "cell_type": "code",
      "source": [
        "# model = nn.Sequential(\n",
        "#     nn.Linear(63, 126),\n",
        "#     nn.ReLU(),\n",
        "#     nn.Dropout(0.2),\n",
        "#     nn.Linear(126, 48),\n",
        "#     nn.ReLU(),\n",
        "#     nn.Dropout(0.2),\n",
        "#     nn.Linear(48, 24),\n",
        "#     nn.ReLU(),\n",
        "#     nn.Dropout(0.2),\n",
        "#     nn.Linear(24, 2),\n",
        "#     nn.Sigmoid()\n",
        "# )"
      ],
      "metadata": {
        "id": "bEfDY91kfSSt"
      },
      "execution_count": 15,
      "outputs": []
    },
    {
      "cell_type": "code",
      "source": [
        "# X_trrain_tensor = torch.tensor(X_train, dtype = torch.float32)\n",
        "# y_train_tensor = torch.tensor(y_train, dtype = torch.int64)"
      ],
      "metadata": {
        "id": "aKt4jB6sftMX"
      },
      "execution_count": 16,
      "outputs": []
    },
    {
      "cell_type": "code",
      "source": [
        "EPOCHS = 200\n",
        "DEVICE = torch.device('cuda') if torch.cuda.is_available() else torch.device('cpu')\n",
        "\n",
        "model = MLP().to(DEVICE)\n",
        "\n",
        "criterion = nn.CrossEntropyLoss() \n",
        "optimizer = optim.Adam(model.parameters(), lr=0.001)"
      ],
      "metadata": {
        "id": "pf3wfIudf-by"
      },
      "execution_count": 47,
      "outputs": []
    },
    {
      "cell_type": "code",
      "source": [
        "from copy import deepcopy\n",
        "loss_list = []\n",
        "acc_list = []\n",
        "best_acc = 0\n",
        "best_f1 = 0\n",
        "best_acc_model = None \n",
        "best_f1_model = None\n",
        "from sklearn.metrics import f1_score\n",
        "\n",
        "\n",
        "for epoch in range(EPOCHS):\n",
        "    for i, (X_batch, y_batch) in enumerate(trainloader):\n",
        "        #Forward \n",
        "        X_batch = X_batch.to(DEVICE)\n",
        "        y_batch = y_batch.to(DEVICE)\n",
        "        y_output = model(X_batch)\n",
        "\n",
        "        loss = criterion(y_output, y_batch) \n",
        "\n",
        "        #Backward\n",
        "        optimizer.zero_grad()\n",
        "        loss.backward()\n",
        "        optimizer.step()\n",
        "        \n",
        "        #misc (acc 계산, etc) \n",
        "        y_pred = torch.max(y_output, 1)[1]\n",
        "        acc = accuracy_score(y_pred.data.cpu(), y_batch.data.cpu())\n",
        "        f_score = f1_score(y_pred.data.cpu(), y_batch.data.cpu(), average='macro')\n",
        "        if acc > best_acc:\n",
        "          best_acc = acc\n",
        "          best_acc_model = deepcopy(model.state_dict())\n",
        "\n",
        "        if f_score > best_f1:\n",
        "          best_f1 = f_score\n",
        "          best_f1_model = deepcopy(model.state_dict())\n",
        "\n",
        "        loss_list.append(loss.item())\n",
        "        acc_list.append(acc)\n",
        "\n",
        "    if (epoch+1) % 10 == 0:\n",
        "        print('Epoch [{}/{}] Step [{}/{}] Loss: [{:.4f}] Train ACC [{:.2f}%] F1 Score [{:.2f}%]'.format(epoch+1, EPOCHS, \\\n",
        "                                                                                   i+1, len(trainloader), loss.item(), acc*100, f_score * 100))\n",
        "        "
      ],
      "metadata": {
        "id": "mp5bDNThgI-z",
        "colab": {
          "base_uri": "https://localhost:8080/"
        },
        "outputId": "cacdb999-2f4b-439e-81d2-21a41ca21113"
      },
      "execution_count": 48,
      "outputs": [
        {
          "output_type": "stream",
          "name": "stdout",
          "text": [
            "Epoch [10/200] Step [2500/2500] Loss: [0.6400] Train ACC [62.50%] F1 Score [38.46%]\n",
            "Epoch [20/200] Step [2500/2500] Loss: [0.6279] Train ACC [71.88%] F1 Score [41.82%]\n",
            "Epoch [30/200] Step [2500/2500] Loss: [0.6158] Train ACC [68.75%] F1 Score [40.74%]\n",
            "Epoch [40/200] Step [2500/2500] Loss: [0.6201] Train ACC [65.62%] F1 Score [39.62%]\n",
            "Epoch [50/200] Step [2500/2500] Loss: [0.5944] Train ACC [78.12%] F1 Score [77.03%]\n",
            "Epoch [60/200] Step [2500/2500] Loss: [0.5802] Train ACC [78.12%] F1 Score [66.21%]\n",
            "Epoch [70/200] Step [2500/2500] Loss: [0.6503] Train ACC [59.38%] F1 Score [58.36%]\n",
            "Epoch [80/200] Step [2500/2500] Loss: [0.6289] Train ACC [68.75%] F1 Score [61.35%]\n",
            "Epoch [90/200] Step [2500/2500] Loss: [0.5525] Train ACC [81.25%] F1 Score [75.00%]\n",
            "Epoch [100/200] Step [2500/2500] Loss: [0.5711] Train ACC [81.25%] F1 Score [72.57%]\n",
            "Epoch [110/200] Step [2500/2500] Loss: [0.6077] Train ACC [71.88%] F1 Score [60.82%]\n",
            "Epoch [120/200] Step [2500/2500] Loss: [0.5927] Train ACC [75.00%] F1 Score [58.97%]\n",
            "Epoch [130/200] Step [2500/2500] Loss: [0.5756] Train ACC [81.25%] F1 Score [76.81%]\n",
            "Epoch [140/200] Step [2500/2500] Loss: [0.5993] Train ACC [75.00%] F1 Score [72.29%]\n",
            "Epoch [150/200] Step [2500/2500] Loss: [0.5832] Train ACC [78.12%] F1 Score [66.21%]\n",
            "Epoch [160/200] Step [2500/2500] Loss: [0.5874] Train ACC [78.12%] F1 Score [71.96%]\n",
            "Epoch [170/200] Step [2500/2500] Loss: [0.6113] Train ACC [71.88%] F1 Score [63.95%]\n",
            "Epoch [180/200] Step [2500/2500] Loss: [0.5794] Train ACC [78.12%] F1 Score [61.58%]\n",
            "Epoch [190/200] Step [2500/2500] Loss: [0.6275] Train ACC [68.75%] F1 Score [61.35%]\n",
            "Epoch [200/200] Step [2500/2500] Loss: [0.6097] Train ACC [71.88%] F1 Score [63.95%]\n"
          ]
        }
      ]
    },
    {
      "cell_type": "code",
      "source": [
        "# best_acc_model\n",
        "\n",
        "acc_model = MLP().to(DEVICE)\n",
        "acc_model.load_state_dict(best_acc_model)\n",
        "acc_model.eval()\n"
      ],
      "metadata": {
        "colab": {
          "base_uri": "https://localhost:8080/"
        },
        "id": "0kH8RPaxP4jh",
        "outputId": "a1c6c3d3-62a1-4a68-8285-ce91b291014f"
      },
      "execution_count": 49,
      "outputs": [
        {
          "output_type": "execute_result",
          "data": {
            "text/plain": [
              "MLP(\n",
              "  (dropout): Dropout(p=0.2, inplace=False)\n",
              "  (linear1): Linear(in_features=63, out_features=126, bias=True)\n",
              "  (linear2): Linear(in_features=126, out_features=48, bias=True)\n",
              "  (linear3): Linear(in_features=48, out_features=24, bias=True)\n",
              "  (linear4): Linear(in_features=24, out_features=2, bias=True)\n",
              "  (sigmoid): Sigmoid()\n",
              ")"
            ]
          },
          "metadata": {},
          "execution_count": 49
        }
      ]
    },
    {
      "cell_type": "code",
      "source": [
        "# best_acc_model\n",
        "\n",
        "test_y_pred = []\n",
        "test_acc_list = []\n",
        "with torch.no_grad():\n",
        "\n",
        "    for X_batch, y_batch in testloader:    \n",
        "        #Forward\n",
        "        X_batch = X_batch.to(DEVICE)\n",
        "        y_batch = y_batch.to(DEVICE)\n",
        "        y_output = acc_model(X_batch)\n",
        "        \n",
        "        #misc (acc 계산, etc) \n",
        "        y_pred = torch.max(y_output, 1)[1]\n",
        "        test_y_pred.extend(y_pred.data.cpu()) ##\n",
        "        \n",
        "        acc = accuracy_score(y_pred.data.cpu(), y_batch.data.cpu())\n",
        "        test_acc_list.append(acc)\n",
        "    test_acc = np.mean(test_acc_list)\n",
        "print('Test ACC: [{:.2f}%]'.format(test_acc*100))\n",
        "print('Test F1: [{:.2f}%]'.format(f1_score(list(y_valid),test_y_pred, average='macro')*100))"
      ],
      "metadata": {
        "colab": {
          "base_uri": "https://localhost:8080/"
        },
        "id": "FZSdxu_eOP0L",
        "outputId": "c0255a26-df71-47cc-cd45-1b317b506601"
      },
      "execution_count": 50,
      "outputs": [
        {
          "output_type": "stream",
          "name": "stdout",
          "text": [
            "Test ACC: [71.80%]\n",
            "Test F1: [59.41%]\n"
          ]
        }
      ]
    },
    {
      "cell_type": "code",
      "source": [
        "# best_f1_score_model\n",
        "f1_model = MLP().to(DEVICE)\n",
        "f1_model.load_state_dict(best_f1_model)\n",
        "f1_model.eval()"
      ],
      "metadata": {
        "colab": {
          "base_uri": "https://localhost:8080/"
        },
        "id": "xDLI3pAoUKgn",
        "outputId": "9332fa17-8fdb-4303-cd95-afa5d326fd1a"
      },
      "execution_count": 51,
      "outputs": [
        {
          "output_type": "execute_result",
          "data": {
            "text/plain": [
              "MLP(\n",
              "  (dropout): Dropout(p=0.2, inplace=False)\n",
              "  (linear1): Linear(in_features=63, out_features=126, bias=True)\n",
              "  (linear2): Linear(in_features=126, out_features=48, bias=True)\n",
              "  (linear3): Linear(in_features=48, out_features=24, bias=True)\n",
              "  (linear4): Linear(in_features=24, out_features=2, bias=True)\n",
              "  (sigmoid): Sigmoid()\n",
              ")"
            ]
          },
          "metadata": {},
          "execution_count": 51
        }
      ]
    },
    {
      "cell_type": "code",
      "source": [
        "# best_f1_score_model\n",
        "\n",
        "test_y_pred = []\n",
        "test_acc_list = []\n",
        "with torch.no_grad():\n",
        "\n",
        "    for X_batch, y_batch in testloader:    \n",
        "        #Forward\n",
        "        X_batch = X_batch.to(DEVICE)\n",
        "        y_batch = y_batch.to(DEVICE)\n",
        "        y_output = f1_model(X_batch)\n",
        "        \n",
        "        #misc (acc 계산, etc) \n",
        "        y_pred = torch.max(y_output, 1)[1]\n",
        "        test_y_pred.extend(y_pred.data.cpu()) ##\n",
        "        \n",
        "        acc = accuracy_score(y_pred.data.cpu(), y_batch.data.cpu())\n",
        "        test_acc_list.append(acc)\n",
        "    test_acc = np.mean(test_acc_list)\n",
        "print('Test ACC: [{:.2f}%]'.format(test_acc*100))\n",
        "print('Test F1: [{:.2f}%]'.format(f1_score(list(y_valid),test_y_pred, average='macro')*100))\n"
      ],
      "metadata": {
        "colab": {
          "base_uri": "https://localhost:8080/"
        },
        "id": "DAUZ4VZtRms6",
        "outputId": "90647cf5-1fa7-44a1-8fa5-6ab9127572ef"
      },
      "execution_count": 52,
      "outputs": [
        {
          "output_type": "stream",
          "name": "stdout",
          "text": [
            "Test ACC: [71.80%]\n",
            "Test F1: [59.41%]\n"
          ]
        }
      ]
    },
    {
      "cell_type": "code",
      "source": [
        "# prediction\n",
        "\n",
        "test_y_pred = []\n",
        "test_acc_list = []\n",
        "with torch.no_grad():\n",
        "\n",
        "    for X_batch, y_batch in f1loader:    \n",
        "        #Forward\n",
        "        X_batch = X_batch.to(DEVICE)\n",
        "        y_batch = y_batch.to(DEVICE)\n",
        "        y_output = f1_model(X_batch)\n",
        "        \n",
        "        #misc (acc 계산, etc) \n",
        "        y_pred = torch.max(y_output, 1)[1]\n",
        "        test_y_pred.extend(y_pred.data.cpu()) ##\n",
        "        \n",
        "        acc = accuracy_score(y_pred.data.cpu(), y_batch.data.cpu())\n",
        "        test_acc_list.append(acc)"
      ],
      "metadata": {
        "id": "tGwU2onwtBsj"
      },
      "execution_count": 53,
      "outputs": []
    },
    {
      "cell_type": "code",
      "source": [
        "test_y_pred = list(map(int, test_y_pred))"
      ],
      "metadata": {
        "id": "UkmFIAn73Cm-"
      },
      "execution_count": 54,
      "outputs": []
    },
    {
      "cell_type": "code",
      "source": [
        "submission['answer'] = test_y_pred\n",
        "submission.to_csv('./prediction.csv', index = False)"
      ],
      "metadata": {
        "id": "wK3mT9sB3Gm9"
      },
      "execution_count": 55,
      "outputs": []
    },
    {
      "cell_type": "code",
      "source": [
        ""
      ],
      "metadata": {
        "id": "FddZpVRX8Cru"
      },
      "execution_count": null,
      "outputs": []
    }
  ]
}