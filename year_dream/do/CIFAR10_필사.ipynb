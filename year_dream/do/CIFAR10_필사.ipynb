{
  "nbformat": 4,
  "nbformat_minor": 0,
  "metadata": {
    "colab": {
      "name": "CIFAR10 필사.ipynb",
      "provenance": [],
      "collapsed_sections": [
        "be8I_f1j_Flo"
      ],
      "authorship_tag": "ABX9TyPDR0FSGML2VkXkSbeAZXDN",
      "include_colab_link": true
    },
    "kernelspec": {
      "name": "python3",
      "display_name": "Python 3"
    },
    "language_info": {
      "name": "python"
    },
    "accelerator": "GPU",
    "widgets": {
      "application/vnd.jupyter.widget-state+json": {
        "1279659f96ee4daabbaba262e8a6080e": {
          "model_module": "@jupyter-widgets/controls",
          "model_name": "HBoxModel",
          "model_module_version": "1.5.0",
          "state": {
            "_view_name": "HBoxView",
            "_dom_classes": [],
            "_model_name": "HBoxModel",
            "_view_module": "@jupyter-widgets/controls",
            "_model_module_version": "1.5.0",
            "_view_count": null,
            "_view_module_version": "1.5.0",
            "box_style": "",
            "layout": "IPY_MODEL_be5cb6bb546644629fafbe86902fdbbe",
            "_model_module": "@jupyter-widgets/controls",
            "children": [
              "IPY_MODEL_96a795048c974f9ba38a5fda34d28592",
              "IPY_MODEL_082096897463448ca9ec6d1ea0a1655a",
              "IPY_MODEL_94dbaf65ceba4ddc99be3e4a1aa5ecd5"
            ]
          }
        },
        "be5cb6bb546644629fafbe86902fdbbe": {
          "model_module": "@jupyter-widgets/base",
          "model_name": "LayoutModel",
          "model_module_version": "1.2.0",
          "state": {
            "_view_name": "LayoutView",
            "grid_template_rows": null,
            "right": null,
            "justify_content": null,
            "_view_module": "@jupyter-widgets/base",
            "overflow": null,
            "_model_module_version": "1.2.0",
            "_view_count": null,
            "flex_flow": null,
            "width": null,
            "min_width": null,
            "border": null,
            "align_items": null,
            "bottom": null,
            "_model_module": "@jupyter-widgets/base",
            "top": null,
            "grid_column": null,
            "overflow_y": null,
            "overflow_x": null,
            "grid_auto_flow": null,
            "grid_area": null,
            "grid_template_columns": null,
            "flex": null,
            "_model_name": "LayoutModel",
            "justify_items": null,
            "grid_row": null,
            "max_height": null,
            "align_content": null,
            "visibility": null,
            "align_self": null,
            "height": null,
            "min_height": null,
            "padding": null,
            "grid_auto_rows": null,
            "grid_gap": null,
            "max_width": null,
            "order": null,
            "_view_module_version": "1.2.0",
            "grid_template_areas": null,
            "object_position": null,
            "object_fit": null,
            "grid_auto_columns": null,
            "margin": null,
            "display": null,
            "left": null
          }
        },
        "96a795048c974f9ba38a5fda34d28592": {
          "model_module": "@jupyter-widgets/controls",
          "model_name": "HTMLModel",
          "model_module_version": "1.5.0",
          "state": {
            "_view_name": "HTMLView",
            "style": "IPY_MODEL_9dd58583e2114f4bbbf2841890a390ae",
            "_dom_classes": [],
            "description": "",
            "_model_name": "HTMLModel",
            "placeholder": "​",
            "_view_module": "@jupyter-widgets/controls",
            "_model_module_version": "1.5.0",
            "value": "",
            "_view_count": null,
            "_view_module_version": "1.5.0",
            "description_tooltip": null,
            "_model_module": "@jupyter-widgets/controls",
            "layout": "IPY_MODEL_8afa3012d8bc4b27b8f81499e551e0de"
          }
        },
        "082096897463448ca9ec6d1ea0a1655a": {
          "model_module": "@jupyter-widgets/controls",
          "model_name": "FloatProgressModel",
          "model_module_version": "1.5.0",
          "state": {
            "_view_name": "ProgressView",
            "style": "IPY_MODEL_86fe6523690344f189881e1fb01afa29",
            "_dom_classes": [],
            "description": "",
            "_model_name": "FloatProgressModel",
            "bar_style": "success",
            "max": 1,
            "_view_module": "@jupyter-widgets/controls",
            "_model_module_version": "1.5.0",
            "value": 1,
            "_view_count": null,
            "_view_module_version": "1.5.0",
            "orientation": "horizontal",
            "min": 0,
            "description_tooltip": null,
            "_model_module": "@jupyter-widgets/controls",
            "layout": "IPY_MODEL_43ef475eade749bc81c2ff0c2011f48e"
          }
        },
        "94dbaf65ceba4ddc99be3e4a1aa5ecd5": {
          "model_module": "@jupyter-widgets/controls",
          "model_name": "HTMLModel",
          "model_module_version": "1.5.0",
          "state": {
            "_view_name": "HTMLView",
            "style": "IPY_MODEL_171d19d1567e4ca5bf480e6bfa2cf1ec",
            "_dom_classes": [],
            "description": "",
            "_model_name": "HTMLModel",
            "placeholder": "​",
            "_view_module": "@jupyter-widgets/controls",
            "_model_module_version": "1.5.0",
            "value": " 170500096/? [22:41&lt;00:00, 51963308.46it/s]",
            "_view_count": null,
            "_view_module_version": "1.5.0",
            "description_tooltip": null,
            "_model_module": "@jupyter-widgets/controls",
            "layout": "IPY_MODEL_bec2036fab6547cab2eb5ce31aeb0213"
          }
        },
        "9dd58583e2114f4bbbf2841890a390ae": {
          "model_module": "@jupyter-widgets/controls",
          "model_name": "DescriptionStyleModel",
          "model_module_version": "1.5.0",
          "state": {
            "_view_name": "StyleView",
            "_model_name": "DescriptionStyleModel",
            "description_width": "",
            "_view_module": "@jupyter-widgets/base",
            "_model_module_version": "1.5.0",
            "_view_count": null,
            "_view_module_version": "1.2.0",
            "_model_module": "@jupyter-widgets/controls"
          }
        },
        "8afa3012d8bc4b27b8f81499e551e0de": {
          "model_module": "@jupyter-widgets/base",
          "model_name": "LayoutModel",
          "model_module_version": "1.2.0",
          "state": {
            "_view_name": "LayoutView",
            "grid_template_rows": null,
            "right": null,
            "justify_content": null,
            "_view_module": "@jupyter-widgets/base",
            "overflow": null,
            "_model_module_version": "1.2.0",
            "_view_count": null,
            "flex_flow": null,
            "width": null,
            "min_width": null,
            "border": null,
            "align_items": null,
            "bottom": null,
            "_model_module": "@jupyter-widgets/base",
            "top": null,
            "grid_column": null,
            "overflow_y": null,
            "overflow_x": null,
            "grid_auto_flow": null,
            "grid_area": null,
            "grid_template_columns": null,
            "flex": null,
            "_model_name": "LayoutModel",
            "justify_items": null,
            "grid_row": null,
            "max_height": null,
            "align_content": null,
            "visibility": null,
            "align_self": null,
            "height": null,
            "min_height": null,
            "padding": null,
            "grid_auto_rows": null,
            "grid_gap": null,
            "max_width": null,
            "order": null,
            "_view_module_version": "1.2.0",
            "grid_template_areas": null,
            "object_position": null,
            "object_fit": null,
            "grid_auto_columns": null,
            "margin": null,
            "display": null,
            "left": null
          }
        },
        "86fe6523690344f189881e1fb01afa29": {
          "model_module": "@jupyter-widgets/controls",
          "model_name": "ProgressStyleModel",
          "model_module_version": "1.5.0",
          "state": {
            "_view_name": "StyleView",
            "_model_name": "ProgressStyleModel",
            "description_width": "",
            "_view_module": "@jupyter-widgets/base",
            "_model_module_version": "1.5.0",
            "_view_count": null,
            "_view_module_version": "1.2.0",
            "bar_color": null,
            "_model_module": "@jupyter-widgets/controls"
          }
        },
        "43ef475eade749bc81c2ff0c2011f48e": {
          "model_module": "@jupyter-widgets/base",
          "model_name": "LayoutModel",
          "model_module_version": "1.2.0",
          "state": {
            "_view_name": "LayoutView",
            "grid_template_rows": null,
            "right": null,
            "justify_content": null,
            "_view_module": "@jupyter-widgets/base",
            "overflow": null,
            "_model_module_version": "1.2.0",
            "_view_count": null,
            "flex_flow": null,
            "width": "20px",
            "min_width": null,
            "border": null,
            "align_items": null,
            "bottom": null,
            "_model_module": "@jupyter-widgets/base",
            "top": null,
            "grid_column": null,
            "overflow_y": null,
            "overflow_x": null,
            "grid_auto_flow": null,
            "grid_area": null,
            "grid_template_columns": null,
            "flex": null,
            "_model_name": "LayoutModel",
            "justify_items": null,
            "grid_row": null,
            "max_height": null,
            "align_content": null,
            "visibility": null,
            "align_self": null,
            "height": null,
            "min_height": null,
            "padding": null,
            "grid_auto_rows": null,
            "grid_gap": null,
            "max_width": null,
            "order": null,
            "_view_module_version": "1.2.0",
            "grid_template_areas": null,
            "object_position": null,
            "object_fit": null,
            "grid_auto_columns": null,
            "margin": null,
            "display": null,
            "left": null
          }
        },
        "171d19d1567e4ca5bf480e6bfa2cf1ec": {
          "model_module": "@jupyter-widgets/controls",
          "model_name": "DescriptionStyleModel",
          "model_module_version": "1.5.0",
          "state": {
            "_view_name": "StyleView",
            "_model_name": "DescriptionStyleModel",
            "description_width": "",
            "_view_module": "@jupyter-widgets/base",
            "_model_module_version": "1.5.0",
            "_view_count": null,
            "_view_module_version": "1.2.0",
            "_model_module": "@jupyter-widgets/controls"
          }
        },
        "bec2036fab6547cab2eb5ce31aeb0213": {
          "model_module": "@jupyter-widgets/base",
          "model_name": "LayoutModel",
          "model_module_version": "1.2.0",
          "state": {
            "_view_name": "LayoutView",
            "grid_template_rows": null,
            "right": null,
            "justify_content": null,
            "_view_module": "@jupyter-widgets/base",
            "overflow": null,
            "_model_module_version": "1.2.0",
            "_view_count": null,
            "flex_flow": null,
            "width": null,
            "min_width": null,
            "border": null,
            "align_items": null,
            "bottom": null,
            "_model_module": "@jupyter-widgets/base",
            "top": null,
            "grid_column": null,
            "overflow_y": null,
            "overflow_x": null,
            "grid_auto_flow": null,
            "grid_area": null,
            "grid_template_columns": null,
            "flex": null,
            "_model_name": "LayoutModel",
            "justify_items": null,
            "grid_row": null,
            "max_height": null,
            "align_content": null,
            "visibility": null,
            "align_self": null,
            "height": null,
            "min_height": null,
            "padding": null,
            "grid_auto_rows": null,
            "grid_gap": null,
            "max_width": null,
            "order": null,
            "_view_module_version": "1.2.0",
            "grid_template_areas": null,
            "object_position": null,
            "object_fit": null,
            "grid_auto_columns": null,
            "margin": null,
            "display": null,
            "left": null
          }
        }
      }
    }
  },
  "cells": [
    {
      "cell_type": "markdown",
      "metadata": {
        "id": "view-in-github",
        "colab_type": "text"
      },
      "source": [
        "<a href=\"https://colab.research.google.com/github/highway92/machine_learning/blob/main/year_dream/do/CIFAR10_%ED%95%84%EC%82%AC.ipynb\" target=\"_parent\"><img src=\"https://colab.research.google.com/assets/colab-badge.svg\" alt=\"Open In Colab\"/></a>"
      ]
    },
    {
      "cell_type": "markdown",
      "source": [
        "# PyTorch Image Classifier\n"
      ],
      "metadata": {
        "id": "EK9VJapOKvKK"
      }
    },
    {
      "cell_type": "code",
      "source": [
        "%reload_ext autoreload\n",
        "%autoreload 2\n",
        "%matplotlib inline\n",
        "\n",
        "# 위의 autoreload와 autoreload2는 파이썬 코드를 실행하기 전에 항상 모든 모듈을 Reload하라는 의미이다.\n",
        "# 자세한 내용이 알고 싶다면 구글링하자 그렇지 않다면 그냥 그렇구나~ 하면 된다."
      ],
      "metadata": {
        "id": "YwgE-yPmK22j"
      },
      "execution_count": null,
      "outputs": []
    },
    {
      "cell_type": "code",
      "source": [
        "!pip install -q bentoml \"torch == 1.6.0\" \" torchvision == 0.7.0\" \"pillow == 7.2.0\""
      ],
      "metadata": {
        "id": "RWibWS62M4jf",
        "colab": {
          "base_uri": "https://localhost:8080/"
        },
        "outputId": "dfef713e-8ac6-42c6-f29b-87c1d3ec5ffb"
      },
      "execution_count": null,
      "outputs": [
        {
          "output_type": "stream",
          "name": "stdout",
          "text": [
            "\u001b[K     |████████████████████████████████| 4.0 MB 7.3 MB/s \n",
            "\u001b[K     |████████████████████████████████| 748.8 MB 19 kB/s \n",
            "\u001b[K     |████████████████████████████████| 5.9 MB 64.6 MB/s \n",
            "\u001b[K     |████████████████████████████████| 2.2 MB 52.3 MB/s \n",
            "\u001b[K     |████████████████████████████████| 63 kB 3.2 MB/s \n",
            "\u001b[?25h  Installing build dependencies ... \u001b[?25l\u001b[?25hdone\n",
            "  Getting requirements to build wheel ... \u001b[?25l\u001b[?25hdone\n",
            "    Preparing wheel metadata ... \u001b[?25l\u001b[?25hdone\n",
            "\u001b[K     |████████████████████████████████| 1.1 MB 58.0 MB/s \n",
            "\u001b[K     |████████████████████████████████| 131 kB 77.7 MB/s \n",
            "\u001b[K     |████████████████████████████████| 131 kB 75.3 MB/s \n",
            "\u001b[K     |████████████████████████████████| 146 kB 76.2 MB/s \n",
            "\u001b[K     |████████████████████████████████| 209 kB 81.1 MB/s \n",
            "\u001b[K     |████████████████████████████████| 109 kB 63.5 MB/s \n",
            "\u001b[K     |████████████████████████████████| 1.3 MB 63.2 MB/s \n",
            "\u001b[K     |████████████████████████████████| 79 kB 10.1 MB/s \n",
            "\u001b[K     |████████████████████████████████| 86 kB 6.7 MB/s \n",
            "\u001b[K     |████████████████████████████████| 144 kB 70.8 MB/s \n",
            "\u001b[K     |████████████████████████████████| 160 kB 47.6 MB/s \n",
            "\u001b[K     |████████████████████████████████| 271 kB 72.8 MB/s \n",
            "\u001b[K     |████████████████████████████████| 546 kB 66.1 MB/s \n",
            "\u001b[K     |████████████████████████████████| 75 kB 5.5 MB/s \n",
            "\u001b[K     |████████████████████████████████| 8.5 MB 51.2 MB/s \n",
            "\u001b[K     |████████████████████████████████| 79 kB 9.2 MB/s \n",
            "\u001b[K     |████████████████████████████████| 127 kB 79.8 MB/s \n",
            "\u001b[K     |████████████████████████████████| 53 kB 2.2 MB/s \n",
            "\u001b[?25h  Building wheel for sqlalchemy-utils (setup.py) ... \u001b[?25l\u001b[?25hdone\n",
            "  Building wheel for cerberus (PEP 517) ... \u001b[?25l\u001b[?25hdone\n",
            "\u001b[31mERROR: pip's dependency resolver does not currently take into account all the packages that are installed. This behaviour is the source of the following dependency conflicts.\n",
            "torchtext 0.11.0 requires torch==1.10.0, but you have torch 1.6.0 which is incompatible.\n",
            "torchaudio 0.10.0+cu111 requires torch==1.10.0, but you have torch 1.6.0 which is incompatible.\n",
            "datascience 0.10.6 requires folium==0.2.1, but you have folium 0.8.3 which is incompatible.\n",
            "albumentations 0.1.12 requires imgaug<0.2.7,>=0.2.5, but you have imgaug 0.2.9 which is incompatible.\u001b[0m\n"
          ]
        }
      ]
    },
    {
      "cell_type": "code",
      "source": [
        "import torch\n",
        "import torchvision\n",
        "import torchvision.transforms as transforms"
      ],
      "metadata": {
        "id": "98SRFgRTW7Df"
      },
      "execution_count": null,
      "outputs": []
    },
    {
      "cell_type": "markdown",
      "source": [
        "# Trainig an image classifier\n",
        "\n",
        "딥러닝을 공부하다보면 맨날 영어로 적혀있어서.. 나는 한글로 적어보려고한다.\n",
        "\n",
        "이제부터 다음과 같은 작업들을 할 것이다.\n",
        "- torchvision을 사용하여 CIFAR10 데이터셋을 불러오고 normalizing 할것이다.\n",
        "- Convolutional Nerual Network를 정의할 것이다.\n",
        "- loss function을 정의 할 것이다.\n",
        "- train_data를 이용하여 훈련시킬 것이다.\n",
        "- test_data를 사용하여 테스트도 할 것이다.\n",
        "\n",
        "이쯤 되니 왜 영어로 적혀있는지 알 것 같다. 그렇지만 최대한 한글로 적어보려 노력하겠다.(그래야 내가 나중에 봐도 알아보기 쉬워서)"
      ],
      "metadata": {
        "id": "w_9WKbE3X1Yo"
      }
    },
    {
      "cell_type": "markdown",
      "source": [
        "# 1. Loading and Normalizing CIFAR10\n",
        "torchvision 데이터 세트의 출력은 [0,1]의 PILimage이다.\n",
        "우리는 정규화 하여 [-1,1]사이의 값으로 변환시킬 것이다."
      ],
      "metadata": {
        "id": "U4d0cpyPYmHc"
      }
    },
    {
      "cell_type": "code",
      "source": [
        "transform = transforms.Compose(\n",
        "    [\n",
        "     transforms.ToTensor(),\n",
        "     transforms.Normalize((0.5,0.5,0.5), (0.5,0.5,0.5))\n",
        "    ]\n",
        ")\n",
        "# transforms.ToTensor() 에서 데이터 타입을 Tensor형태로 변경한다.\n",
        "# 왜 텐서로 변환을 시켜주냐면 pytorch가 tensor타입을 좋아하기 때문이다. 정도로 이해하고 있다.\n",
        "# Normalize 안의 값은 왜 0.5 일까?\n",
        "# 이미지의 경우 픽셀 값 하나는 0~255 사이의 값을 가지게 된다.\n",
        "# 하지만 ToTensor()로 타입 변경시 0 ~ 1 사이의 값으로 변하게 된다.\n",
        "# 여기서 normalize 하여 -1 ~ 1 사이의 값으로 바꿔주기 위해 0.5가 들어가게 된다.\n",
        "\n"
      ],
      "metadata": {
        "id": "4Bpb_QBXZOSl"
      },
      "execution_count": null,
      "outputs": []
    },
    {
      "cell_type": "markdown",
      "source": [
        "## Normalize\n",
        "크게 두가지 연산으로 나눠진다.\n",
        "- scaling : 데이터의 scale을 줄여준다.\n",
        "- centering : 데이터의 중심을 원점으로 맞춰준다.(zero-centered)\n",
        "\n",
        "ToTensor()는 scaling을 해준거고, Normalizing을 거치면서 centering + rescaling을 해준것이다.\n",
        "\n",
        "## pytorch의 공식문서를 살펴보자.\n",
        "\n",
        "평균 및 표준 편차를 사용하여 텐서 이미지를 정규화합니다. 이 변환은 PIL 이미지를 지원하지 않습니다. n 채널에 대한 평균: (mean[1],...,mean[n]) 및 표준: (std[1],..,std[n])이 주어지면 이 변환은 입력 토치의 각 채널을 정규화합니다. *텐서 즉, 출력[채널] = (입력[채널] - 평균[채널]) / 표준[채널]\n"
      ],
      "metadata": {
        "id": "J6OX09B1uBmt"
      }
    },
    {
      "cell_type": "code",
      "source": [
        "trainset = torchvision.datasets.CIFAR10(root = './data', train=True, download = True, transform=transform)\n",
        "\n",
        "trainloader = torch.utils.data.DataLoader(trainset, batch_size = 4, shuffle = True, num_workers = 2)\n",
        "# num_worker는 코어의 갯수를 지정해주는 파라미터이다.\n",
        "testset = torchvision.datasets.CIFAR10(root='./data', train=False,\n",
        "                                       download=True, transform=transform)\n",
        "testloader = torch.utils.data.DataLoader(testset, batch_size=4,\n",
        "                                         shuffle=False, num_workers=2)\n",
        "\n",
        "classes = ('plane', 'car', 'bird', 'cat',\n",
        "           'deer', 'dog', 'frog', 'horse', 'ship', 'truck')"
      ],
      "metadata": {
        "colab": {
          "base_uri": "https://localhost:8080/",
          "height": 101,
          "referenced_widgets": [
            "1279659f96ee4daabbaba262e8a6080e",
            "be5cb6bb546644629fafbe86902fdbbe",
            "96a795048c974f9ba38a5fda34d28592",
            "082096897463448ca9ec6d1ea0a1655a",
            "94dbaf65ceba4ddc99be3e4a1aa5ecd5",
            "9dd58583e2114f4bbbf2841890a390ae",
            "8afa3012d8bc4b27b8f81499e551e0de",
            "86fe6523690344f189881e1fb01afa29",
            "43ef475eade749bc81c2ff0c2011f48e",
            "171d19d1567e4ca5bf480e6bfa2cf1ec",
            "bec2036fab6547cab2eb5ce31aeb0213"
          ]
        },
        "id": "Ny1K-oFnq78h",
        "outputId": "23578b3d-303d-403e-dc7b-8afa5fab92c1"
      },
      "execution_count": null,
      "outputs": [
        {
          "output_type": "stream",
          "name": "stdout",
          "text": [
            "Downloading https://www.cs.toronto.edu/~kriz/cifar-10-python.tar.gz to ./data/cifar-10-python.tar.gz\n"
          ]
        },
        {
          "output_type": "display_data",
          "data": {
            "application/vnd.jupyter.widget-view+json": {
              "model_id": "1279659f96ee4daabbaba262e8a6080e",
              "version_minor": 0,
              "version_major": 2
            },
            "text/plain": [
              "0it [00:00, ?it/s]"
            ]
          },
          "metadata": {}
        },
        {
          "output_type": "stream",
          "name": "stdout",
          "text": [
            "Extracting ./data/cifar-10-python.tar.gz to ./data\n",
            "Files already downloaded and verified\n"
          ]
        }
      ]
    },
    {
      "cell_type": "markdown",
      "source": [
        "우선 데이터 로더가 왜 필요한지에 대한 궁금증이 있다.\n",
        "\n",
        "# Dataloader\n",
        "GPU, CPU는 이미지를 batch 형태로 다룰 때 더 빨리 수행할 수 있다고 한다. pytorch는 Data를 배치 형태 또는 이미지 묶음 형태로 쉽게 바꿀 수 있도록 DataLoader라는 클래스를 제공한다.\n",
        "DataLoader클래스는 데이터셋을 받아들이고, 일련의 이미지를 반환합니다.\n",
        "\n",
        "또한 다음과 같은 것들을 해결하기 위해 사용합니다.\n",
        "- input value setting\n",
        "- batch나 epoch 등은 어떻게 설정해야 하는지\n",
        "- 전처리를 하고싶다!\n",
        "- mnis, cifar10 이런 거 말고 내 자신의 데이터를 쓰고 싶다.\n",
        "\n",
        "뭐 이런 다양한 이유가 있다고 한다. 좀 더 잘해지면 공감할 수 있을거 같다."
      ],
      "metadata": {
        "id": "snJ1AFDUvusx"
      }
    },
    {
      "cell_type": "code",
      "source": [
        "# 이제 몇개의 데이터를 한번 살펴보자.\n",
        "\n",
        "import matplotlib.pyplot as plt\n",
        "import numpy as np\n",
        "\n",
        "# functions to show an image\n",
        "# scale에 따른 시각화차이를 보여주기 위함이다.\n",
        "# 기억하자 pytorch의 tensor 순서는 (C, H, W) 혹은 (B, C, H, W) 이다.\n",
        "\n",
        "def imshow(img):\n",
        "  print(f'img scale min : {img.min()} max : {img.max()}') # -1 ~ 1\n",
        "  npimg = img.numpy()\n",
        "  plt.imshow(np.transpose(npimg, (1, 2, 0))) # np.transpose를 해서 (H, W, C) 의 ndarray가 되었다.\n",
        "  plt.show()\n",
        "\n",
        "\n",
        "dataiter = iter(trainloader)\n",
        "images,labels = dataiter.next()\n",
        "\n",
        "# iter 와 next는 파이썬 문법임으로 궁금하다면 찾아보자\n",
        "\n",
        "#show images\n",
        "\n",
        "imshow(torchvision.utils.make_grid(images, nrow=4))\n",
        "#print labels\n",
        "print(''.join('%5s' % classes[labels[j]] for j in range(4)))\n"
      ],
      "metadata": {
        "id": "eOTThPkhvkHR",
        "colab": {
          "base_uri": "https://localhost:8080/",
          "height": 190
        },
        "outputId": "13cf9333-1085-4efc-fffc-3d24ebee1711"
      },
      "execution_count": 15,
      "outputs": [
        {
          "output_type": "stream",
          "name": "stderr",
          "text": [
            "Clipping input data to the valid range for imshow with RGB data ([0..1] for floats or [0..255] for integers).\n"
          ]
        },
        {
          "output_type": "stream",
          "name": "stdout",
          "text": [
            "img scale min : -1.0 max : 1.0\n"
          ]
        },
        {
          "output_type": "display_data",
          "data": {
            "image/png": "[encoded data removed]",
            "text/plain": [
              "<Figure size 432x288 with 1 Axes>"
            ]
          },
          "metadata": {
            "needs_background": "light"
          }
        },
        {
          "output_type": "stream",
          "name": "stdout",
          "text": [
            " ship birdplane frog\n"
          ]
        }
      ]
    },
    {
      "cell_type": "markdown",
      "source": [
        "# torchvision.utils.make_grid() 에 대하여\n",
        "- 일단 왜쓰는가? : 사람은 항상 궁금증이 많아서 뭐가 들어가고 있는지 보고 싶어 질 때가 있다. 그럴 때 사용한다.\n",
        "\n",
        "- 어떻게 쓰는가? : 자세한 내용을 알고 싶다면 공홈에 들어가자 여기서는 아주 기본적인 사용법만을 알아볼 것이다.\n",
        "\n",
        "이 함수를 사용할 때 가장 중요한 것은 바로 batch를 포함한 (b, c, h, w)의 텐서 혹은 같은 사이즈의 이미지 리스트를 포함해야 한다는 것이다. 나머지 파라미터들은 상황에 맞게 사용하면 된다.\n",
        "\n",
        "이미지 하나만 보고 싶다면 다른 방법을 사용하는 것이 더 좋고,\n",
        "make_grid()를 사용해서는 여러개의 사진들을 한번에 볼 수 있다는 점이 좋다."
      ],
      "metadata": {
        "id": "XYOSLaM1986f"
      }
    },
    {
      "cell_type": "markdown",
      "source": [
        "# 2. Define a Convolutional Neural Network\n"
      ],
      "metadata": {
        "id": "be8I_f1j_Flo"
      }
    },
    {
      "cell_type": "code",
      "source": [
        "import torch.nn as nn\n",
        "import torch.nn.functional as F"
      ],
      "metadata": {
        "id": "UOjfrShq_Elv"
      },
      "execution_count": 9,
      "outputs": []
    },
    {
      "cell_type": "markdown",
      "source": [
        "# CNN(convolutional neural network)\n",
        "## 필요성\n",
        "우선 cnn이 왜 필요한지 부터 알아보자..\n",
        "cnn 개념이 없을 때 이미지 관련 train을 하기 위해서는 각 픽셀을 하나의 입력으로 놓고 진행하게 된다. 이렇게 되면 이미지 크기가 커지거나 망을 깊게 했을 때 parameter의 갯수가 기하급수적으로 증가하게 된다. 또한 이미지의 각 pixel은 같은 중요도를 가지게 되는데 실제로는 중요도가 높고 낮은 영역들이 존재하기에 이를 충분히 반영하지 못하게 된다.\n",
        "\n",
        "## 그래서?\n",
        "그래서 나온것이 CNN이다. CNN은 Feature를 추출하는 Convolution Layer와 추출된 Feature를 Sub-Sampling하는 Pooling Layer로 구성되어 있다.(조금 많이 간단하게 말하면 주변의 픽셀들도 고려하여 중요도를 선정한다고 생각하자)\n",
        "\n"
      ],
      "metadata": {
        "id": "PNjLaqZCHB-n"
      }
    },
    {
      "cell_type": "markdown",
      "source": [
        "# Convolution\n",
        "현재 위치의 출력 데이터는 인접한 Pixel에 Convolution Filter를 곱해서 얻어진 값이다. => 인접한 Pixel값의 영향력이 출력데이터라고 생각하면 된다.\n",
        "\n",
        "위에서 언급한 영향력은 Convolution Filter가 결정하게 되는데 아래의 그림을 보면 조금이나마 이해가 될 것이다. stride나, padding 같은 것들은 나중에 생각하자.\n",
        "\n",
        "참고로 Filter == Kernel 이란 단어와 같은 의미이다."
      ],
      "metadata": {
        "id": "XU5z6dk9ILCX"
      }
    },
    {
      "cell_type": "markdown",
      "source": [
        "![](https://www.researchgate.net/profile/Ihab-S-Mohamed/publication/324165524/figure/fig3/AS:611103423860736@1522709818959/An-example-of-convolution-operation-in-2D-2.png)"
      ],
      "metadata": {
        "id": "QXuL708MJaLd"
      }
    },
    {
      "cell_type": "markdown",
      "source": [
        "예시를 들어보자면 이미지 처리분야에서 유명한 Convolution Filter 로는 Sobel Filter가 있다.\n",
        "\n",
        "왼쪽의 입력데이터가 가운데의 sobel filter를 거치면 오른쪽 출력 데이터와 같은 Feature Map 이 생성되게 된다.\n",
        "(sobel filter는 이미지의 윤곽선을 feature로 하는 convolution 연산이다.)"
      ],
      "metadata": {
        "id": "uaJ1WTtEJ-5s"
      }
    },
    {
      "cell_type": "markdown",
      "source": [
        "![](https://www.cs.toronto.edu/~lczhang/aps360_20191/lec/w03/imgs/sobel1.png)"
      ],
      "metadata": {
        "id": "LW-0QEkJKrIA"
      }
    },
    {
      "cell_type": "markdown",
      "source": [
        "전통적인 이미지 처리에서는 사용자가 직접 추출하고자 하는 Feature Map에 따라 Convolution Filter 값을 설정해줬다고 한다.\n",
        "\n",
        "하지만 딥러닝은 학습을 통해 알아서 filter값을 설정한다. \n",
        "즉 학습을 통해 불변하는 feature를 출력데이터로 나올 수 있게 filter값을 학습한다고 볼 수 있다."
      ],
      "metadata": {
        "id": "6W3Xu7UYLhMi"
      }
    },
    {
      "cell_type": "markdown",
      "source": [
        "# Pooling\n",
        "Pooling은 Convolution과 비슷하게 인접한 Pixel 값만을 사용하지만, 특별히 곱하거나 더하거나 하는 연산은 없다.\n",
        "\n",
        "대표적인 Pooling 방법은 Max Polling과 Average Pooling이 있다.\n",
        "\n",
        "Pooling Layer는 다음과 같은 특징이 있다.\n",
        "- 학습해야 할 매개 변수가 없다.(대상 영역에서 최댓값이나 평균을 취하는 처리이기 때문에 학습할 것이 없다.)\n",
        "- 채널 수가 변하지 않는다.\n",
        "- 입력의 변화에 영향을 적게 받아 입력 데이터가 조금 변해도 Pooling의 결과는 잘 변하지 않습니다."
      ],
      "metadata": {
        "id": "lKNuzgQOMSJk"
      }
    },
    {
      "cell_type": "markdown",
      "source": [
        "![](data:image/png;base64,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)"
      ],
      "metadata": {
        "id": "OWNwx-6iNHnb"
      }
    },
    {
      "cell_type": "markdown",
      "source": [
        "# CNN연산의 Parameter\n",
        "- Convolution Filter 개수: 각 Layer에서의 연산 시간/량을 비교적 일정하게 유지하여 시스템의 균형을 맞추는 것이 좋다고 한다. 보통 Sub-Sampling을 거치면 1/4로 출력이 줄어들기 때문에 Feature Map의 개수는 대략 4배 정도로 증가시키면 된다.\n",
        "\n",
        "\n",
        "- Filter Window Size : 작은 필터를 여러 개 중첩하면 중간 단계에 있는 Non-Linearity를 활용하여 원하는 특징을 좀 더 돋보이도록 할 수 있다. 뿐만 아니라 연산량도 적다.\n",
        "그래서 요즘 대부분의 CNN은 3X3 Filter Window Size를 중첩해서 사용한다.\n",
        "\n",
        "\n",
        "- Padding : Convolution을 수행하기 전, 입력 데이터 주변을 특정 Pixel값으로 채워 늘리는 것을 말한다. Padding을 사용하는 이유는 출력데이터가 Convolution Layer를 지날 때 마다 작아지게 되고, 가장자리의 정보들이 사라질 수 있기 때문이다.\n",
        "보통은 Padding을 수행하고, Sub-Sampling으로 데이터를 Resize한다.\n",
        "\n",
        "- Stride : Window의 이동할 간격을 조절한다. Stride 값이 커지면, 결과 데이터 사이즈가 작아지게 된다."
      ],
      "metadata": {
        "id": "RNl6bdj2NRRT"
      }
    },
    {
      "cell_type": "markdown",
      "source": [
        "# LeNet\n"
      ],
      "metadata": {
        "id": "el3uqlWUAdow"
      }
    },
    {
      "cell_type": "code",
      "source": [
        "class LeNet(nn.Module):\n",
        "  def __init__(self):\n",
        "    super(LeNet, self).__init__()\n",
        "    self.conv1 = nn.Conv2d(3, 6, 5) # nn.Conv2d(input_channel, output_channel, filter_size or kernel)\n",
        "    # conv를 거친 output의 공식은 다음과 같다. (Weight - Fiter size + 2 * Padding) / Stride + 1\n",
        "    self.pool = nn.MaxPool2d(2, 2)\n",
        "    # Maxpooling을 2로 하게 되면 input_filter_size의 값을 2로 나눈 값이 output size가 된다.\n",
        "    # 만약 4로 한다면 4로 나눈값이 될것이다.\n",
        "\n",
        "    self.conv2 = nn.Conv2d(6, 16, 5)\n",
        "    self.fc1 = nn.Linear(16 * 5 * 5, 120)\n",
        "    self.fc2 = nn.Linear(120, 84)\n",
        "    self.fc3 = nn.Linear(84, 10)\n",
        "\n",
        "  def forward(self, x):\n",
        "    x = self.pool(F.relu(self.conv1(x)))\n",
        "    x = self.pool(F.relu(self.conv2(x)))\n",
        "    x = x.view(-1, 16 * 5 *5)\n",
        "    x = F.relu(self.fc1(x))\n",
        "    x = F.relu(self.fc2(x))\n",
        "    x = self.fc3(x)\n",
        "    return x"
      ],
      "metadata": {
        "id": "zQT7RQeyAYsp"
      },
      "execution_count": 36,
      "outputs": []
    },
    {
      "cell_type": "markdown",
      "source": [
        "# 3. Define a Loss function and optimize"
      ],
      "metadata": {
        "id": "NJrTE-H3a619"
      }
    },
    {
      "cell_type": "code",
      "source": [
        "import torch.optim as optim\n",
        "\n",
        "net = LeNet().cuda()\n",
        "criterion = nn.CrossEntropyLoss()\n",
        "optimizer = optim.SGD(net.parameters(), lr = 0.001, momentum = 0.9)"
      ],
      "metadata": {
        "id": "-ZuyUmvDWCUL"
      },
      "execution_count": 37,
      "outputs": []
    },
    {
      "cell_type": "markdown",
      "source": [
        "## CrossEntropyLoss\n",
        "pytorch에서는 다양한 손실 함수를 제공하는데 그중 CrossEntropyLoss는 다중 분류에 사용된다. CrossEntropyLoss는 nn.LogSoftmax와 nn.NLLLoss 연산의 조합이라고 한다.\n",
        "\n",
        "- LogSoftmax : 신경단 말단의 결과 값들을 확률 개념으로 해석하기 위한 Softmax 함수의 결과에 log값을 취한 연산\n",
        "- NLLLoss : LogSoftmax의 결과값에 교차 엔트로피 손실 연산이라고 한다.\n"
      ],
      "metadata": {
        "id": "Hz5Dc0J8cn2z"
      }
    },
    {
      "cell_type": "markdown",
      "source": [
        "# 4. Train the network"
      ],
      "metadata": {
        "id": "NfLTeUqEdqC7"
      }
    },
    {
      "cell_type": "code",
      "source": [
        "for epoch in range(5):\n",
        "\n",
        "  running_loss = 0.0\n",
        "  for i, data in enumerate(trainloader, 0):\n",
        "    # input 데이터를 가져오자 data 는 [inputs, labels] 형태의 array다\n",
        "\n",
        "    inputs, labels = data\n",
        "\n",
        "    inputs = inputs.cuda()\n",
        "    labels = labels.cuda()\n",
        "\n",
        "    # 옵티마이져를 초기화 해주자\n",
        "    optimizer.zero_grad()\n",
        "\n",
        "    # forward + backward + optimize\n",
        "    outputs = net(inputs)\n",
        "    loss = criterion(outputs, labels)\n",
        "    loss.backward()\n",
        "    optimizer.step()\n",
        "\n",
        "    running_loss += loss.item()\n",
        "\n",
        "    if i % 2000 == 1999:\n",
        "      print('[%d, %5d] loss: %.3f' %\n",
        "                  (epoch + 1, i + 1, running_loss / 2000))\n",
        "      running_loss = 0.0\n",
        "\n",
        "print('Finished Training')"
      ],
      "metadata": {
        "colab": {
          "base_uri": "https://localhost:8080/"
        },
        "id": "ZuDf57UOb9JS",
        "outputId": "9b9cb46d-bb84-46f2-eda6-bf79c5aafa14"
      },
      "execution_count": 38,
      "outputs": [
        {
          "output_type": "stream",
          "name": "stdout",
          "text": [
            "[1,  2000] loss: 2.230\n",
            "[1,  4000] loss: 1.934\n",
            "[1,  6000] loss: 1.708\n",
            "[1,  8000] loss: 1.592\n",
            "[1, 10000] loss: 1.548\n",
            "[1, 12000] loss: 1.499\n",
            "[2,  2000] loss: 1.423\n",
            "[2,  4000] loss: 1.408\n",
            "[2,  6000] loss: 1.406\n",
            "[2,  8000] loss: 1.377\n",
            "[2, 10000] loss: 1.362\n",
            "[2, 12000] loss: 1.321\n",
            "[3,  2000] loss: 1.290\n",
            "[3,  4000] loss: 1.263\n",
            "[3,  6000] loss: 1.265\n",
            "[3,  8000] loss: 1.241\n",
            "[3, 10000] loss: 1.232\n",
            "[3, 12000] loss: 1.218\n",
            "[4,  2000] loss: 1.162\n",
            "[4,  4000] loss: 1.182\n",
            "[4,  6000] loss: 1.148\n",
            "[4,  8000] loss: 1.143\n",
            "[4, 10000] loss: 1.170\n",
            "[4, 12000] loss: 1.151\n",
            "[5,  2000] loss: 1.082\n",
            "[5,  4000] loss: 1.083\n",
            "[5,  6000] loss: 1.085\n",
            "[5,  8000] loss: 1.077\n",
            "[5, 10000] loss: 1.088\n",
            "[5, 12000] loss: 1.114\n",
            "Finished Training\n"
          ]
        }
      ]
    },
    {
      "cell_type": "markdown",
      "source": [
        "# 5. Test the network on the test data"
      ],
      "metadata": {
        "id": "DrJc0IfFfFyP"
      }
    },
    {
      "cell_type": "code",
      "source": [
        "dataiter = iter(testloader)\n",
        "images, labels = dataiter.next()\n",
        "\n",
        "imshow(torchvision.utils.make_grid(images))\n",
        "print('GroundTruth: ', ' '.join('%5s' % classes[labels[j]] for j in range(4)))"
      ],
      "metadata": {
        "colab": {
          "base_uri": "https://localhost:8080/",
          "height": 190
        },
        "id": "S8iRbB-Gevc4",
        "outputId": "7f9d3cae-9689-4ee1-8d7b-0da069549bec"
      },
      "execution_count": 39,
      "outputs": [
        {
          "output_type": "stream",
          "name": "stderr",
          "text": [
            "Clipping input data to the valid range for imshow with RGB data ([0..1] for floats or [0..255] for integers).\n"
          ]
        },
        {
          "output_type": "stream",
          "name": "stdout",
          "text": [
            "img scale min : -1.0 max : 1.0\n"
          ]
        },
        {
          "output_type": "display_data",
          "data": {
            "image/png": "[encoded data removed]",
            "text/plain": [
              "<Figure size 432x288 with 1 Axes>"
            ]
          },
          "metadata": {
            "needs_background": "light"
          }
        },
        {
          "output_type": "stream",
          "name": "stdout",
          "text": [
            "GroundTruth:    cat  ship  ship plane\n"
          ]
        }
      ]
    },
    {
      "cell_type": "code",
      "source": [
        "correct = 0\n",
        "total = 0\n",
        "with torch.no_grad():\n",
        "    for data in testloader:\n",
        "        images, labels = data\n",
        "        images = images.cuda()\n",
        "        labels = labels.cuda()\n",
        "        outputs = net(images)\n",
        "        _, predicted = torch.max(outputs.data, 1)\n",
        "        # TODO 4: prediction 값을 기준으로 max 값으로 predicted label 만들기 \n",
        "        total += labels.size(0)\n",
        "        correct += (predicted == labels).sum().item()\n",
        "\n",
        "print('Accuracy of the network on the 10000 test images: %d %%' % (100 * correct / total))"
      ],
      "metadata": {
        "colab": {
          "base_uri": "https://localhost:8080/"
        },
        "id": "aP4abUI_fUNS",
        "outputId": "f8fc25fa-6231-43b8-a9c1-4029e872ee04"
      },
      "execution_count": 40,
      "outputs": [
        {
          "output_type": "stream",
          "name": "stdout",
          "text": [
            "Accuracy of the network on the 10000 test images: 60 %\n"
          ]
        }
      ]
    },
    {
      "cell_type": "code",
      "source": [
        ""
      ],
      "metadata": {
        "id": "G0ijtkXifYnM"
      },
      "execution_count": null,
      "outputs": []
    }
  ]
}