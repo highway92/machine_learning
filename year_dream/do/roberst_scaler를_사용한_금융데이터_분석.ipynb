{
  "nbformat": 4,
  "nbformat_minor": 0,
  "metadata": {
    "colab": {
      "name": "roberst scaler를 사용한 금융데이터 분석.ipynb",
      "provenance": [],
      "authorship_tag": "ABX9TyPRcviVW5sqO1ZnD9S6FTTC",
      "include_colab_link": true
    },
    "kernelspec": {
      "name": "python3",
      "display_name": "Python 3"
    },
    "language_info": {
      "name": "python"
    }
  },
  "cells": [
    {
      "cell_type": "markdown",
      "metadata": {
        "id": "view-in-github",
        "colab_type": "text"
      },
      "source": [
        "<a href=\"https://colab.research.google.com/github/highway92/machine_learning/blob/main/year_dream/do/roberst_scaler%EB%A5%BC_%EC%82%AC%EC%9A%A9%ED%95%9C_%EA%B8%88%EC%9C%B5%EB%8D%B0%EC%9D%B4%ED%84%B0_%EB%B6%84%EC%84%9D.ipynb\" target=\"_parent\"><img src=\"https://colab.research.google.com/assets/colab-badge.svg\" alt=\"Open In Colab\"/></a>"
      ]
    },
    {
      "cell_type": "code",
      "execution_count": 1,
      "metadata": {
        "id": "EHeYRyrtiSkh"
      },
      "outputs": [],
      "source": [
        "import pandas as pd\n",
        "import numpy as np\n",
        "\n",
        "import seaborn as sns\n",
        "import matplotlib\n",
        "import matplotlib.pyplot as plt\n",
        "%matplotlib inline\n",
        "\n",
        "import xgboost\n",
        "from xgboost import XGBClassifier\n",
        "from lightgbm import LGBMClassifier\n",
        "\n",
        "from sklearn.svm import SVC\n",
        "from sklearn.tree import DecisionTreeClassifier\n",
        "from sklearn.neighbors import KNeighborsClassifier\n",
        "from sklearn.ensemble import RandomForestClassifier, AdaBoostClassifier, ExtraTreesClassifier, BaggingClassifier, GradientBoostingClassifier, VotingClassifier, StackingClassifier\n",
        "from sklearn.linear_model import LogisticRegression, LinearRegression, Ridge, RidgeCV, RidgeClassifier\n",
        "from sklearn.model_selection import train_test_split, RepeatedStratifiedKFold, GridSearchCV\n",
        "\n",
        "import sklearn.metrics as metrics\n",
        "from sklearn.metrics import accuracy_score, precision_score, recall_score, f1_score, roc_auc_score, roc_curve, auc, confusion_matrix\n",
        "\n",
        "import warnings\n",
        "warnings.filterwarnings('ignore')"
      ]
    },
    {
      "cell_type": "markdown",
      "source": [
        "# 1. 데이터 셋 불러오기"
      ],
      "metadata": {
        "id": "NaAL3kcu5Aib"
      }
    },
    {
      "cell_type": "code",
      "source": [
        "train_df = pd.read_csv('./train.csv')\n",
        "test_df = pd.read_csv('./test.csv')\n",
        "submission = pd.read_csv('./sample_submission.csv')"
      ],
      "metadata": {
        "id": "fIF6OQLo5KPm"
      },
      "execution_count": 2,
      "outputs": []
    },
    {
      "cell_type": "markdown",
      "source": [
        "# 2. EDA\n",
        "\n",
        "## 변수설명\n",
        "  - **int_rate** : 대출자에 부여된 이자율 (Interest rate of the loan the applicant received)\n",
        "  - **annual_inc** : 연 소득 (annual income)\n",
        "  - **dti** : 소득 대비 부채 비율 (Debt-to-income ratio)\n",
        "  - **delinq_2yrs** : 지난 2년 간 체납 발생 횟수 (Delinquencies on lines of credit in the last 2 years)\n",
        "  - **inq_last_6mths** : 지난 6개월 간 신용 조회 수 (Inquiries into the applicant's credit during the last 6 months)\n",
        "  - **pub_rec** : 파산 횟수 (Number of bankruptcies listed in the public record)\n",
        "  - **revol_bal** : 리볼빙 잔액 (Total credit revolving balance)\n",
        "  - **total_acc** : 지금까지 소유했던 신용카드 개수 (num_total_cc_accounts : Total number of credit card accounts in the applicant's history)\n",
        "  - **collections_12_mths_ex_med** : 의료부문을 제외한 지난 12개월 간 추심 발생 횟수 (num_collections_last_12m : Number of collections in the last 12 months. This excludes medical collections)\n",
        "  - **acc_now_delinq** : 대출자가 체납 상태에 있지 않은 계좌의 수 (The number of accounts on which the borrower is now delinquent)\n",
        "  - **tot_coll_amt** : 대출자에 대한 현재까지의 총 추심액 (total_collection_amount_ever : The total amount that the applicant has had against them in collections)\n",
        "  - **tot_cur_bal** : 전 계좌의 현재 통합 잔고 (Total current balance of all accounts)\n",
        "  - **chargeoff_within_12_mths** : 대출 부 신청인의 대출 신청 직전 12개월 간 세금 공제 횟수 (Number of charge-offs within last 12 months at time of application for the secondary applicant)\n",
        "  - **delinq_amnt** : 체납 금액 (delinquency amount)\n",
        "  - **tax_liens** : 세금 저당권의 수 (Number of tax liens)\n",
        "  - **emp_length1 ~ 12** : 고용 연수 (Number of years in the job)\n",
        "  - **home_ownership1 ~ 6** : 대출 신청자의 주거 소유 형태 (The ownership status of the applicant's residence)\n",
        "  - **verification_status1 ~ 3** : 공동 소득 발생 여부 및 형태 (verification_income_joint : Type of verification of the joint income)\n",
        "  - **purpose1 ~ 14** : 대출 목적 (The purpose of the loan)\n",
        "  - **initial_list_status1 ~ 2** : 최초 대출 상태 (Initial listing status of the loan)\n",
        "  - **mths_since_last_delinq1 ~ 11** : 마지막 체납이 지금으로부터 몇개월 전에 있었는지를 나타내는 변수 (Months since the last delinquency)\n",
        "  \n",
        "  - **funded_amnt** : 대출액 (Funded amount)\n",
        "  - **funded_amnt_inv** : 사채 대출액 (Funded amount by investors)\n",
        "  - **total_rec_late_fee** : 총 연체료 중 납부액 (Late fees received to date)\n",
        "  - **term1** : 상환 기간 (The number of payments on the loan. Values are in months and can be either 36 or 60)\n",
        "  - **open_acc** : 개설 개좌 수 (The number of open credit lines in the borrower's credit file)\n",
        "  - **installment** : 대출 발생 시 월 상환액 (The monthly payment owed by the borrower if the loan originates)\n",
        "  - **revol_util** : 리볼빙 한도 대비 리볼빙 사용 비율 (Revolving line utilization rate, or the amount of credit the borrower is using relative to all available revolving credit)\n",
        "  - **out_prncp** : 대출액 중 원리금 잔액 (Remaining outstanding principal for total amount funded)\n",
        "  - **out_prncp_inv** : 사채 대출액 중 원리금 잔액 (Remaining outstanding principal for total amount funded by investors)\n",
        "  - **total_rec_int** : 이자 상환액 (Interest received to date)\n",
        "  - **fico_range_low** : FICO(일종의 신용점수) 최저값 (The lower boundary range the borrower’s FICO at loan origination belongs to)\n",
        "  - **fico_range_high** : FICO(일종의 신용점수) 최고값 (The upper boundary range the borrower’s FICO at loan origination belongs to)\n",
        "  \n",
        "  - **depvar** : 고객의 부도 여부 (dependent variable)"
      ],
      "metadata": {
        "id": "mY9Vm4445jpj"
      }
    },
    {
      "cell_type": "code",
      "source": [
        "X = train_df.iloc[:, :-1]\n",
        "y = train_df.iloc[:, -1]\n",
        "\n",
        "X_train, X_valid, y_train, y_valid = train_test_split(X, y, test_size = 0.2)\n",
        "print('training set length :', len(X_train))\n",
        "print('validation set length :', len(X_valid))"
      ],
      "metadata": {
        "colab": {
          "base_uri": "https://localhost:8080/"
        },
        "id": "CcjNUkRb_j2I",
        "outputId": "7a1ce98f-476c-4472-8152-61f96a632437"
      },
      "execution_count": 3,
      "outputs": [
        {
          "output_type": "stream",
          "name": "stdout",
          "text": [
            "training set length : 80000\n",
            "validation set length : 20000\n"
          ]
        }
      ]
    },
    {
      "cell_type": "code",
      "source": [
        "from sklearn.preprocessing import RobustScaler\n",
        "\n",
        "scaler = RobustScaler()\n",
        "\n",
        "X_train = scaler.fit_transform(X_train)\n",
        "X_valid = scaler.fit_transform(X_valid)"
      ],
      "metadata": {
        "id": "Z-7NB1H5_LqC"
      },
      "execution_count": 4,
      "outputs": []
    },
    {
      "cell_type": "code",
      "source": [
        "X = test_df.iloc[:, :-1]\n",
        "y = test_df.iloc[:, -1]\n",
        "\n",
        "X_test = scaler.fit_transform(X)"
      ],
      "metadata": {
        "id": "3IfvZ4RpYon4"
      },
      "execution_count": 5,
      "outputs": []
    },
    {
      "cell_type": "markdown",
      "source": [
        "# Logistic Regression"
      ],
      "metadata": {
        "id": "HkQ1nz9E56uf"
      }
    },
    {
      "cell_type": "code",
      "source": [
        "def get_clf_eval(y_actual, y_pred):\n",
        "    accuracy = accuracy_score(y_actual, y_pred)\n",
        "    precision = precision_score(y_actual, y_pred)\n",
        "    recall = recall_score(y_actual, y_pred)\n",
        "    AUC = roc_auc_score(y_actual, y_pred)\n",
        "    F1 = f1_score(y_actual, y_pred)\n",
        "    print('\\n정확도: {:.4f}'.format(accuracy))\n",
        "    print('정밀도: {:.4f}'.format(precision))\n",
        "    print('재현율: {:.4f}'.format(recall))\n",
        "    print('AUC: {:.4f}'.format(AUC))\n",
        "    print('F1: {:.4f}'.format(F1))\n",
        "\n",
        "    sns.heatmap(confusion_matrix(y_actual, y_pred), annot=True, fmt='d', cmap='YlGnBu')\n"
      ],
      "metadata": {
        "id": "ULDn9OKkHBPr"
      },
      "execution_count": 6,
      "outputs": []
    },
    {
      "cell_type": "code",
      "source": [
        "def get_model_train_eval(model, X, y, X_v, y_v, threshold = 0.5):\n",
        "  model.fit(X,y)\n",
        "  pred = model.predict(X_v)\n",
        "  pred_proba = model.predict_proba(X_v)[:, 1] >= threshold\n",
        "  get_clf_eval(y_v, pred_proba)\n",
        "  return (pred, pred_proba)"
      ],
      "metadata": {
        "id": "HB5Rl5sdIZRR"
      },
      "execution_count": 7,
      "outputs": []
    },
    {
      "cell_type": "code",
      "source": [
        "lr_clf = LogisticRegression()\n",
        "lr_clf.fit(X_train,y_train)\n"
      ],
      "metadata": {
        "colab": {
          "base_uri": "https://localhost:8080/",
          "height": 369
        },
        "id": "aukoVlDV6rVs",
        "outputId": "065c966f-6e6d-476f-ae90-f3c94ea55826"
      },
      "execution_count": 8,
      "outputs": [
        {
          "output_type": "stream",
          "name": "stdout",
          "text": [
            "\n",
            "정확도: 0.6217\n",
            "정밀도: 0.4490\n",
            "재현율: 0.7511\n",
            "AUC: 0.6555\n",
            "F1: 0.5620\n"
          ]
        },
        {
          "output_type": "display_data",
          "data": {
            "image/png": "[encoded data removed]",
            "text/plain": [
              "<Figure size 432x288 with 2 Axes>"
            ]
          },
          "metadata": {
            "needs_background": "light"
          }
        }
      ]
    },
    {
      "cell_type": "code",
      "source": [
        "\n",
        "lr_pred = lr_clf.predict(X_valid)\n",
        "lr_pred_proba = lr_clf.predict_proba(X_valid)[:, 1]>=0.45\n",
        "\n",
        "get_clf_eval(y_valid, lr_pred_proba)"
      ],
      "metadata": {
        "colab": {
          "base_uri": "https://localhost:8080/",
          "height": 369
        },
        "id": "uvyK4i_En48J",
        "outputId": "8ba00b0b-27f7-4af8-caca-7c46d201a431"
      },
      "execution_count": 21,
      "outputs": [
        {
          "output_type": "stream",
          "name": "stdout",
          "text": [
            "\n",
            "정확도: 0.7109\n",
            "정밀도: 0.5752\n",
            "재현율: 0.4033\n",
            "AUC: 0.6305\n",
            "F1: 0.4742\n"
          ]
        },
        {
          "output_type": "display_data",
          "data": {
            "image/png": "[encoded data removed]",
            "text/plain": [
              "<Figure size 432x288 with 2 Axes>"
            ]
          },
          "metadata": {
            "needs_background": "light"
          }
        }
      ]
    },
    {
      "cell_type": "code",
      "source": [
        "lr_clf = LogisticRegression()\n",
        "# 파라메터 후보\n",
        "param_grid = {'C': [0.001, 0.01, 0.1, 1, 10, 100],\n",
        "              'penalty': ['l1', 'l2']}\n",
        "\n",
        "# 그리드 서치 진행\n",
        "grid_search = GridSearchCV(LogisticRegression(), param_grid, cv=5)\n",
        "grid_search.fit(X_train, y_train)\n",
        "\n",
        "lr_clf = grid_search.best_estimator_\n",
        "lr_pred = lr_clf.predict(X_valid)\n",
        "lr_pred_proba = lr_clf.predict_proba(X_valid)[:, 1]>=0.5\n",
        "\n",
        "get_clf_eval(y_valid, lr_pred_proba)"
      ],
      "metadata": {
        "colab": {
          "base_uri": "https://localhost:8080/",
          "height": 369
        },
        "id": "DLq5FFhsb4h4",
        "outputId": "aa2b9788-37c0-4b7d-f1a1-e4663d1f5119"
      },
      "execution_count": 9,
      "outputs": [
        {
          "output_type": "stream",
          "name": "stdout",
          "text": [
            "\n",
            "정확도: 0.7127\n",
            "정밀도: 0.6129\n",
            "재현율: 0.3011\n",
            "AUC: 0.6051\n",
            "F1: 0.4038\n"
          ]
        },
        {
          "output_type": "display_data",
          "data": {
            "image/png": "[encoded data removed]",
            "text/plain": [
              "<Figure size 432x288 with 2 Axes>"
            ]
          },
          "metadata": {
            "needs_background": "light"
          }
        }
      ]
    },
    {
      "cell_type": "code",
      "source": [
        "lr_pred_proba = lr_clf.predict_proba(X_valid)[:, 1]>=0.45\n",
        "\n",
        "get_clf_eval(y_valid, lr_pred_proba)"
      ],
      "metadata": {
        "colab": {
          "base_uri": "https://localhost:8080/",
          "height": 369
        },
        "id": "bQB2CKq45lBQ",
        "outputId": "bb4fc997-0baf-4880-dab4-5ec5bc28b364"
      },
      "execution_count": 22,
      "outputs": [
        {
          "output_type": "stream",
          "name": "stdout",
          "text": [
            "\n",
            "정확도: 0.7109\n",
            "정밀도: 0.5752\n",
            "재현율: 0.4033\n",
            "AUC: 0.6305\n",
            "F1: 0.4742\n"
          ]
        },
        {
          "output_type": "display_data",
          "data": {
            "image/png": "[encoded data removed]",
            "text/plain": [
              "<Figure size 432x288 with 2 Axes>"
            ]
          },
          "metadata": {
            "needs_background": "light"
          }
        }
      ]
    },
    {
      "cell_type": "code",
      "source": [
        "xgb_clf = xgboost.XGBClassifier()\n",
        "\n",
        "param_grid = {'max_depth':[3, 5, 7],\n",
        "              'n_estimators':[50, 100]}\n",
        "\n",
        "cv=RepeatedStratifiedKFold(n_splits=5, n_repeats=2)\n",
        "\n",
        "grid_search = GridSearchCV(estimator=xgb_clf,\n",
        "                           param_grid=param_grid, \n",
        "                           n_jobs=-1,\n",
        "                           cv=cv,\n",
        "                           scoring='f1', \n",
        "                           error_score=0) \n",
        "\n",
        "results=grid_search.fit(X_train, y_train)\n",
        "\n",
        "results.best_params_"
      ],
      "metadata": {
        "colab": {
          "base_uri": "https://localhost:8080/"
        },
        "id": "jagmbWFKHHJC",
        "outputId": "3c4d8d10-9d3f-4f75-e605-2ec0d4e6af0e"
      },
      "execution_count": 11,
      "outputs": [
        {
          "output_type": "execute_result",
          "data": {
            "text/plain": [
              "{'max_depth': 7, 'n_estimators': 100}"
            ]
          },
          "metadata": {},
          "execution_count": 11
        }
      ]
    },
    {
      "cell_type": "code",
      "source": [
        "# best parameter를 사용하여 prediction 수행\n",
        "xgb_clf = xgboost.XGBClassifier(max_depth = results.best_params_['max_depth'],\n",
        "                                n_estimators = results.best_params_['n_estimators'],\n",
        "                                eval_metric='mlogloss')\n",
        "\n",
        "\n"
      ],
      "metadata": {
        "colab": {
          "base_uri": "https://localhost:8080/",
          "height": 372
        },
        "id": "yAoes75HI15v",
        "outputId": "21abb4ab-c951-4bc8-c5c9-2635c9bfee36"
      },
      "execution_count": 12,
      "outputs": [
        {
          "output_type": "stream",
          "name": "stdout",
          "text": [
            "\n",
            "정확도: 0.7492\n",
            "정밀도: 0.6125\n",
            "재현율: 0.6097\n",
            "AUC: 0.7128\n",
            "F1: 0.6111\n"
          ]
        },
        {
          "output_type": "display_data",
          "data": {
            "image/png": "[encoded data removed]",
            "text/plain": [
              "<Figure size 432x288 with 2 Axes>"
            ]
          },
          "metadata": {
            "needs_background": "light"
          }
        }
      ]
    },
    {
      "cell_type": "code",
      "source": [
        "xgb_pred_proba = xgb_clf.predict_proba(X_valid)[:, 1]>=0.4\n",
        "\n",
        "get_clf_eval(y_valid, xgb_pred_proba)"
      ],
      "metadata": {
        "colab": {
          "base_uri": "https://localhost:8080/",
          "height": 372
        },
        "id": "R7bjKzq0oI5J",
        "outputId": "b9c03ec1-58e8-4542-c260-46a080ff6290"
      },
      "execution_count": 26,
      "outputs": [
        {
          "output_type": "stream",
          "name": "stdout",
          "text": [
            "\n",
            "정확도: 0.7492\n",
            "정밀도: 0.6125\n",
            "재현율: 0.6097\n",
            "AUC: 0.7128\n",
            "F1: 0.6111\n"
          ]
        },
        {
          "output_type": "display_data",
          "data": {
            "image/png": "[encoded data removed]",
            "text/plain": [
              "<Figure size 432x288 with 2 Axes>"
            ]
          },
          "metadata": {
            "needs_background": "light"
          }
        }
      ]
    },
    {
      "cell_type": "markdown",
      "source": [
        "# Decision Tree"
      ],
      "metadata": {
        "id": "G5dJm1GTT0m3"
      }
    },
    {
      "cell_type": "code",
      "source": [
        "from sklearn.tree import DecisionTreeClassifier\n",
        "from sklearn.model_selection import GridSearchCV\n",
        "\n",
        "param = {\n",
        "    \"min_samples_leaf\" : [i for i in range(2,8)],\n",
        "    \"max_depth\" : [i for i in range(2,7)],\n",
        "}\n",
        "\n",
        "dt_clf = DecisionTreeClassifier()\n",
        "dt_grid = GridSearchCV(dt_clf, param_grid = param, cv = 3)\n",
        "\n",
        "dt_grid.fit(X_train, y_train)\n",
        "\n",
        "result=dt_grid.best_estimator_\n",
        "\n",
        "result"
      ],
      "metadata": {
        "colab": {
          "base_uri": "https://localhost:8080/"
        },
        "id": "ZYpSWNvnT3u5",
        "outputId": "1f32524e-da8e-4633-b12f-c829bd9cc553"
      },
      "execution_count": 13,
      "outputs": [
        {
          "output_type": "execute_result",
          "data": {
            "text/plain": [
              "DecisionTreeClassifier(max_depth=6, min_samples_leaf=5)"
            ]
          },
          "metadata": {},
          "execution_count": 13
        }
      ]
    },
    {
      "cell_type": "code",
      "source": [
        "dt_clf = DecisionTreeClassifier(min_samples_leaf = 5,\n",
        "                                max_depth = 6)\n",
        "\n",
        "dt_clf.fit(X_train, y_train)\n"
      ],
      "metadata": {
        "colab": {
          "base_uri": "https://localhost:8080/"
        },
        "id": "PX_EggZ1XvTL",
        "outputId": "d07778f2-698f-4c66-e4ec-110928d91f47"
      },
      "execution_count": 14,
      "outputs": [
        {
          "output_type": "execute_result",
          "data": {
            "text/plain": [
              "DecisionTreeClassifier(max_depth=6, min_samples_leaf=5)"
            ]
          },
          "metadata": {},
          "execution_count": 14
        }
      ]
    },
    {
      "cell_type": "code",
      "source": [
        "dt_clf_proba = dt_clf.predict_proba(X_valid)[:, 1]>=0.4\n",
        "get_clf_eval(y_valid, dt_clf_proba)"
      ],
      "metadata": {
        "colab": {
          "base_uri": "https://localhost:8080/",
          "height": 371
        },
        "id": "zVOJLl1w7CpD",
        "outputId": "00198a17-b4bf-4a74-d72c-eb6fc06a8653"
      },
      "execution_count": 15,
      "outputs": [
        {
          "output_type": "stream",
          "name": "stdout",
          "text": [
            "\n",
            "정확도: 0.7143\n",
            "정밀도: 0.5661\n",
            "재현율: 0.4971\n",
            "AUC: 0.6576\n",
            "F1: 0.5293\n"
          ]
        },
        {
          "output_type": "display_data",
          "data": {
            "image/png": "[encoded data removed]",
            "text/plain": [
              "<Figure size 432x288 with 2 Axes>"
            ]
          },
          "metadata": {
            "needs_background": "light"
          }
        }
      ]
    },
    {
      "cell_type": "code",
      "source": [
        "# lgbm_clf = LGBMClassifier()\n",
        "# param_grid = {\n",
        "#               'num_leaves' : [20, 40, 60, 80, 100], \n",
        "#               'min_child_samples' : [5, 10, 15],\n",
        "#               'max_depth' : [-1, 5, 10, 20], \n",
        "#               'learning_rate' : [0.05, 0.1, 0.2], \n",
        "#               'reg_alpha' : [0, 0.01, 0.03]\n",
        "#               }\n",
        "# clf = RandomizedSearchCV(lgbm_clf, param_grid, scoring = 'f1', n_iter = 100)\n",
        "\n",
        "# clf.fit(X_train, y_train)\n",
        "\n",
        "lgbm_clf=LGBMClassifier(max_depth = 10, min_child_samples=15, num_leaves=80, reg_alpha = 0.03)\n",
        "lgbm_clf.fit(X_train, y_train)"
      ],
      "metadata": {
        "id": "mNg3jwWfdt9e",
        "colab": {
          "base_uri": "https://localhost:8080/"
        },
        "outputId": "41c7049b-6f74-4268-ecce-531c65cf446b"
      },
      "execution_count": 16,
      "outputs": [
        {
          "output_type": "execute_result",
          "data": {
            "text/plain": [
              "LGBMClassifier(max_depth=10, min_child_samples=15, num_leaves=80,\n",
              "               reg_alpha=0.03)"
            ]
          },
          "metadata": {},
          "execution_count": 16
        }
      ]
    },
    {
      "cell_type": "code",
      "source": [
        "lgbm_pred = lgbm_clf.predict(X_valid)\n",
        "lgbm_pred_proba = lgbm_clf.predict_proba(X_valid)[:, 1]>=0.5\n",
        "\n",
        "get_clf_eval(y_valid, lgbm_pred_proba)"
      ],
      "metadata": {
        "colab": {
          "base_uri": "https://localhost:8080/",
          "height": 369
        },
        "id": "sWGhhzho7PTl",
        "outputId": "f3e19d0c-b062-468a-b91e-8d932ad7da34"
      },
      "execution_count": 27,
      "outputs": [
        {
          "output_type": "stream",
          "name": "stdout",
          "text": [
            "\n",
            "정확도: 0.7537\n",
            "정밀도: 0.6588\n",
            "재현율: 0.4935\n",
            "AUC: 0.6857\n",
            "F1: 0.5643\n"
          ]
        },
        {
          "output_type": "display_data",
          "data": {
            "image/png": "[encoded data removed]",
            "text/plain": [
              "<Figure size 432x288 with 2 Axes>"
            ]
          },
          "metadata": {
            "needs_background": "light"
          }
        }
      ]
    },
    {
      "cell_type": "markdown",
      "source": [
        "# Ensemble(voting) with 5 model\n"
      ],
      "metadata": {
        "id": "q5tRcz7UK1_p"
      }
    },
    {
      "cell_type": "code",
      "source": [
        "voting_clf = VotingClassifier(estimators=[('lgbm', lgbm_clf), ('xgb', xgb_clf),('lr', lr_clf), ('dt',dt_clf)], voting='soft')\n",
        "voting_clf.fit(X_train,y_train)"
      ],
      "metadata": {
        "id": "bYLvC6x_K5nA",
        "colab": {
          "base_uri": "https://localhost:8080/"
        },
        "outputId": "cb63bd57-c3c9-431d-d681-db71eb69bb08"
      },
      "execution_count": 28,
      "outputs": [
        {
          "output_type": "execute_result",
          "data": {
            "text/plain": [
              "VotingClassifier(estimators=[('lgbm',\n",
              "                              LGBMClassifier(max_depth=10, min_child_samples=15,\n",
              "                                             num_leaves=80, reg_alpha=0.03)),\n",
              "                             ('xgb',\n",
              "                              XGBClassifier(eval_metric='mlogloss',\n",
              "                                            max_depth=7)),\n",
              "                             ('lr', LogisticRegression(C=0.001)),\n",
              "                             ('dt',\n",
              "                              DecisionTreeClassifier(max_depth=6,\n",
              "                                                     min_samples_leaf=5))],\n",
              "                 voting='soft')"
            ]
          },
          "metadata": {},
          "execution_count": 28
        }
      ]
    },
    {
      "cell_type": "code",
      "source": [
        "y_pred_vote = voting_clf.predict(X_valid)\n",
        "y_pred_vote_proba = voting_clf.predict_proba(X_valid)[:, 1]>=0.5\n",
        "\n",
        "\n",
        "get_clf_eval(y_valid, y_pred_vote_proba)\n"
      ],
      "metadata": {
        "colab": {
          "base_uri": "https://localhost:8080/",
          "height": 369
        },
        "id": "x_dsZxpcDstw",
        "outputId": "a204c4f0-6e53-44c0-ecdf-d929af2138dd"
      },
      "execution_count": 37,
      "outputs": [
        {
          "output_type": "stream",
          "name": "stdout",
          "text": [
            "\n",
            "정확도: 0.7500\n",
            "정밀도: 0.6877\n",
            "재현율: 0.4152\n",
            "AUC: 0.6626\n",
            "F1: 0.5178\n"
          ]
        },
        {
          "output_type": "display_data",
          "data": {
            "image/png": "[encoded data removed]",
            "text/plain": [
              "<Figure size 432x288 with 2 Axes>"
            ]
          },
          "metadata": {
            "needs_background": "light"
          }
        }
      ]
    },
    {
      "cell_type": "markdown",
      "source": [
        "# Voting - with 3 model"
      ],
      "metadata": {
        "id": "A2rW44qrRqDG"
      }
    },
    {
      "cell_type": "code",
      "source": [
        "voting_clf2 = VotingClassifier(estimators=[('lgbm', lgbm_clf), ('xgb', xgb_clf), ('dt',dt_clf)], voting='soft')\n",
        "voting_clf2.fit(X_train,y_train)"
      ],
      "metadata": {
        "colab": {
          "base_uri": "https://localhost:8080/"
        },
        "id": "xkkvP8P2Rtf8",
        "outputId": "588fc497-0686-4318-842f-29043d9dcc70"
      },
      "execution_count": 30,
      "outputs": [
        {
          "output_type": "execute_result",
          "data": {
            "text/plain": [
              "VotingClassifier(estimators=[('lgbm',\n",
              "                              LGBMClassifier(max_depth=10, min_child_samples=15,\n",
              "                                             num_leaves=80, reg_alpha=0.03)),\n",
              "                             ('xgb',\n",
              "                              XGBClassifier(eval_metric='mlogloss',\n",
              "                                            max_depth=7)),\n",
              "                             ('dt',\n",
              "                              DecisionTreeClassifier(max_depth=6,\n",
              "                                                     min_samples_leaf=5))],\n",
              "                 voting='soft')"
            ]
          },
          "metadata": {},
          "execution_count": 30
        }
      ]
    },
    {
      "cell_type": "code",
      "source": [
        "y_pred_vote = voting_clf2.predict(X_valid)\n",
        "y_pred_vote_proba = voting_clf2.predict_proba(X_valid)[:, 1]>=0.48\n",
        "\n",
        "\n",
        "get_clf_eval(y_valid, y_pred_vote_proba)\n"
      ],
      "metadata": {
        "colab": {
          "base_uri": "https://localhost:8080/",
          "height": 373
        },
        "id": "vLS_uL4aR819",
        "outputId": "f931664e-c7d5-48a6-ac3d-b9d51d4d3716"
      },
      "execution_count": 38,
      "outputs": [
        {
          "output_type": "stream",
          "name": "stdout",
          "text": [
            "\n",
            "정확도: 0.7548\n",
            "정밀도: 0.6688\n",
            "재현율: 0.4782\n",
            "AUC: 0.6825\n",
            "F1: 0.5576\n"
          ]
        },
        {
          "output_type": "display_data",
          "data": {
            "image/png": "[encoded data removed]",
            "text/plain": [
              "<Figure size 432x288 with 2 Axes>"
            ]
          },
          "metadata": {
            "needs_background": "light"
          }
        }
      ]
    },
    {
      "cell_type": "markdown",
      "source": [
        "# Emsemble(Stacking) - with 5 model"
      ],
      "metadata": {
        "id": "prHMK1FqMC3x"
      }
    },
    {
      "cell_type": "code",
      "source": [
        "stacking_clf = StackingClassifier(estimators=[('lgbm', lgbm_clf), ('xgb', xgb_clf),('lr', lr_clf), ('dt',dt_clf)], final_estimator = LGBMClassifier())\n",
        "stacking_clf.fit(X_train, y_train)\n"
      ],
      "metadata": {
        "id": "P01IYHY1LZQQ",
        "colab": {
          "base_uri": "https://localhost:8080/"
        },
        "outputId": "b8b203ce-7ebd-48b8-9595-d58ff609bbf8"
      },
      "execution_count": 39,
      "outputs": [
        {
          "output_type": "execute_result",
          "data": {
            "text/plain": [
              "StackingClassifier(estimators=[('lgbm',\n",
              "                                LGBMClassifier(max_depth=10,\n",
              "                                               min_child_samples=15,\n",
              "                                               num_leaves=80, reg_alpha=0.03)),\n",
              "                               ('xgb',\n",
              "                                XGBClassifier(eval_metric='mlogloss',\n",
              "                                              max_depth=7)),\n",
              "                               ('lr', LogisticRegression(C=0.001)),\n",
              "                               ('dt',\n",
              "                                DecisionTreeClassifier(max_depth=6,\n",
              "                                                       min_samples_leaf=5))],\n",
              "                   final_estimator=LGBMClassifier())"
            ]
          },
          "metadata": {},
          "execution_count": 39
        }
      ]
    },
    {
      "cell_type": "code",
      "source": [
        "y_pred_stack = stacking_clf.predict(X_valid)\n",
        "y_pred_stack_proba = stacking_clf.predict_proba(X_valid)[:, 1]>=0.35\n",
        "\n",
        "# ensemble(stacking) 성능 확인\n",
        "get_clf_eval(y_valid, y_pred_stack_proba)"
      ],
      "metadata": {
        "colab": {
          "base_uri": "https://localhost:8080/",
          "height": 372
        },
        "id": "PAi1hBMgGiSN",
        "outputId": "f4d27c66-bf85-4187-d824-2fb087f3e2ec"
      },
      "execution_count": 59,
      "outputs": [
        {
          "output_type": "stream",
          "name": "stdout",
          "text": [
            "\n",
            "정확도: 0.7352\n",
            "정밀도: 0.5715\n",
            "재현율: 0.7229\n",
            "AUC: 0.7320\n",
            "F1: 0.6383\n"
          ]
        },
        {
          "output_type": "display_data",
          "data": {
            "image/png": "[encoded data removed]",
            "text/plain": [
              "<Figure size 432x288 with 2 Axes>"
            ]
          },
          "metadata": {
            "needs_background": "light"
          }
        }
      ]
    },
    {
      "cell_type": "markdown",
      "source": [
        "# Stacking with 3 model"
      ],
      "metadata": {
        "id": "BysNCdiyRkQm"
      }
    },
    {
      "cell_type": "code",
      "source": [
        "stacking2_clf = StackingClassifier(estimators=[('lgbm', lgbm_clf), ('xgb', xgb_clf),('dt',dt_clf)], final_estimator = LGBMClassifier())\n",
        "stacking2_clf.fit(X_train, y_train)\n"
      ],
      "metadata": {
        "colab": {
          "base_uri": "https://localhost:8080/"
        },
        "id": "t9kQ61y6MkAv",
        "outputId": "83d7d480-0dd6-4af7-b4c9-7d151afcb64f"
      },
      "execution_count": 41,
      "outputs": [
        {
          "output_type": "execute_result",
          "data": {
            "text/plain": [
              "StackingClassifier(estimators=[('lgbm',\n",
              "                                LGBMClassifier(max_depth=10,\n",
              "                                               min_child_samples=15,\n",
              "                                               num_leaves=80, reg_alpha=0.03)),\n",
              "                               ('xgb',\n",
              "                                XGBClassifier(eval_metric='mlogloss',\n",
              "                                              max_depth=7)),\n",
              "                               ('dt',\n",
              "                                DecisionTreeClassifier(max_depth=6,\n",
              "                                                       min_samples_leaf=5))],\n",
              "                   final_estimator=LGBMClassifier())"
            ]
          },
          "metadata": {},
          "execution_count": 41
        }
      ]
    },
    {
      "cell_type": "code",
      "source": [
        "y_pred_stack = stacking2_clf.predict(X_valid)\n",
        "y_pred_stack_proba = stacking2_clf.predict_proba(X_valid)[:, 1]>=0.4\n",
        "\n",
        "# ensemble(stacking) 성능 확인\n",
        "get_clf_eval(y_valid, y_pred_stack_proba)"
      ],
      "metadata": {
        "colab": {
          "base_uri": "https://localhost:8080/",
          "height": 369
        },
        "id": "E1nbkJ9GMztr",
        "outputId": "6e1eb5c1-b204-403b-98d0-458e0202c91b"
      },
      "execution_count": 66,
      "outputs": [
        {
          "output_type": "stream",
          "name": "stdout",
          "text": [
            "\n",
            "정확도: 0.7451\n",
            "정밀도: 0.5929\n",
            "재현율: 0.6750\n",
            "AUC: 0.7268\n",
            "F1: 0.6313\n"
          ]
        },
        {
          "output_type": "display_data",
          "data": {
            "image/png": "[encoded data removed]",
            "text/plain": [
              "<Figure size 432x288 with 2 Axes>"
            ]
          },
          "metadata": {
            "needs_background": "light"
          }
        }
      ]
    },
    {
      "cell_type": "markdown",
      "source": [
        "# Stacking with 2"
      ],
      "metadata": {
        "id": "QPzGZmIkbFk5"
      }
    },
    {
      "cell_type": "code",
      "source": [
        "stacking3_clf = StackingClassifier(estimators=[('lgbm', lgbm_clf), ('xgb', xgb_clf)], final_estimator = LGBMClassifier())\n",
        "stacking3_clf.fit(X_train, y_train)"
      ],
      "metadata": {
        "colab": {
          "base_uri": "https://localhost:8080/"
        },
        "id": "-BlUd88obI6D",
        "outputId": "37b27daa-13af-47a4-d932-01bf4e05ee4c"
      },
      "execution_count": 43,
      "outputs": [
        {
          "output_type": "execute_result",
          "data": {
            "text/plain": [
              "StackingClassifier(estimators=[('lgbm',\n",
              "                                LGBMClassifier(max_depth=10,\n",
              "                                               min_child_samples=15,\n",
              "                                               num_leaves=80, reg_alpha=0.03)),\n",
              "                               ('xgb',\n",
              "                                XGBClassifier(eval_metric='mlogloss',\n",
              "                                              max_depth=7))],\n",
              "                   final_estimator=LGBMClassifier())"
            ]
          },
          "metadata": {},
          "execution_count": 43
        }
      ]
    },
    {
      "cell_type": "code",
      "source": [
        "y_pred_stack = stacking3_clf.predict(X_valid)\n",
        "y_pred_stack_proba = stacking3_clf.predict_proba(X_valid)[:, 1]>=0.4\n",
        "\n",
        "# ensemble(stacking) 성능 확인\n",
        "get_clf_eval(y_valid, y_pred_stack_proba)"
      ],
      "metadata": {
        "colab": {
          "base_uri": "https://localhost:8080/",
          "height": 369
        },
        "id": "77UiPmoLbNUf",
        "outputId": "5603f6e5-f690-4f01-ca62-2c04c4e7d514"
      },
      "execution_count": 72,
      "outputs": [
        {
          "output_type": "stream",
          "name": "stdout",
          "text": [
            "\n",
            "정확도: 0.7441\n",
            "정밀도: 0.5909\n",
            "재현율: 0.6774\n",
            "AUC: 0.7267\n",
            "F1: 0.6312\n"
          ]
        },
        {
          "output_type": "display_data",
          "data": {
            "image/png": "[encoded data removed]",
            "text/plain": [
              "<Figure size 432x288 with 2 Axes>"
            ]
          },
          "metadata": {
            "needs_background": "light"
          }
        }
      ]
    },
    {
      "cell_type": "code",
      "source": [
        "def submit(model, threshold = 0.5):\n",
        "  temp = submission\n",
        "  pred_proba = model.predict_proba(X_test)[:, 1] >= threshold\n",
        "  pred_proba = pred_proba * 1\n",
        "  temp['answer'] = pred_proba\n",
        "  temp.to_csv('./prediction.csv', index = False)"
      ],
      "metadata": {
        "id": "uJExdY6SLyhY"
      },
      "execution_count": 45,
      "outputs": []
    },
    {
      "cell_type": "code",
      "source": [
        "submit(stacking3_clf, 0.4)"
      ],
      "metadata": {
        "id": "HQqOMzdbpMk1"
      },
      "execution_count": 73,
      "outputs": []
    }
  ]
}