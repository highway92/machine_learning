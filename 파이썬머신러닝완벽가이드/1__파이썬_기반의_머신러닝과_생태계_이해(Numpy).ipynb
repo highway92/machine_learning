{
  "nbformat": 4,
  "nbformat_minor": 0,
  "metadata": {
    "colab": {
      "name": "1._파이썬 기반의 머신러닝과 생태계 이해(Numpy).ipynb",
      "provenance": [],
      "collapsed_sections": [],
      "authorship_tag": "ABX9TyMOQW+kOhTwCfm8rjIlM8ZN",
      "include_colab_link": true
    },
    "kernelspec": {
      "name": "python3",
      "display_name": "Python 3"
    },
    "language_info": {
      "name": "python"
    }
  },
  "cells": [
    {
      "cell_type": "markdown",
      "metadata": {
        "id": "view-in-github",
        "colab_type": "text"
      },
      "source": [
        "<a href=\"https://colab.research.google.com/github/highway92/machine_learning/blob/main/%ED%8C%8C%EC%9D%B4%EC%8D%AC%EB%A8%B8%EC%8B%A0%EB%9F%AC%EB%8B%9D%EC%99%84%EB%B2%BD%EA%B0%80%EC%9D%B4%EB%93%9C/1__%ED%8C%8C%EC%9D%B4%EC%8D%AC_%EA%B8%B0%EB%B0%98%EC%9D%98_%EB%A8%B8%EC%8B%A0%EB%9F%AC%EB%8B%9D%EA%B3%BC_%EC%83%9D%ED%83%9C%EA%B3%84_%EC%9D%B4%ED%95%B4(Numpy).ipynb\" target=\"_parent\"><img src=\"https://colab.research.google.com/assets/colab-badge.svg\" alt=\"Open In Colab\"/></a>"
      ]
    },
    {
      "cell_type": "code",
      "metadata": {
        "colab": {
          "base_uri": "https://localhost:8080/"
        },
        "id": "silV-OVlyIjc",
        "outputId": "0afdf5e2-3df5-40e1-e220-e3aa0348c3eb"
      },
      "source": [
        "import numpy as np\n",
        "\n",
        "array1 = np.array([1,2,3])\n",
        "print(f\"array1 type: {type(array1)}\")\n",
        "print(f\"array1 array 형태: {array1.shape}\")\n",
        "\n",
        "\n",
        "array2 = np.array([[1,2,3],[2,3,4]])\n",
        "print(f\"array2 type: {type(array2)}\")\n",
        "print(f\"array2 array 형태: {array2.shape}\")\n",
        "\n",
        "array3 = np.array([[1,2,3]])\n",
        "print(f\"array3 type: {type(array3)}\")\n",
        "print(f\"array3 array 형태: {array3.shape}\")\n",
        "\n",
        "# ndarray로 변환을 원하는 객체를 인자로 입력하면 변환하여 반환합니다.\n",
        "# ndarray.shape는 ndarray의 차원과 크기를 튜플형태로 나타내 줍니다.\n",
        "\n",
        "print('array1 : {}차원, array2 : {}차원, array3 : {}차원'.format(array1.ndim,array2.ndim,array3.ndim))\n",
        "\n",
        "# ndim 메서드를 사용하여 자료가 몇 차원의 자료인지 확인해 볼 수도 있습니다."
      ],
      "execution_count": 8,
      "outputs": [
        {
          "output_type": "stream",
          "name": "stdout",
          "text": [
            "array1 type: <class 'numpy.ndarray'>\n",
            "array1 array 형태: (3,)\n",
            "array2 type: <class 'numpy.ndarray'>\n",
            "array2 array 형태: (2, 3)\n",
            "array3 type: <class 'numpy.ndarray'>\n",
            "array3 array 형태: (1, 3)\n",
            "array1 : 1차원, array2 : 2차원, array3 : 2차원\n"
          ]
        }
      ]
    },
    {
      "cell_type": "code",
      "metadata": {
        "colab": {
          "base_uri": "https://localhost:8080/"
        },
        "id": "bE5F5dHc2kou",
        "outputId": "685ab9db-e302-4675-deca-6f41a62a9078"
      },
      "source": [
        "list1 = [1,2,3]\n",
        "print(type(list1))\n",
        "array1 = np.array(list1)\n",
        "print(type(array1))\n",
        "print(array1, array1.dtype)\n",
        "# ndrray는 연산의 특성상 같은 데이터 타입만 가능함, 즉 한 개의 ndarray내 int, float가 공존 할 수 없음\n",
        "\n",
        "list2 = [1, 2, 'test']\n",
        "array2 = np.array(list2)\n",
        "print(array2, array2.dtype)\n",
        "\n",
        "list3 = [1,2,3.0]\n",
        "array3 = np.array(list3)\n",
        "print(array3, array3.dtype)\n",
        "# 만약 다른 데이터 유형이 섞여있다면 데이터 크기가 더 큰 데이터 타입으로 형 변환을 일괄적용합니다.\n"
      ],
      "execution_count": 10,
      "outputs": [
        {
          "output_type": "stream",
          "name": "stdout",
          "text": [
            "<class 'list'>\n",
            "<class 'numpy.ndarray'>\n",
            "[1 2 3] int64\n",
            "['1' '2' 'test'] <U21\n",
            "[1. 2. 3.] float64\n"
          ]
        }
      ]
    },
    {
      "cell_type": "code",
      "metadata": {
        "colab": {
          "base_uri": "https://localhost:8080/"
        },
        "id": "EW8a-2nC35NN",
        "outputId": "9c4b4a81-20dd-49f1-f73c-3e9897eda02f"
      },
      "source": [
        "array_int = np.array([1,2,3])\n",
        "array_float = array_int.astype('float64')\n",
        "print(array_float,array_float.dtype)\n",
        "\n",
        "array_int1 = array_float.astype('int32')\n",
        "print(array_int1,array_int1.dtype)\n",
        "\n",
        "array_float1 = np.array([1.1,2.1,3.1])\n",
        "array_int2 = array_float.astype('int32')\n",
        "print(array_int2, array_int2.dtype)\n",
        "\n",
        "# astype 메서드를 사용하여 형 변환을 해줄 수 있습니다.\n"
      ],
      "execution_count": 11,
      "outputs": [
        {
          "output_type": "stream",
          "name": "stdout",
          "text": [
            "[1. 2. 3.] float64\n",
            "[1 2 3] int32\n",
            "[1 2 3] int32\n"
          ]
        }
      ]
    },
    {
      "cell_type": "code",
      "metadata": {
        "colab": {
          "base_uri": "https://localhost:8080/"
        },
        "id": "uHsEpwhp5APW",
        "outputId": "675f401c-7476-46e9-f4a2-265ea2edfb9c"
      },
      "source": [
        "# 테스트 데이터 생성\n",
        "\n",
        "sequence_array = np.arange(10)\n",
        "print(sequence_array)\n",
        "print(sequence_array.dtype, sequence_array.shape)\n",
        "\n",
        "zero_array = np.zeros((3,2), dtype='int32')\n",
        "print(zero_array)\n",
        "print(zero_array.dtype, zero_array.shape)\n",
        "\n",
        "one_array = np.ones((3,2), dtype = 'int64')\n",
        "print(one_array)\n",
        "print(one_array.dtype, one_array.shape)"
      ],
      "execution_count": 13,
      "outputs": [
        {
          "output_type": "stream",
          "name": "stdout",
          "text": [
            "[0 1 2 3 4 5 6 7 8 9]\n",
            "int64 (10,)\n",
            "[[0 0]\n",
            " [0 0]\n",
            " [0 0]]\n",
            "int32 (3, 2)\n",
            "[[1 1]\n",
            " [1 1]\n",
            " [1 1]]\n",
            "int64 (3, 2)\n"
          ]
        }
      ]
    },
    {
      "cell_type": "code",
      "metadata": {
        "colab": {
          "base_uri": "https://localhost:8080/"
        },
        "id": "RyMISRVl5-nT",
        "outputId": "d63067b7-02f4-4351-bf90-37e9d0f068cb"
      },
      "source": [
        "array1 = np.arange(10)\n",
        "print('array1:\\n', array1)\n",
        "\n",
        "array2 = array1.reshape(2,5)\n",
        "print('array2:\\n', array2)\n",
        "\n",
        "array3 = array1.reshape(5,2)\n",
        "print('array3:\\n', array3)\n",
        "\n",
        "# reshape를 통해 array 차원을 바꿔 줄 수 있다.\n"
      ],
      "execution_count": 14,
      "outputs": [
        {
          "output_type": "stream",
          "name": "stdout",
          "text": [
            "array1:\n",
            " [0 1 2 3 4 5 6 7 8 9]\n",
            "array2:\n",
            " [[0 1 2 3 4]\n",
            " [5 6 7 8 9]]\n",
            "array3:\n",
            " [[0 1]\n",
            " [2 3]\n",
            " [4 5]\n",
            " [6 7]\n",
            " [8 9]]\n"
          ]
        }
      ]
    },
    {
      "cell_type": "code",
      "metadata": {
        "colab": {
          "base_uri": "https://localhost:8080/"
        },
        "id": "p32N6dll7Jj_",
        "outputId": "ed7601f6-ad8c-4315-f618-d9379bc92f57"
      },
      "source": [
        "array1 = np.arange(10)\n",
        "print(array1)\n",
        "\n",
        "array2 = array1.reshape(-1,2)\n",
        "print('array2 shape',array2.shape)\n",
        "\n",
        "array3 = array1.reshape(2,-1)\n",
        "print('array3 shape', array3.shape)\n",
        "# -1인자는 어떤 차원의 ndarray도 2차원의 형태에 맞게 바꿔줍니다. \n",
        "\n"
      ],
      "execution_count": 16,
      "outputs": [
        {
          "output_type": "stream",
          "name": "stdout",
          "text": [
            "[0 1 2 3 4 5 6 7 8 9]\n",
            "array2 shape (5, 2)\n",
            "array3 shape (2, 5)\n"
          ]
        }
      ]
    },
    {
      "cell_type": "code",
      "metadata": {
        "colab": {
          "base_uri": "https://localhost:8080/"
        },
        "id": "y_Z4W1ojACCU",
        "outputId": "4bb42ae8-a640-42e7-d507-b7579d95213c"
      },
      "source": [
        "array1 = np.arange(8)\n",
        "\n",
        "array3d = array1.reshape((2,2,2))\n",
        "print('array3d:\\n', array3d.tolist())\n",
        "\n",
        "# 3차원 ndarray를 2차원 ndarray로 변환\n",
        "array5 = array3d.reshape(-1,1)\n",
        "print('array5:\\n', array5.tolist())\n",
        "print('array5 shape:', array5.shape)\n",
        "\n",
        "array6 = array1.reshape(-1,1)\n",
        "print('array6:\\n', array6.tolist())\n",
        "print('array6 shape:', array6.shape)\n",
        "# -1인자는 reshape (-1,1)와 같은 형태로 자주 사용됩니다.\n",
        "# reshape(-1,1)은 원본 ndarray가 어떤 형태라도 2차원이고, 여러 개의 로우를 가지되 반드시 1개의 컬럼을 가진 형태로 변환됨을 보장합니다."
      ],
      "execution_count": 17,
      "outputs": [
        {
          "output_type": "stream",
          "name": "stdout",
          "text": [
            "array3d:\n",
            " [[[0, 1], [2, 3]], [[4, 5], [6, 7]]]\n",
            "array5:\n",
            " [[0], [1], [2], [3], [4], [5], [6], [7]]\n",
            "array5 shape: (8, 1)\n",
            "array6:\n",
            " [[0], [1], [2], [3], [4], [5], [6], [7]]\n",
            "array6 shape: (8, 1)\n"
          ]
        }
      ]
    },
    {
      "cell_type": "code",
      "metadata": {
        "colab": {
          "base_uri": "https://localhost:8080/"
        },
        "id": "HYlowCdcA-DD",
        "outputId": "279f982d-33fd-4ca2-bfa0-c5ea078f0f04"
      },
      "source": [
        "# 1붜 9까지의 1차원 ndarray 생성\n",
        "\n",
        "array1 = np.arange(start=1, stop=10)\n",
        "print('array1:', array1)\n",
        "\n",
        "# index는 0부터 시작하는 것에 주의\n",
        "\n",
        "value = array1[2]\n",
        "print('value',value)\n",
        "print(type(value))\n",
        "# 슬라이싱이나 값 수정 또한 파이썬 리스트와 동일하게 사용가능 합니다.\n"
      ],
      "execution_count": 18,
      "outputs": [
        {
          "output_type": "stream",
          "name": "stdout",
          "text": [
            "array1: [1 2 3 4 5 6 7 8 9]\n",
            "value 3\n",
            "<class 'numpy.int64'>\n"
          ]
        }
      ]
    },
    {
      "cell_type": "code",
      "metadata": {
        "colab": {
          "base_uri": "https://localhost:8080/"
        },
        "id": "3Iuw-V-tB0w6",
        "outputId": "de61152b-7b3e-4253-d45b-ba18f43fb22b"
      },
      "source": [
        "array1d = np.arange(start=1,stop=10)\n",
        "array2d = array1d.reshape(-1,3)\n",
        "print(array2d)\n",
        "\n",
        "print('(row=0, col=0) index 가리키는 값:', array2d[0,0])\n",
        "print('(row=0, col=1) index 가리키는 값:', array2d[0,1])\n",
        "print('(row=1, col=0) index 가리키는 값:', array2d[1,0])\n",
        "print('(row=2, col=2) index 가리키는 값:', array2d[2,2])\n",
        "# 2차원 리스트의 indexing과 거의 동일하게 사용\n",
        "# 정확히는 row, col이 아닌 axis 0, axis 1이 맞다.\n",
        "# 3차원의 경우 axis0, axis1, axis2를 행, 열, 높이(혹은 가중치)로 이해하는 것이 편하다.\n"
      ],
      "execution_count": 21,
      "outputs": [
        {
          "output_type": "stream",
          "name": "stdout",
          "text": [
            "[[1 2 3]\n",
            " [4 5 6]\n",
            " [7 8 9]]\n",
            "(row=0, col=0) index 가리키는 값: 1\n",
            "(row=0, col=1) index 가리키는 값: 2\n",
            "(row=1, col=0) index 가리키는 값: 4\n",
            "(row=2, col=2) index 가리키는 값: 9\n"
          ]
        }
      ]
    },
    {
      "cell_type": "code",
      "metadata": {
        "colab": {
          "base_uri": "https://localhost:8080/"
        },
        "id": "aJoUUY0cC_ak",
        "outputId": "059d07bf-f0a9-4e24-8749-2c3aaf3f564a"
      },
      "source": [
        "array1 = np.arange(start=1, stop=10)\n",
        "array3 = array1[0:3]\n",
        "print(array3)\n",
        "print(type(array3))\n",
        "\n"
      ],
      "execution_count": 22,
      "outputs": [
        {
          "output_type": "stream",
          "name": "stdout",
          "text": [
            "[1 2 3]\n",
            "<class 'numpy.ndarray'>\n"
          ]
        }
      ]
    },
    {
      "cell_type": "code",
      "metadata": {
        "colab": {
          "base_uri": "https://localhost:8080/"
        },
        "id": "NvZDkzarDpnw",
        "outputId": "f838f80e-670b-4730-8d79-fcae3df87e26"
      },
      "source": [
        "array1d = np.arange(start=1, stop=10)\n",
        "array2d = array1d.reshape(3,3)\n",
        "print('array2d : \\n',array2d)\n",
        "\n",
        "print('array2d[0:2, 0:2] \\n', array2d[0:2, 0:2])\n",
        "print('array2d[1:3, 0:3] \\n', array2d[1:3, 0:3])\n",
        "print('array2d[1:3, :] \\n', array2d[1:3, :])\n",
        "print('array2d[:2, 1:] \\n', array2d[:2, 1:])\n",
        "\n",
        "# 동일하게 axis0, axis1으로 이해 할 수 있다.\n"
      ],
      "execution_count": 25,
      "outputs": [
        {
          "output_type": "stream",
          "name": "stdout",
          "text": [
            "array2d : \n",
            " [[1 2 3]\n",
            " [4 5 6]\n",
            " [7 8 9]]\n",
            "array2d[0:2, 0:2] \n",
            " [[1 2]\n",
            " [4 5]]\n",
            "array2d[1:3, 0:3] \n",
            " [[4 5 6]\n",
            " [7 8 9]]\n",
            "array2d[1:3, :] \n",
            " [[4 5 6]\n",
            " [7 8 9]]\n",
            "array2d[:2, 1:] \n",
            " [[2 3]\n",
            " [5 6]]\n"
          ]
        }
      ]
    },
    {
      "cell_type": "code",
      "metadata": {
        "colab": {
          "base_uri": "https://localhost:8080/"
        },
        "id": "zJrbKwpCFa-W",
        "outputId": "5bd00dae-4859-4e9a-92b9-de0dfc4d279f"
      },
      "source": [
        "# 펜시 인덱싱\n",
        "\n",
        "array1d = np.arange(start=1, stop=10)\n",
        "array2d = array1d.reshape(3,3)\n",
        "\n",
        "array3 = array2d[[0,1], 2]\n",
        "print('array2d[[0,1], 2] =>', array3.tolist())\n",
        "\n",
        "array4 = array2d[[0,1], 0:2]\n",
        "print('array2d[[0,1], 0:2] =>', array4.tolist())\n"
      ],
      "execution_count": 26,
      "outputs": [
        {
          "output_type": "stream",
          "name": "stdout",
          "text": [
            "array2d[[0,1], 2] => [3, 6]\n",
            "array2d[[0,1], 0:2] => [[1, 2], [4, 5]]\n"
          ]
        }
      ]
    },
    {
      "cell_type": "code",
      "metadata": {
        "colab": {
          "base_uri": "https://localhost:8080/"
        },
        "id": "J1FmMloRGCrC",
        "outputId": "0b1fb2d5-20dd-4747-90d3-c95579b1b205"
      },
      "source": [
        "# 불린 인덱싱\n",
        "# 조건 필터링과 검색을 동시에 할 수 있기 때문에 자주 사용됨\n",
        "\n",
        "array1d = np.arange(start=1, stop=10)\n",
        "#[]안에 array1d > 5 Boolean indexing을 적용\n",
        "\n",
        "array3 = array1d[array1d > 5]\n",
        "print('array1d > 5 불린 인덱싱 값:', array3 )\n",
        "\n",
        "array1d > 5\n",
        "# ndarray 객체에 조건식만 붙이면 bool타입의 ndarray를 얻을 수 있다."
      ],
      "execution_count": 28,
      "outputs": [
        {
          "output_type": "stream",
          "name": "stdout",
          "text": [
            "array1d > 5 불린 인덱싱 값: [6 7 8 9]\n"
          ]
        },
        {
          "output_type": "execute_result",
          "data": {
            "text/plain": [
              "array([False, False, False, False, False,  True,  True,  True,  True])"
            ]
          },
          "metadata": {},
          "execution_count": 28
        }
      ]
    },
    {
      "cell_type": "code",
      "metadata": {
        "colab": {
          "base_uri": "https://localhost:8080/"
        },
        "id": "9JYvpRPYNBWy",
        "outputId": "a4115b39-9055-4cbd-b709-f898bd1b7657"
      },
      "source": [
        "org_array = np.array([3,1,9,5])\n",
        "print('원본 행렬:', org_array)\n",
        "#np.sort()의 경우 원 행렬은 그대로 유지한 채 정렬된 행렬 return\n",
        "sort_array1 = np.sort(org_array)\n",
        "print('np.sort() 호출 후 반환된 정렬 행렬:', sort_array1)\n",
        "#ndarray.sort()의 경우 반환 값은 None이고 원 행렬을 정렬함\n",
        "sort_array2 = org_array.sort()\n",
        "print('org_array.sort() 호출 후 반환된 행렬:', sort_array2)\n",
        "print('org_array.sort() 원본 행렬:', org_array)\n",
        "\n",
        "# 내림차순 정렬의 경우 np.sort(org_array)[::-1]을 사용한다.\n"
      ],
      "execution_count": 30,
      "outputs": [
        {
          "output_type": "stream",
          "name": "stdout",
          "text": [
            "원본 행렬: [3 1 9 5]\n",
            "np.sort() 호출 후 반환된 정렬 행렬: [1 3 5 9]\n",
            "org_array.sort() 호출 후 반환된 행렬: None\n",
            "org_array.sort() 원본 행렬: [1 3 5 9]\n"
          ]
        }
      ]
    },
    {
      "cell_type": "code",
      "metadata": {
        "colab": {
          "base_uri": "https://localhost:8080/"
        },
        "id": "erpI8Tw6OPED",
        "outputId": "23e17fd8-292f-4585-a008-6d7b579e8942"
      },
      "source": [
        "#행렬이 2차원 이상일 경우 axis를 기준으로 정렬할 수 있다.\n",
        "array2d = np.array([[8,12],[7,1]])\n",
        "sort_array2d_axis0 = np.sort(array2d, axis=0)\n",
        "print('로우 방향으로 정렬: \\n', sort_array2d_axis0)\n",
        "sort_array2d_axis1 = np.sort(array2d, axis=1)\n",
        "print('컬럼 방향으로 정렬: \\n', sort_array2d_axis1)\n"
      ],
      "execution_count": 32,
      "outputs": [
        {
          "output_type": "stream",
          "name": "stdout",
          "text": [
            "로우 방향으로 정렬: \n",
            " [[ 7  1]\n",
            " [ 8 12]]\n",
            "컬럼 방향으로 정렬: \n",
            " [[ 8 12]\n",
            " [ 1  7]]\n"
          ]
        }
      ]
    },
    {
      "cell_type": "code",
      "metadata": {
        "colab": {
          "base_uri": "https://localhost:8080/"
        },
        "id": "3u7sVeQ_PAgy",
        "outputId": "63de2e8e-1c0e-4ea2-953e-757f33bcdb5a"
      },
      "source": [
        "# 원본 행렬이 정렬 되었을 때 기존 원본 행렬의 원소에 대한 인덱스를 필요로 할때 np.argsort()를 이용함.\n",
        "org_array = np.array([3,1,9,5])\n",
        "sort_indices = np.argsort(org_array)\n",
        "print(type(sort_indices))\n",
        "print('행렬 정렬 시 원본 행렬의 인덱스:', sort_indices)"
      ],
      "execution_count": 33,
      "outputs": [
        {
          "output_type": "stream",
          "name": "stdout",
          "text": [
            "<class 'numpy.ndarray'>\n",
            "행렬 정렬 시 원본 행렬의 인덱스: [1 0 3 2]\n"
          ]
        }
      ]
    },
    {
      "cell_type": "code",
      "metadata": {
        "colab": {
          "base_uri": "https://localhost:8080/"
        },
        "id": "HmUVoBztPoya",
        "outputId": "a45aeda6-9dde-4e06-d39c-c3ef22107d80"
      },
      "source": [
        "# argsort사용 예시\n",
        "import numpy as np\n",
        "\n",
        "name_array = np.array(['A','B','C','D','E'])\n",
        "score_array = np.array([78,95,84,98,88])\n",
        "sort_indices_asc = np.argsort(score_array)\n",
        "print('성적 오름차순 정렬 시 score_array의 인덱스:', sort_indices_asc)\n",
        "# 펜시 인덱싱으로 조회\n",
        "print('성적 오름차순으로 name_array의 이름 출력:', name_array[sort_indices_asc])"
      ],
      "execution_count": 34,
      "outputs": [
        {
          "output_type": "stream",
          "name": "stdout",
          "text": [
            "성적 오름차순 정렬 시 score_array의 인덱스: [0 2 4 1 3]\n",
            "성적 오름차순으로 name_array의 이름 출력: ['A' 'C' 'E' 'B' 'D']\n"
          ]
        }
      ]
    },
    {
      "cell_type": "code",
      "metadata": {
        "colab": {
          "base_uri": "https://localhost:8080/"
        },
        "id": "UFPfRCtnQ8g6",
        "outputId": "5ed9a51e-1940-4219-f11b-3108e2d70573"
      },
      "source": [
        "# 행렬 내적(행렬 곱)\n",
        "# 행렬 내적의 특성으로 왼쪽 행렬의 열 개수과 오른쪽 행렬의 행 개수가 동일해랴 내적 연산이 가능함.\n",
        "\n",
        "A = np.array([[1,2,3],[4,5,6]])\n",
        "B = np.array([[7,8],[9,10],[11,12]])\n",
        "\n",
        "dot_product = np.dot(A,B)\n",
        "print('행렬 내적 결과 : \\n', dot_product)"
      ],
      "execution_count": 35,
      "outputs": [
        {
          "output_type": "stream",
          "name": "stdout",
          "text": [
            "행렬 내적 결과 : \n",
            " [[ 58  64]\n",
            " [139 154]]\n"
          ]
        }
      ]
    },
    {
      "cell_type": "code",
      "metadata": {
        "colab": {
          "base_uri": "https://localhost:8080/"
        },
        "id": "wswJhfmfSCqU",
        "outputId": "0b9260f4-2454-4114-d78a-e86d34dee0cd"
      },
      "source": [
        "# 전치 행렬\n",
        "# 원 행렬에서 행과 열 위치를 교환한 원소로 구성한 행렬을 그 행렬의 전치 행렬 이라 함.\n",
        "# 즉 2x2 행렬에서 1행 2열의 원소를 2행 1열의 원소와 교환하는 것\n",
        "# transpose()를 사용하여 쉽게 구할 수 있음.\n",
        "\n",
        "A = np.array([[1,2],[3,4]])\n",
        "transpose_mat=np.transpose(A)\n",
        "print('A의 전치행렬: \\n', transpose_mat)"
      ],
      "execution_count": 36,
      "outputs": [
        {
          "output_type": "stream",
          "name": "stdout",
          "text": [
            "A의 전치행렬: \n",
            " [[1 3]\n",
            " [2 4]]\n"
          ]
        }
      ]
    }
  ]
}